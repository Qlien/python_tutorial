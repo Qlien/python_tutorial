{
 "cells": [
  {
   "cell_type": "markdown",
   "metadata": {},
   "source": [
    "#### Zadanie 1"
   ]
  },
  {
   "cell_type": "code",
   "execution_count": null,
   "metadata": {
    "collapsed": true
   },
   "outputs": [],
   "source": [
    "def sum_of_three(...):\n",
    "    return a+b+c"
   ]
  },
  {
   "cell_type": "markdown",
   "metadata": {},
   "source": [
    "Napisz funkcję, która policzy sumę 3 argumentów. Pierwszy ma być pozycjonalny, drugi ma być pozycjonalny z domyślną wartością 0, a trzeci ma być możliwy i konieczny do podania wyłącznie z nazwy."
   ]
  },
  {
   "cell_type": "markdown",
   "metadata": {},
   "source": [
    "Rozwiazanie:"
   ]
  },
  {
   "cell_type": "code",
   "execution_count": null,
   "metadata": {
    "collapsed": true
   },
   "outputs": [],
   "source": [
    "def sum_of_three(a, b = 0, *, c):\n",
    "    return a+b+c"
   ]
  },
  {
   "cell_type": "code",
   "execution_count": null,
   "metadata": {
    "collapsed": true
   },
   "outputs": [],
   "source": [
    "def sum_of_three(a, b = 0, *, c = 0):\n",
    "    return a+b+c"
   ]
  },
  {
   "cell_type": "markdown",
   "metadata": {},
   "source": [
    "#### Zadanie 2"
   ]
  },
  {
   "cell_type": "code",
   "execution_count": null,
   "metadata": {
    "collapsed": true
   },
   "outputs": [],
   "source": [
    "def reverse_dict(d):\n",
    "    \"\"\" Dla podanego słownika zwróć słownik z odwróconą relacją klucz->wartość. \"\"\"\n",
    "    pass"
   ]
  },
  {
   "cell_type": "markdown",
   "metadata": {},
   "source": [
    "Napisz jednolinijkową funkcję która realizuje zadanie ze swojej dokumentacji"
   ]
  },
  {
   "cell_type": "markdown",
   "metadata": {},
   "source": [
    "Rozwiązanie:"
   ]
  },
  {
   "cell_type": "code",
   "execution_count": 12,
   "metadata": {},
   "outputs": [
    {
     "data": {
      "text/plain": [
       "{1: 'a', 3: 'b', 4: 'c'}"
      ]
     },
     "execution_count": 12,
     "metadata": {},
     "output_type": "execute_result"
    }
   ],
   "source": [
    "def reverse_dict(d):\n",
    "    return {v: k for k, v in d.items()}\n",
    "reverse_dict({\"a\": 1, \"b\": 3, \"c\": 4})"
   ]
  },
  {
   "cell_type": "code",
   "execution_count": 11,
   "metadata": {},
   "outputs": [
    {
     "data": {
      "text/plain": [
       "{1: 'a', 3: 'b', 4: 'c'}"
      ]
     },
     "execution_count": 11,
     "metadata": {},
     "output_type": "execute_result"
    }
   ],
   "source": [
    "def reverse_dict(d):\n",
    "    \"\"\" Dla podanego słownika zwróć słownik z odwróconą relacją klucz->wartość. \"\"\"\n",
    "    return dict(zip(d.values(), d.keys()))\n",
    "reverse_dict({\"a\": 1, \"b\": 3, \"c\": 4})\n",
    "# nie ma gwarancji że kolejność będzie dobra"
   ]
  },
  {
   "cell_type": "code",
   "execution_count": 10,
   "metadata": {},
   "outputs": [
    {
     "data": {
      "text/plain": [
       "{1: 'a', 3: 'b', 4: 'c'}"
      ]
     },
     "execution_count": 10,
     "metadata": {},
     "output_type": "execute_result"
    }
   ],
   "source": [
    "def reverse_dict(d):\n",
    "\n",
    "    return dict([v,k] for k,v in d.items())\n",
    "reverse_dict({\"a\": 1, \"b\": 3, \"c\": 4})"
   ]
  },
  {
   "cell_type": "code",
   "execution_count": 14,
   "metadata": {},
   "outputs": [
    {
     "data": {
      "text/plain": [
       "{1: 'a', 3: 'b', 4: 'c'}"
      ]
     },
     "execution_count": 14,
     "metadata": {},
     "output_type": "execute_result"
    }
   ],
   "source": [
    "# serio ???\n",
    "def reverse_dict(d):\n",
    "    return {i[1]:i[0] for i in d.items()}\n",
    "reverse_dict({\"a\": 1, \"b\": 3, \"c\": 4})"
   ]
  },
  {
   "cell_type": "code",
   "execution_count": null,
   "metadata": {
    "collapsed": true
   },
   "outputs": [],
   "source": [
    "# serio ???\n",
    "def reverse_dict(d):\n",
    "    \"\"\" Dla podanego słownika zwróć słownik z odwróconą relacją klucz->wartość. \"\"\"\n",
    "    return {i:j for i,j in zip(d.values(), d.keys())}"
   ]
  },
  {
   "cell_type": "markdown",
   "metadata": {},
   "source": [
    "#### Zadanie 3"
   ]
  },
  {
   "cell_type": "code",
   "execution_count": null,
   "metadata": {
    "collapsed": true
   },
   "outputs": [],
   "source": [
    "def lists_diff(list1, list2):\n",
    "    \"\"\" \n",
    "    Z dwóch list zwróci elementy z pierwszej nie znajdujące się w drugiej\n",
    "    i elementy z drugiej nie znajdujące się w pierwszej. Powtórki powinny zostać zachowane.\n",
    "    \"\"\"\n",
    "    pass"
   ]
  },
  {
   "cell_type": "markdown",
   "metadata": {},
   "source": [
    "Napisz jednolinijkową funkcję która realizuje zadanie ze swojej dokumentacji"
   ]
  },
  {
   "cell_type": "markdown",
   "metadata": {},
   "source": [
    "Rozwiązania:"
   ]
  },
  {
   "cell_type": "code",
   "execution_count": null,
   "metadata": {
    "collapsed": true
   },
   "outputs": [],
   "source": [
    "def lists_diff(list1, list2):\n",
    "    return [x for x in list1 if x not in list2].extend([x for x in list2 if x not in list1])"
   ]
  },
  {
   "cell_type": "code",
   "execution_count": null,
   "metadata": {
    "collapsed": true
   },
   "outputs": [],
   "source": [
    "# nie jest podane co zwróci, więc to rozwiązanie jest ok\n",
    "def lists_diff(list1, list2):\n",
    "    return [x for x in list1 if not x in list2], [y for y in list2 if not y in list1]"
   ]
  },
  {
   "cell_type": "code",
   "execution_count": null,
   "metadata": {
    "collapsed": true
   },
   "outputs": [],
   "source": [
    "def lists_diff(list1, list2):\n",
    "    return [elem for elem in list1 if elem not in list2 ] + [elem for elem in list2 if elem not in list1 ]"
   ]
  },
  {
   "cell_type": "markdown",
   "metadata": {},
   "source": [
    "#### Zadanie 4"
   ]
  },
  {
   "cell_type": "code",
   "execution_count": null,
   "metadata": {
    "collapsed": true
   },
   "outputs": [],
   "source": [
    "def rests_of_list(input_list):\n",
    "    \"\"\"\n",
    "    Zwróć słownik który każdemu elementowi z listy przypisze listę złożoną z pozostałych \n",
    "    elementów. Można założyć, że elementy się nie powtarzają \n",
    "    \"\"\"\n",
    "    pass"
   ]
  },
  {
   "cell_type": "markdown",
   "metadata": {},
   "source": [
    "Napisz jednolinijkową funkcję która realizuje zadanie ze swojej dokumentacji"
   ]
  },
  {
   "cell_type": "markdown",
   "metadata": {},
   "source": [
    "#### Zadanie 5"
   ]
  },
  {
   "cell_type": "code",
   "execution_count": null,
   "metadata": {
    "collapsed": true
   },
   "outputs": [],
   "source": [
    "def my_zip(...):\n",
    "    pass"
   ]
  },
  {
   "cell_type": "markdown",
   "metadata": {},
   "source": [
    "Zaimplementuj własną funkcję zip, nie korzystając z oryginalnego zip-a. Proszę zwrócić uwagę że zip zwraca generator."
   ]
  },
  {
   "cell_type": "markdown",
   "metadata": {},
   "source": [
    "#### Zadanie 6"
   ]
  },
  {
   "cell_type": "markdown",
   "metadata": {},
   "source": [
    "Napisz funkcje concat która będzie robić konkatencje dowolnej ilości list, a następnie napisz funkcję flatten która będzie scalać listę list. Funkcja flatten ma być zaimplementowana przez wykorzystanie funkcji concat."
   ]
  },
  {
   "cell_type": "code",
   "execution_count": null,
   "metadata": {
    "collapsed": true
   },
   "outputs": [],
   "source": [
    "def concat(*lists):\n",
    "    pass\n",
    "\n",
    "def flatten(lists):\n",
    "    pass"
   ]
  },
  {
   "cell_type": "markdown",
   "metadata": {},
   "source": [
    "#### Zadanie 7"
   ]
  },
  {
   "cell_type": "markdown",
   "metadata": {},
   "source": [
    "Zaimplementuj dekorator wait, tak aby opóźnić wywołanie dowolnej funckji o jedną sekunde."
   ]
  },
  {
   "cell_type": "code",
   "execution_count": null,
   "metadata": {
    "collapsed": true
   },
   "outputs": [],
   "source": [
    "from time import sleep \n",
    "\n",
    "def wait(...):\n",
    "    pass"
   ]
  },
  {
   "cell_type": "markdown",
   "metadata": {},
   "source": [
    "Testy:"
   ]
  },
  {
   "cell_type": "code",
   "execution_count": null,
   "metadata": {
    "collapsed": true
   },
   "outputs": [],
   "source": [
    "import time \n",
    "\n",
    "@wait\n",
    "def foo(): \n",
    "    pass \n",
    "\n",
    "for _ in range(5):\n",
    "    start_time = time.time() \n",
    "    foo()\n",
    "    print(\"--- %s seconds ---\" % (time.time() - start_time))\n",
    "\n",
    "@wait\n",
    "def foo2(i): \n",
    "    return i \n",
    "\n",
    "for i in range(5): \n",
    "    start_time = time.time()\n",
    "    assert i == foo(i)\n",
    "    print(\"--- %s seconds ---\" % (time.time() - start_time))"
   ]
  },
  {
   "cell_type": "markdown",
   "metadata": {},
   "source": [
    "#### Zadanie 8"
   ]
  },
  {
   "cell_type": "markdown",
   "metadata": {},
   "source": [
    "Zaimplementuj dekorator tag do dekorowania funkcji zwracających stringi, który ma dwie funkcjonalności:\n",
    "\n",
    "- sprawdza czy zwrócony przez udekorowaną funkcje obiekt jest jednym stringiem, w przeciwnym przypadku należy rzucić TypeError,\n",
    "- otacza go html'owe tagi zgodnie z podanym parametrem dekoratora, np użycie @tag('p') na funkcji, która zwraca stringa lorem ipsum sprawi, że zwrócony zostanie string `<p>lorem ipsum</p>`.\n",
    "\n",
    "\n",
    "Zakładamy, że dekorator będzie zawsze wywołany z podanym argumentem."
   ]
  },
  {
   "cell_type": "code",
   "execution_count": null,
   "metadata": {
    "collapsed": true
   },
   "outputs": [],
   "source": [
    "def tag(...):\n",
    "    pass"
   ]
  },
  {
   "cell_type": "markdown",
   "metadata": {},
   "source": [
    "Testy:"
   ]
  },
  {
   "cell_type": "code",
   "execution_count": null,
   "metadata": {
    "collapsed": true
   },
   "outputs": [],
   "source": [
    "@tag('p')\n",
    "def foo(x):\n",
    "    return x\n",
    "\n",
    "assert foo(\"Hello World\") == \"<p>Hello World</p>\"\n",
    "\n",
    "@tag('body')\n",
    "def foo2(x):\n",
    "    return x\n",
    "\n",
    "assert foo2(\"Hello World\") == \"<body>Hello World</body>\"\n",
    "\n",
    "@tag('z')\n",
    "def foo3(x):\n",
    "    return x \n",
    "\n",
    "try:\n",
    "    foo(['test'])\n",
    "except TypeError:\n",
    "    pass\n",
    "else:\n",
    "    raise AssertionError(\"Blad!\")"
   ]
  },
  {
   "cell_type": "markdown",
   "metadata": {},
   "source": [
    "#### Zadanie 9"
   ]
  },
  {
   "cell_type": "markdown",
   "metadata": {},
   "source": [
    "W wyniku działania poniższego programu"
   ]
  },
  {
   "cell_type": "code",
   "execution_count": null,
   "metadata": {
    "collapsed": true
   },
   "outputs": [],
   "source": [
    "def multipliers(): \n",
    "    return [lambda x : i * x for i in range(4)] \n",
    "\n",
    "print([m(2) for m in multipliers()])"
   ]
  },
  {
   "cell_type": "markdown",
   "metadata": {},
   "source": [
    "otrzymano output\n",
    "[6, 6, 6, 6]\n",
    "\n",
    "zamiast zamierzonego\n",
    "[0, 2, 4, 6]\n",
    "\n",
    "\n",
    "\n",
    "Napraw powyższy kod. \n",
    "UWAGA: Nie należy usuwać słówka lambda!!!"
   ]
  },
  {
   "cell_type": "markdown",
   "metadata": {},
   "source": [
    "#### Zadanie 10"
   ]
  },
  {
   "cell_type": "markdown",
   "metadata": {},
   "source": [
    "W wyniku działania poniższego programu"
   ]
  },
  {
   "cell_type": "code",
   "execution_count": null,
   "metadata": {
    "collapsed": true
   },
   "outputs": [],
   "source": [
    "def trojki(lista):\n",
    "    pass\n",
    "\n",
    "v = [1, 2, 3, 4, 5, 6]\n",
    "t = trojki(v)\n",
    "\n",
    "print(next(t))\n",
    "print(next(t))\n",
    "print(next(t))"
   ]
  },
  {
   "cell_type": "markdown",
   "metadata": {},
   "source": [
    "należy otrzymać"
   ]
  },
  {
   "cell_type": "code",
   "execution_count": null,
   "metadata": {
    "collapsed": true
   },
   "outputs": [],
   "source": [
    "[1, 2, 3]\n",
    "[2, 3, 4]\n",
    "[3, 4, 5]"
   ]
  },
  {
   "cell_type": "markdown",
   "metadata": {},
   "source": [
    "#### Zadanie 11"
   ]
  },
  {
   "cell_type": "markdown",
   "metadata": {},
   "source": [
    "Odległość $L^p$"
   ]
  },
  {
   "cell_type": "markdown",
   "metadata": {},
   "source": [
    "UWAGA: Proszę podać dwie implementacje: jedną wykorzystjącą reduce i drugą nie używającą map, filter, reduce\n",
    "\n",
    "\n",
    "\n",
    "Testy:"
   ]
  },
  {
   "cell_type": "code",
   "execution_count": null,
   "metadata": {
    "collapsed": true
   },
   "outputs": [],
   "source": [
    "def distance(X, Y, p):\n",
    "    pass\n",
    "\n",
    "import math\n",
    "assert distance([0,0],[1,1],2)== math.sqrt(2)\n",
    "assert distance([1,1,1],[1,1,5],4)==4.0"
   ]
  },
  {
   "cell_type": "markdown",
   "metadata": {},
   "source": [
    "#### Zadanie 12"
   ]
  },
  {
   "cell_type": "markdown",
   "metadata": {},
   "source": [
    "Zaimplementuj dekorator single_runner do dekorowania funkcji, który zapewni, że dekorowana funkcja zostanie uruchomiona tylko raz w trakcie trwania programu.\n",
    "\n",
    "Przy ponownym uruchomieniu zostanie zwrócona wartość pierwszego uruchomienia."
   ]
  },
  {
   "cell_type": "code",
   "execution_count": null,
   "metadata": {
    "collapsed": true
   },
   "outputs": [],
   "source": [
    "def single_runner(...):\n",
    "    pass"
   ]
  },
  {
   "cell_type": "markdown",
   "metadata": {},
   "source": [
    "Testy:"
   ]
  },
  {
   "cell_type": "code",
   "execution_count": null,
   "metadata": {
    "collapsed": true
   },
   "outputs": [],
   "source": [
    "@single_runner\n",
    "def foo(x):\n",
    "    print(\"Funkcja została wywołana\")\n",
    "\n",
    "foo(12)  # zostanie wypisany tekst\n",
    "foo(8)  # nic się nie stanie"
   ]
  },
  {
   "cell_type": "markdown",
   "metadata": {},
   "source": [
    "#### Zadanie 13"
   ]
  },
  {
   "cell_type": "markdown",
   "metadata": {},
   "source": [
    "Zaimplementuj funkcję zwracającą iterator, który w każdym kroku zwaraca numer kroku oraz odpowadajace wartości z dwóch list. Wykorzystaj znane Ci iteratory\n",
    "\n",
    "UWAGA: Nie można korzystać z enumerate oraz rozwiązanie ma być jednolinijkowe."
   ]
  },
  {
   "cell_type": "code",
   "execution_count": null,
   "metadata": {
    "collapsed": true
   },
   "outputs": [],
   "source": [
    "def no_doublet(v1, v2):\n",
    "    pass"
   ]
  },
  {
   "cell_type": "markdown",
   "metadata": {},
   "source": [
    "Testy:"
   ]
  },
  {
   "cell_type": "code",
   "execution_count": null,
   "metadata": {
    "collapsed": true
   },
   "outputs": [],
   "source": [
    "t = no_doublet([1,2,3,4], [6,7,7])\n",
    "print(next(t))  # => (0,1,6)\n",
    "print(next(t))  # => (1,2,7)"
   ]
  },
  {
   "cell_type": "markdown",
   "metadata": {},
   "source": [
    "#### Zadanie 14"
   ]
  },
  {
   "cell_type": "markdown",
   "metadata": {},
   "source": [
    "Napisz generator, który zwróci tylko wybrane elementy z listy. "
   ]
  },
  {
   "cell_type": "code",
   "execution_count": null,
   "metadata": {
    "collapsed": true
   },
   "outputs": [],
   "source": [
    "def select(iterable, selected):\n",
    "    pass"
   ]
  },
  {
   "cell_type": "markdown",
   "metadata": {},
   "source": [
    "Lista selected może mieć rozmiar różny od kontenera iterable.\n",
    "\n",
    "Testy:"
   ]
  },
  {
   "cell_type": "code",
   "execution_count": null,
   "metadata": {
    "collapsed": true
   },
   "outputs": [],
   "source": [
    "letters = 'ABCDEFGHIJ'\n",
    "selected = [True, False, True, False, True, True]\n",
    "\n",
    "g = select(letters, selected)\n",
    "\n",
    "print(next(g))  # => A\n",
    "print(next(g))  # => C"
   ]
  },
  {
   "cell_type": "markdown",
   "metadata": {},
   "source": [
    "#### Zadanie 15"
   ]
  },
  {
   "cell_type": "markdown",
   "metadata": {},
   "source": [
    "Wykorzystując filter napisz funkcję zwracającą iterator po kombinacjach które nie zawierająć pierwszego i ostatniego elementu pierwotnej listy"
   ]
  },
  {
   "cell_type": "code",
   "execution_count": null,
   "metadata": {
    "collapsed": true
   },
   "outputs": [],
   "source": [
    "def foo(iterable, n):\n",
    "    pass"
   ]
  },
  {
   "cell_type": "markdown",
   "metadata": {},
   "source": [
    "Testy:"
   ]
  },
  {
   "cell_type": "code",
   "execution_count": null,
   "metadata": {
    "collapsed": true
   },
   "outputs": [],
   "source": [
    "# Wszystkie kombinacja trójelementowe kontenera 'ABCDE' to:\n",
    "# [\n",
    "#    ('A', 'B', 'C'), \n",
    "#    ('A', 'B', 'D'), \n",
    "#    ('A', 'B', 'E'), \n",
    "#    ('A', 'C', 'D'), \n",
    "#    ('A', 'C', 'E'), \n",
    "#    ('A', 'D', 'E'), \n",
    "#    ('B', 'C', 'D'), \n",
    "#    ('B', 'C', 'E'), \n",
    "#    ('B', 'D', 'E'), \n",
    "#    ('C', 'D', 'E')\n",
    "# ]\n",
    "\n",
    "print(list(foo('ABCDE', 3))  # => [('B', 'C', 'D')]"
   ]
  },
  {
   "cell_type": "markdown",
   "metadata": {},
   "source": [
    "#### Zadanei 21"
   ]
  },
  {
   "cell_type": "markdown",
   "metadata": {},
   "source": [
    "Przepisz podaną funkcją tak, aby działała szybciej."
   ]
  },
  {
   "cell_type": "code",
   "execution_count": null,
   "metadata": {
    "collapsed": true
   },
   "outputs": [],
   "source": [
    "def var(vals):\n",
    "    \"\"\"Zwraca wariancje liczb\"\"\"\n",
    "    return sum((x-sum(vals))**2/len(vals) for x in vals)/len(vals)"
   ]
  },
  {
   "cell_type": "markdown",
   "metadata": {},
   "source": [
    "Rozwiązanie"
   ]
  },
  {
   "cell_type": "code",
   "execution_count": 1,
   "metadata": {},
   "outputs": [
    {
     "name": "stdout",
     "output_type": "stream",
     "text": [
      "8.37 ms ± 87.5 µs per loop (mean ± std. dev. of 7 runs, 100 loops each)\n"
     ]
    }
   ],
   "source": [
    "%%timeit\n",
    "def var(vals):\n",
    "    \"\"\"Zwraca wariancje liczb\"\"\"\n",
    "    return sum((x-sum(vals))**2/len(vals) for x in vals)/len(vals)\n",
    "\n",
    "var([0]*1000)"
   ]
  },
  {
   "cell_type": "code",
   "execution_count": 2,
   "metadata": {},
   "outputs": [
    {
     "name": "stdout",
     "output_type": "stream",
     "text": [
      "145 µs ± 919 ns per loop (mean ± std. dev. of 7 runs, 10000 loops each)\n"
     ]
    }
   ],
   "source": [
    "%%timeit\n",
    "def var(vals):\n",
    "    \"\"\"Zwraca wariancje liczb\"\"\"\n",
    "    len_ = len(vals)\n",
    "    sum_ = sum(vals)\n",
    "    return sum((x-sum_)*(x-sum_)/len_ for x in vals)/len_\n",
    "\n",
    "var([0]*1000)"
   ]
  },
  {
   "cell_type": "code",
   "execution_count": 15,
   "metadata": {},
   "outputs": [
    {
     "name": "stdout",
     "output_type": "stream",
     "text": [
      "2.46 ms ± 19 µs per loop (mean ± std. dev. of 7 runs, 100 loops each)\n"
     ]
    }
   ],
   "source": [
    "%%timeit\n",
    "import statistics\n",
    "\n",
    "def var(vals):\n",
    "\n",
    "    \"\"\"Zwraca wariancje liczb\"\"\"\n",
    "\n",
    "    return statistics.variance(vals)\n",
    "\n",
    "var([0]*1000)"
   ]
  },
  {
   "cell_type": "code",
   "execution_count": 4,
   "metadata": {},
   "outputs": [
    {
     "name": "stdout",
     "output_type": "stream",
     "text": [
      "8.54 ms ± 60.7 µs per loop (mean ± std. dev. of 7 runs, 100 loops each)\n"
     ]
    }
   ],
   "source": [
    "%%timeit\n",
    "from functools import reduce\n",
    "def var(vals):\n",
    "\n",
    "    \"\"\"Zwraca wariancje liczb\"\"\"\n",
    "\n",
    "    return reduce(lambda x, y: x + y, map(lambda x: x - sum(vals) ** 2 / len(vals), vals)) / len(vals)\n",
    "\n",
    "var([0]*1000)"
   ]
  },
  {
   "cell_type": "code",
   "execution_count": 5,
   "metadata": {},
   "outputs": [
    {
     "ename": "AttributeError",
     "evalue": "module 'statsmodels.compat.scipy' has no attribute 'stats'",
     "output_type": "error",
     "traceback": [
      "\u001b[1;31m---------------------------------------------------------------------------\u001b[0m",
      "\u001b[1;31mAttributeError\u001b[0m                            Traceback (most recent call last)",
      "\u001b[1;32m<ipython-input-5-6d878dabb579>\u001b[0m in \u001b[0;36m<module>\u001b[1;34m()\u001b[0m\n\u001b[1;32m----> 1\u001b[1;33m \u001b[0mget_ipython\u001b[0m\u001b[1;33m(\u001b[0m\u001b[1;33m)\u001b[0m\u001b[1;33m.\u001b[0m\u001b[0mrun_cell_magic\u001b[0m\u001b[1;33m(\u001b[0m\u001b[1;34m'timeit'\u001b[0m\u001b[1;33m,\u001b[0m \u001b[1;34m''\u001b[0m\u001b[1;33m,\u001b[0m \u001b[1;34m'from statsmodels.compat import scipy\\n\\ndef var(vals):\\n\\n    \"\"\"Zwraca wariancje liczb\"\"\"\\n\\n    return scipy.stats.variation(vals)\\n\\nvar([0]*1000)'\u001b[0m\u001b[1;33m)\u001b[0m\u001b[1;33m\u001b[0m\u001b[0m\n\u001b[0m",
      "\u001b[1;32me:\\github\\python_tutorial_env\\lib\\site-packages\\IPython\\core\\interactiveshell.py\u001b[0m in \u001b[0;36mrun_cell_magic\u001b[1;34m(self, magic_name, line, cell)\u001b[0m\n\u001b[0;32m   2101\u001b[0m             \u001b[0mmagic_arg_s\u001b[0m \u001b[1;33m=\u001b[0m \u001b[0mself\u001b[0m\u001b[1;33m.\u001b[0m\u001b[0mvar_expand\u001b[0m\u001b[1;33m(\u001b[0m\u001b[0mline\u001b[0m\u001b[1;33m,\u001b[0m \u001b[0mstack_depth\u001b[0m\u001b[1;33m)\u001b[0m\u001b[1;33m\u001b[0m\u001b[0m\n\u001b[0;32m   2102\u001b[0m             \u001b[1;32mwith\u001b[0m \u001b[0mself\u001b[0m\u001b[1;33m.\u001b[0m\u001b[0mbuiltin_trap\u001b[0m\u001b[1;33m:\u001b[0m\u001b[1;33m\u001b[0m\u001b[0m\n\u001b[1;32m-> 2103\u001b[1;33m                 \u001b[0mresult\u001b[0m \u001b[1;33m=\u001b[0m \u001b[0mfn\u001b[0m\u001b[1;33m(\u001b[0m\u001b[0mmagic_arg_s\u001b[0m\u001b[1;33m,\u001b[0m \u001b[0mcell\u001b[0m\u001b[1;33m)\u001b[0m\u001b[1;33m\u001b[0m\u001b[0m\n\u001b[0m\u001b[0;32m   2104\u001b[0m             \u001b[1;32mreturn\u001b[0m \u001b[0mresult\u001b[0m\u001b[1;33m\u001b[0m\u001b[0m\n\u001b[0;32m   2105\u001b[0m \u001b[1;33m\u001b[0m\u001b[0m\n",
      "\u001b[1;32m<decorator-gen-62>\u001b[0m in \u001b[0;36mtimeit\u001b[1;34m(self, line, cell)\u001b[0m\n",
      "\u001b[1;32me:\\github\\python_tutorial_env\\lib\\site-packages\\IPython\\core\\magic.py\u001b[0m in \u001b[0;36m<lambda>\u001b[1;34m(f, *a, **k)\u001b[0m\n\u001b[0;32m    185\u001b[0m     \u001b[1;31m# but it's overkill for just that one bit of state.\u001b[0m\u001b[1;33m\u001b[0m\u001b[1;33m\u001b[0m\u001b[0m\n\u001b[0;32m    186\u001b[0m     \u001b[1;32mdef\u001b[0m \u001b[0mmagic_deco\u001b[0m\u001b[1;33m(\u001b[0m\u001b[0marg\u001b[0m\u001b[1;33m)\u001b[0m\u001b[1;33m:\u001b[0m\u001b[1;33m\u001b[0m\u001b[0m\n\u001b[1;32m--> 187\u001b[1;33m         \u001b[0mcall\u001b[0m \u001b[1;33m=\u001b[0m \u001b[1;32mlambda\u001b[0m \u001b[0mf\u001b[0m\u001b[1;33m,\u001b[0m \u001b[1;33m*\u001b[0m\u001b[0ma\u001b[0m\u001b[1;33m,\u001b[0m \u001b[1;33m**\u001b[0m\u001b[0mk\u001b[0m\u001b[1;33m:\u001b[0m \u001b[0mf\u001b[0m\u001b[1;33m(\u001b[0m\u001b[1;33m*\u001b[0m\u001b[0ma\u001b[0m\u001b[1;33m,\u001b[0m \u001b[1;33m**\u001b[0m\u001b[0mk\u001b[0m\u001b[1;33m)\u001b[0m\u001b[1;33m\u001b[0m\u001b[0m\n\u001b[0m\u001b[0;32m    188\u001b[0m \u001b[1;33m\u001b[0m\u001b[0m\n\u001b[0;32m    189\u001b[0m         \u001b[1;32mif\u001b[0m \u001b[0mcallable\u001b[0m\u001b[1;33m(\u001b[0m\u001b[0marg\u001b[0m\u001b[1;33m)\u001b[0m\u001b[1;33m:\u001b[0m\u001b[1;33m\u001b[0m\u001b[0m\n",
      "\u001b[1;32me:\\github\\python_tutorial_env\\lib\\site-packages\\IPython\\core\\magics\\execution.py\u001b[0m in \u001b[0;36mtimeit\u001b[1;34m(self, line, cell)\u001b[0m\n\u001b[0;32m   1078\u001b[0m             \u001b[1;32mfor\u001b[0m \u001b[0mindex\u001b[0m \u001b[1;32min\u001b[0m \u001b[0mrange\u001b[0m\u001b[1;33m(\u001b[0m\u001b[1;36m0\u001b[0m\u001b[1;33m,\u001b[0m \u001b[1;36m10\u001b[0m\u001b[1;33m)\u001b[0m\u001b[1;33m:\u001b[0m\u001b[1;33m\u001b[0m\u001b[0m\n\u001b[0;32m   1079\u001b[0m                 \u001b[0mnumber\u001b[0m \u001b[1;33m=\u001b[0m \u001b[1;36m10\u001b[0m \u001b[1;33m**\u001b[0m \u001b[0mindex\u001b[0m\u001b[1;33m\u001b[0m\u001b[0m\n\u001b[1;32m-> 1080\u001b[1;33m                 \u001b[0mtime_number\u001b[0m \u001b[1;33m=\u001b[0m \u001b[0mtimer\u001b[0m\u001b[1;33m.\u001b[0m\u001b[0mtimeit\u001b[0m\u001b[1;33m(\u001b[0m\u001b[0mnumber\u001b[0m\u001b[1;33m)\u001b[0m\u001b[1;33m\u001b[0m\u001b[0m\n\u001b[0m\u001b[0;32m   1081\u001b[0m                 \u001b[1;32mif\u001b[0m \u001b[0mtime_number\u001b[0m \u001b[1;33m>=\u001b[0m \u001b[1;36m0.2\u001b[0m\u001b[1;33m:\u001b[0m\u001b[1;33m\u001b[0m\u001b[0m\n\u001b[0;32m   1082\u001b[0m                     \u001b[1;32mbreak\u001b[0m\u001b[1;33m\u001b[0m\u001b[0m\n",
      "\u001b[1;32me:\\github\\python_tutorial_env\\lib\\site-packages\\IPython\\core\\magics\\execution.py\u001b[0m in \u001b[0;36mtimeit\u001b[1;34m(self, number)\u001b[0m\n\u001b[0;32m    158\u001b[0m         \u001b[0mgc\u001b[0m\u001b[1;33m.\u001b[0m\u001b[0mdisable\u001b[0m\u001b[1;33m(\u001b[0m\u001b[1;33m)\u001b[0m\u001b[1;33m\u001b[0m\u001b[0m\n\u001b[0;32m    159\u001b[0m         \u001b[1;32mtry\u001b[0m\u001b[1;33m:\u001b[0m\u001b[1;33m\u001b[0m\u001b[0m\n\u001b[1;32m--> 160\u001b[1;33m             \u001b[0mtiming\u001b[0m \u001b[1;33m=\u001b[0m \u001b[0mself\u001b[0m\u001b[1;33m.\u001b[0m\u001b[0minner\u001b[0m\u001b[1;33m(\u001b[0m\u001b[0mit\u001b[0m\u001b[1;33m,\u001b[0m \u001b[0mself\u001b[0m\u001b[1;33m.\u001b[0m\u001b[0mtimer\u001b[0m\u001b[1;33m)\u001b[0m\u001b[1;33m\u001b[0m\u001b[0m\n\u001b[0m\u001b[0;32m    161\u001b[0m         \u001b[1;32mfinally\u001b[0m\u001b[1;33m:\u001b[0m\u001b[1;33m\u001b[0m\u001b[0m\n\u001b[0;32m    162\u001b[0m             \u001b[1;32mif\u001b[0m \u001b[0mgcold\u001b[0m\u001b[1;33m:\u001b[0m\u001b[1;33m\u001b[0m\u001b[0m\n",
      "\u001b[1;32m<magic-timeit>\u001b[0m in \u001b[0;36minner\u001b[1;34m(_it, _timer)\u001b[0m\n",
      "\u001b[1;32m<magic-timeit>\u001b[0m in \u001b[0;36mvar\u001b[1;34m(vals)\u001b[0m\n",
      "\u001b[1;31mAttributeError\u001b[0m: module 'statsmodels.compat.scipy' has no attribute 'stats'"
     ]
    }
   ],
   "source": [
    "%%timeit\n",
    "from statsmodels.compat import scipy\n",
    "\n",
    "def var(vals):\n",
    "\n",
    "    \"\"\"Zwraca wariancje liczb\"\"\"\n",
    "\n",
    "    return scipy.stats.variation(vals)\n",
    "\n",
    "var([0]*1000)"
   ]
  },
  {
   "cell_type": "code",
   "execution_count": null,
   "metadata": {
    "collapsed": true
   },
   "outputs": [],
   "source": [
    "!pip install scipy"
   ]
  },
  {
   "cell_type": "code",
   "execution_count": null,
   "metadata": {
    "collapsed": true
   },
   "outputs": [],
   "source": [
    "!pip install numpy"
   ]
  },
  {
   "cell_type": "code",
   "execution_count": null,
   "metadata": {
    "collapsed": true
   },
   "outputs": [],
   "source": [
    "!pip install statsmodels"
   ]
  },
  {
   "cell_type": "code",
   "execution_count": 6,
   "metadata": {},
   "outputs": [
    {
     "name": "stdout",
     "output_type": "stream",
     "text": [
      "83.8 µs ± 314 ns per loop (mean ± std. dev. of 7 runs, 10000 loops each)\n"
     ]
    }
   ],
   "source": [
    "%%timeit\n",
    "import numpy as np\n",
    "\n",
    "def var(vals):\n",
    "    return np.var(vals)\n",
    "\n",
    "var([0]*1000)"
   ]
  },
  {
   "cell_type": "code",
   "execution_count": 7,
   "metadata": {},
   "outputs": [
    {
     "name": "stdout",
     "output_type": "stream",
     "text": [
      "8.44 ms ± 37.8 µs per loop (mean ± std. dev. of 7 runs, 100 loops each)\n"
     ]
    }
   ],
   "source": [
    "%%timeit\n",
    "from functools import reduce\n",
    "\n",
    "def var(vals):\n",
    "    return sum(map((lambda x: (x - sum(vals)) ** 2 / len(vals)), list(w for w in vals)))/len(vals)\n",
    "\n",
    "var([0]*1000)"
   ]
  },
  {
   "cell_type": "code",
   "execution_count": 8,
   "metadata": {},
   "outputs": [
    {
     "name": "stdout",
     "output_type": "stream",
     "text": [
      "373 µs ± 2.39 µs per loop (mean ± std. dev. of 7 runs, 1000 loops each)\n"
     ]
    }
   ],
   "source": [
    "%%timeit\n",
    "def var(vals):\n",
    "    \"\"\"Zwraca wariancje liczb\"\"\"\n",
    "    s = sum(vals)\n",
    "    return sum((x - s) ** 2 for x in vals) / len(vals) ** 2\n",
    "\n",
    "var([0]*1000)"
   ]
  },
  {
   "cell_type": "code",
   "execution_count": 9,
   "metadata": {},
   "outputs": [
    {
     "name": "stdout",
     "output_type": "stream",
     "text": [
      "85.8 µs ± 1.17 µs per loop (mean ± std. dev. of 7 runs, 10000 loops each)\n"
     ]
    }
   ],
   "source": [
    "%%timeit\n",
    "def var(L):\n",
    "    y_squared_dot = sum(i * i for i in L)\n",
    "    y_dot_squared = sum(L) ** 2\n",
    "    return (y_squared_dot - y_dot_squared / len(L)) / (len(L) - 1)\n",
    "var([0]*1000)"
   ]
  },
  {
   "cell_type": "markdown",
   "metadata": {},
   "source": [
    "#### Zadanie 22"
   ]
  },
  {
   "cell_type": "markdown",
   "metadata": {},
   "source": [
    "Przepisz podaną funkcją tak, aby działała szybciej."
   ]
  },
  {
   "cell_type": "code",
   "execution_count": null,
   "metadata": {
    "collapsed": true
   },
   "outputs": [],
   "source": [
    "def scalar_prod(lista1, lista2):\n",
    "    \"\"\"wylicza iloczyn skalarny\"\"\"\n",
    "    suma = 0\n",
    "    min_len = min(len(lista1), len(lista2))\n",
    "    for i in range(min_len):\n",
    "        suma += lista1[i]*lista2[i]\n",
    "    return suma"
   ]
  },
  {
   "cell_type": "markdown",
   "metadata": {},
   "source": [
    "#### Zadanie 23"
   ]
  },
  {
   "cell_type": "markdown",
   "metadata": {},
   "source": [
    "Podana poniżej jest funkcja count_words zwracająca słownik z ilością występień słów w tekscie znana z ćwiczeń, proszę zaimplementować funckję count_words_faster, która zrobi to samo o przynajmniej rząd wielkości szybciej (nie musi być jednolinijkowa!)."
   ]
  },
  {
   "cell_type": "code",
   "execution_count": null,
   "metadata": {
    "collapsed": true
   },
   "outputs": [],
   "source": [
    "def count_words(text):\n",
    "    return {k: text.split().count(k) for k in set(text.split())}\n",
    "\n",
    "def count_words_faster(text):\n",
    "    pass"
   ]
  },
  {
   "cell_type": "markdown",
   "metadata": {},
   "source": [
    "Testy:"
   ]
  },
  {
   "cell_type": "code",
   "execution_count": null,
   "metadata": {
    "collapsed": true
   },
   "outputs": [],
   "source": [
    "s = \"\"\" \n",
    "Lorem ipsum dolor sit amet consectetur adipiscing elit Duis vel dapibus nisi Vivamus hendrerit massa eu suscipit consequat lacus quam dictum felis id cursus eros lorem vitae augue Nam placerat dapibus malesuada Vestibulum gravida sed eros ut rutrum Quisque nisi tellus posuere vitae ante eu venenatis consectetur magna Ut malesuada diam et nisi convallis a cursus risus vestibulum Aenean est lorem tincidunt ac hendrerit quis ornare eu ex Duis vel tincidunt libero Morbi ac congue libero Donec vel tincidunt orci Nulla egestas feugiat enim sed vehicula Sed eu accumsan tortor convallis egestas justo Ut egestas bibendum aliquam Phasellus laoreet scelerisque neque sed pulvinar Aenean consectetur justo ut semper maximus nulla magna ultrices metus vel scelerisque lacus augue a quam Cras non dignissim turpis id placerat elit Lorem ipsum dolor sit amet consectetur adipiscing elit Duis vel dapibus nisi Vivamus hendrerit massa eu suscipit consequat lacus quam dictum felis id cursus eros lorem vitae augue Nam placerat dapibus malesuada Vestibulum gravida sed eros ut rutrum Quisque nisi tellus posuere vitae ante eu venenatis consectetur magna Ut malesuada diam et nisi convallis a cursus risus vestibulum Aenean est lorem tincidunt ac hendrerit quis ornare eu ex Duis vel tincidunt libero Morbi ac congue libero Donec vel tincidunt orci Nulla egestas feugiat enim sed vehicula Sed eu accumsan tortor convallis egestas justo Ut egestas bibendum aliquam Phasellus laoreet scelerisque neque sed pulvinar Aenean consectetur justo ut semper maximus nulla magna ultrices metus vel scelerisque lacus augue a quam Cras non dignissim turpis id placerat elit\n",
    "\"\"\"\n",
    "\n",
    "assert count_words(s) == count_words_faster(s)\n",
    "\n",
    "\n",
    "import time\n",
    "\n",
    "start_time = time.time()\n",
    "count_words_faster(s)\n",
    "print(\"--- %s seconds ---\" % (time.time() - start_time))\n",
    "\n",
    "start_time = time.time()\n",
    "count_words(s)\n",
    "print(\"--- %s seconds ---\" % (time.time() - start_time))"
   ]
  },
  {
   "cell_type": "markdown",
   "metadata": {},
   "source": [
    "#### Zadanie 24"
   ]
  },
  {
   "cell_type": "markdown",
   "metadata": {},
   "source": [
    "Przeanalizuj poniższe rozwiązanie i przygotuj szybsze o przynajmniej rząd wielkości."
   ]
  },
  {
   "cell_type": "code",
   "execution_count": null,
   "metadata": {
    "collapsed": true
   },
   "outputs": [],
   "source": [
    "def square(number):\n",
    "    return number**2\n",
    "\n",
    "squares = [square(i) for i in rnage(1000)]"
   ]
  }
 ],
 "metadata": {
  "kernelspec": {
   "display_name": "Python 3",
   "language": "python",
   "name": "python3"
  },
  "language_info": {
   "codemirror_mode": {
    "name": "ipython",
    "version": 3
   },
   "file_extension": ".py",
   "mimetype": "text/x-python",
   "name": "python",
   "nbconvert_exporter": "python",
   "pygments_lexer": "ipython3",
   "version": "3.6.2"
  }
 },
 "nbformat": 4,
 "nbformat_minor": 2
}
