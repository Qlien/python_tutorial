{
 "cells": [
  {
   "cell_type": "markdown",
   "metadata": {},
   "source": [
    "#### Zadanie 1 (0-1-2)"
   ]
  },
  {
   "cell_type": "code",
   "execution_count": null,
   "metadata": {
    "collapsed": true
   },
   "outputs": [],
   "source": [
    "def sum_of_three(...):\n",
    "    return a+b+c"
   ]
  },
  {
   "cell_type": "markdown",
   "metadata": {},
   "source": [
    "Napisz funkcję, która policzy sumę 3 argumentów. Pierwszy ma być pozycjonalny, drugi ma być pozycjonalny z domyślną wartością 0, a trzeci ma być możliwy i konieczny do podania wyłącznie z nazwy."
   ]
  },
  {
   "cell_type": "markdown",
   "metadata": {},
   "source": [
    "Rozwiazanie:"
   ]
  },
  {
   "cell_type": "code",
   "execution_count": null,
   "metadata": {
    "collapsed": true
   },
   "outputs": [],
   "source": [
    "def sum_of_three(a, b = 0, *, c):\n",
    "    return a+b+c"
   ]
  },
  {
   "cell_type": "code",
   "execution_count": null,
   "metadata": {
    "collapsed": true
   },
   "outputs": [],
   "source": [
    "def sum_of_three(a, b = 0, *, c = 0):\n",
    "    return a+b+c"
   ]
  },
  {
   "cell_type": "markdown",
   "metadata": {},
   "source": [
    "#### Zadanie 2 (53/63)/0-1-2"
   ]
  },
  {
   "cell_type": "code",
   "execution_count": null,
   "metadata": {
    "collapsed": true
   },
   "outputs": [],
   "source": [
    "def reverse_dict(d):\n",
    "    \"\"\" Dla podanego słownika zwróć słownik z odwróconą relacją klucz->wartość. \"\"\"\n",
    "    pass"
   ]
  },
  {
   "cell_type": "markdown",
   "metadata": {},
   "source": [
    "Napisz jednolinijkową funkcję która realizuje zadanie ze swojej dokumentacji"
   ]
  },
  {
   "cell_type": "markdown",
   "metadata": {},
   "source": [
    "Rozwiązanie:"
   ]
  },
  {
   "cell_type": "code",
   "execution_count": 12,
   "metadata": {},
   "outputs": [
    {
     "data": {
      "text/plain": [
       "{1: 'a', 3: 'b', 4: 'c'}"
      ]
     },
     "execution_count": 12,
     "metadata": {},
     "output_type": "execute_result"
    }
   ],
   "source": [
    "def reverse_dict(d):\n",
    "    return {v: k for k, v in d.items()}\n",
    "reverse_dict({\"a\": 1, \"b\": 3, \"c\": 4})"
   ]
  },
  {
   "cell_type": "code",
   "execution_count": 11,
   "metadata": {},
   "outputs": [
    {
     "data": {
      "text/plain": [
       "{1: 'a', 3: 'b', 4: 'c'}"
      ]
     },
     "execution_count": 11,
     "metadata": {},
     "output_type": "execute_result"
    }
   ],
   "source": [
    "def reverse_dict(d):\n",
    "    \"\"\" Dla podanego słownika zwróć słownik z odwróconą relacją klucz->wartość. \"\"\"\n",
    "    return dict(zip(d.values(), d.keys()))\n",
    "reverse_dict({\"a\": 1, \"b\": 3, \"c\": 4})\n",
    "# nie ma gwarancji że kolejność będzie dobra"
   ]
  },
  {
   "cell_type": "code",
   "execution_count": 10,
   "metadata": {},
   "outputs": [
    {
     "data": {
      "text/plain": [
       "{1: 'a', 3: 'b', 4: 'c'}"
      ]
     },
     "execution_count": 10,
     "metadata": {},
     "output_type": "execute_result"
    }
   ],
   "source": [
    "def reverse_dict(d):\n",
    "\n",
    "    return dict([v,k] for k,v in d.items())\n",
    "reverse_dict({\"a\": 1, \"b\": 3, \"c\": 4})"
   ]
  },
  {
   "cell_type": "code",
   "execution_count": 14,
   "metadata": {},
   "outputs": [
    {
     "data": {
      "text/plain": [
       "{1: 'a', 3: 'b', 4: 'c'}"
      ]
     },
     "execution_count": 14,
     "metadata": {},
     "output_type": "execute_result"
    }
   ],
   "source": [
    "# serio ???\n",
    "def reverse_dict(d):\n",
    "    return {i[1]:i[0] for i in d.items()}\n",
    "reverse_dict({\"a\": 1, \"b\": 3, \"c\": 4})"
   ]
  },
  {
   "cell_type": "code",
   "execution_count": null,
   "metadata": {
    "collapsed": true
   },
   "outputs": [],
   "source": [
    "# serio ???\n",
    "def reverse_dict(d):\n",
    "    \"\"\" Dla podanego słownika zwróć słownik z odwróconą relacją klucz->wartość. \"\"\"\n",
    "    return {i:j for i,j in zip(d.values(), d.keys())}"
   ]
  },
  {
   "cell_type": "markdown",
   "metadata": {},
   "source": [
    "#### Zadanie 3 (45/63)/0-1-2"
   ]
  },
  {
   "cell_type": "code",
   "execution_count": null,
   "metadata": {
    "collapsed": true
   },
   "outputs": [],
   "source": [
    "def lists_diff(list1, list2):\n",
    "    \"\"\" \n",
    "    Z dwóch list zwróci elementy z pierwszej nie znajdujące się w drugiej\n",
    "    i elementy z drugiej nie znajdujące się w pierwszej. Powtórki powinny zostać zachowane.\n",
    "    \"\"\"\n",
    "    pass"
   ]
  },
  {
   "cell_type": "markdown",
   "metadata": {},
   "source": [
    "Napisz jednolinijkową funkcję która realizuje zadanie ze swojej dokumentacji"
   ]
  },
  {
   "cell_type": "markdown",
   "metadata": {},
   "source": [
    "Rozwiązania:"
   ]
  },
  {
   "cell_type": "code",
   "execution_count": 2,
   "metadata": {
    "collapsed": true
   },
   "outputs": [],
   "source": [
    "a=[1,2,3]\n",
    "b=[2,3,4]"
   ]
  },
  {
   "cell_type": "code",
   "execution_count": 13,
   "metadata": {},
   "outputs": [
    {
     "name": "stdout",
     "output_type": "stream",
     "text": [
      "None\n"
     ]
    }
   ],
   "source": [
    "def lists_diff(list1, list2):\n",
    "    return [x for x in list1 if x not in list2].extend([x for x in list2 if x not in list1])\n",
    "print(lists_diff(a,b))\n",
    "# bo extend nie zwraca niczego !!!"
   ]
  },
  {
   "cell_type": "code",
   "execution_count": 5,
   "metadata": {},
   "outputs": [
    {
     "name": "stdout",
     "output_type": "stream",
     "text": [
      "([1], [4])\n"
     ]
    }
   ],
   "source": [
    "# nie jest podane co zwróci, więc to rozwiązanie jest ok\n",
    "def lists_diff(list1, list2):\n",
    "    return [x for x in list1 if not x in list2], [y for y in list2 if not y in list1]\n",
    "print(lists_diff(a,b))"
   ]
  },
  {
   "cell_type": "code",
   "execution_count": 6,
   "metadata": {},
   "outputs": [
    {
     "name": "stdout",
     "output_type": "stream",
     "text": [
      "[1, 4]\n"
     ]
    }
   ],
   "source": [
    "def lists_diff(list1, list2):\n",
    "    return [elem for elem in list1 if elem not in list2 ] + [elem for elem in list2 if elem not in list1 ]\n",
    "print(lists_diff(a,b))"
   ]
  },
  {
   "cell_type": "code",
   "execution_count": 7,
   "metadata": {},
   "outputs": [
    {
     "name": "stdout",
     "output_type": "stream",
     "text": [
      "{1, 4}\n"
     ]
    }
   ],
   "source": [
    "def lists_diff(list1, list2):\n",
    "    return set(list1) ^ set(list2)\n",
    "print(lists_diff(a,b))"
   ]
  },
  {
   "cell_type": "code",
   "execution_count": 14,
   "metadata": {},
   "outputs": [
    {
     "name": "stdout",
     "output_type": "stream",
     "text": [
      "[1, 4]\n"
     ]
    }
   ],
   "source": [
    "def lists_diff(list1, list2):\n",
    "    return [a for a in list1+list2 if (a not in list1) or (a not in list2)]\n",
    "print(lists_diff(a,b))"
   ]
  },
  {
   "cell_type": "code",
   "execution_count": 19,
   "metadata": {
    "scrolled": true
   },
   "outputs": [
    {
     "name": "stdout",
     "output_type": "stream",
     "text": [
      "[1, 4]\n"
     ]
    }
   ],
   "source": [
    "from collections import Counter\n",
    "def lists_diff(list1, list2):\n",
    "    return list((Counter(list1) - Counter(list2)).elements()) + (list((Counter(list2) - Counter(list1)).elements()))\n",
    "print(lists_diff(a,b))"
   ]
  },
  {
   "cell_type": "markdown",
   "metadata": {},
   "source": [
    "#### Zadanie 4 (42/63)/0-1-2"
   ]
  },
  {
   "cell_type": "code",
   "execution_count": null,
   "metadata": {
    "collapsed": true
   },
   "outputs": [],
   "source": [
    "def rests_of_list(input_list):\n",
    "    \"\"\"\n",
    "    Zwróć słownik który każdemu elementowi z listy przypisze listę złożoną z pozostałych \n",
    "    elementów. Można założyć, że elementy się nie powtarzają \n",
    "    \"\"\"\n",
    "    pass"
   ]
  },
  {
   "cell_type": "markdown",
   "metadata": {},
   "source": [
    "Napisz jednolinijkową funkcję która realizuje zadanie ze swojej dokumentacji"
   ]
  },
  {
   "cell_type": "markdown",
   "metadata": {},
   "source": [
    "Rozwiązanie"
   ]
  },
  {
   "cell_type": "code",
   "execution_count": null,
   "metadata": {
    "collapsed": true
   },
   "outputs": [],
   "source": [
    "def rests_of_list(input_list):\n",
    "    return {i: [j for j in input_list if j != i] for i in input_list}"
   ]
  },
  {
   "cell_type": "markdown",
   "metadata": {},
   "source": [
    "#### Zadanie 5                      938/63)/0-1-2-3"
   ]
  },
  {
   "cell_type": "code",
   "execution_count": null,
   "metadata": {
    "collapsed": true
   },
   "outputs": [],
   "source": [
    "def my_zip(...):\n",
    "    pass"
   ]
  },
  {
   "cell_type": "markdown",
   "metadata": {},
   "source": [
    "Zaimplementuj własną funkcję zip, nie korzystając z oryginalnego zip-a. Proszę zwrócić uwagę że zip zwraca generator."
   ]
  },
  {
   "cell_type": "markdown",
   "metadata": {},
   "source": [
    "Rozwiązania"
   ]
  },
  {
   "cell_type": "code",
   "execution_count": 27,
   "metadata": {},
   "outputs": [
    {
     "name": "stdout",
     "output_type": "stream",
     "text": [
      "(1, 3)\n"
     ]
    }
   ],
   "source": [
    "def my_zip(g1, g2): # 2 -punkty\n",
    "    i1 = iter(g1)\n",
    "    i2 = iter(g2)\n",
    "    while True:\n",
    "        yield next(i1), next(i2)\n",
    "v = my_zip([1,2],[3])\n",
    "print(next(v))\n",
    "#print(next(v))"
   ]
  },
  {
   "cell_type": "code",
   "execution_count": 30,
   "metadata": {},
   "outputs": [
    {
     "name": "stdout",
     "output_type": "stream",
     "text": [
      "(1, 3)\n"
     ]
    }
   ],
   "source": [
    "def my_zip(*args):\n",
    "\n",
    "    l = min(len(a) for a in args)\n",
    "\n",
    "    return (tuple(a[i] for a in args) for i in range(l))\n",
    "v = my_zip([1,2],[3])\n",
    "print(next(v))\n",
    "#print(next(v))"
   ]
  },
  {
   "cell_type": "code",
   "execution_count": 31,
   "metadata": {},
   "outputs": [
    {
     "name": "stdout",
     "output_type": "stream",
     "text": [
      "(1, 3)\n"
     ]
    }
   ],
   "source": [
    "def my_zip(*iterables):\n",
    "    iterables = map(iter, iterables)\n",
    "    while iterables:\n",
    "        yield tuple(map(next, iterables))\n",
    "v = my_zip([1,2],[3])\n",
    "print(next(v))"
   ]
  },
  {
   "cell_type": "markdown",
   "metadata": {},
   "source": [
    "#### Zadanie 6 (44/63)/0-1-2"
   ]
  },
  {
   "cell_type": "markdown",
   "metadata": {},
   "source": [
    "Napisz funkcje concat która będzie robić konkatencje dowolnej ilości list, a następnie napisz funkcję flatten która będzie scalać listę list. Funkcja flatten ma być zaimplementowana przez wykorzystanie funkcji concat."
   ]
  },
  {
   "cell_type": "code",
   "execution_count": null,
   "metadata": {
    "collapsed": true
   },
   "outputs": [],
   "source": [
    "def concat(*lists):\n",
    "    pass\n",
    "\n",
    "def flatten(lists):\n",
    "    pass"
   ]
  },
  {
   "cell_type": "markdown",
   "metadata": {},
   "source": [
    "Rozwiązanie"
   ]
  },
  {
   "cell_type": "code",
   "execution_count": null,
   "metadata": {
    "collapsed": true
   },
   "outputs": [],
   "source": [
    "def concat(*lists):\n",
    "    return [e for l in lists for e in l]\n",
    "\n",
    "def flatten(lists):\n",
    "    return concat(*lists)"
   ]
  },
  {
   "cell_type": "code",
   "execution_count": null,
   "metadata": {
    "collapsed": true
   },
   "outputs": [],
   "source": [
    "def concat(*lists):\n",
    "    return sum(lists, [])\n",
    "\n",
    "def flatten(lists):\n",
    "    return concat(*lists)"
   ]
  },
  {
   "cell_type": "markdown",
   "metadata": {},
   "source": [
    "#### Zadanie 7 (45/63)/0-1-2"
   ]
  },
  {
   "cell_type": "markdown",
   "metadata": {},
   "source": [
    "Zaimplementuj dekorator wait, tak aby opóźnić wywołanie dowolnej funckji o jedną sekunde."
   ]
  },
  {
   "cell_type": "code",
   "execution_count": null,
   "metadata": {
    "collapsed": true
   },
   "outputs": [],
   "source": [
    "from time import sleep \n",
    "\n",
    "def wait(...):\n",
    "    pass"
   ]
  },
  {
   "cell_type": "markdown",
   "metadata": {},
   "source": [
    "Testy:"
   ]
  },
  {
   "cell_type": "code",
   "execution_count": null,
   "metadata": {
    "collapsed": true
   },
   "outputs": [],
   "source": [
    "import time \n",
    "\n",
    "@wait\n",
    "def foo(): \n",
    "    pass \n",
    "\n",
    "for _ in range(5):\n",
    "    start_time = time.time() \n",
    "    foo()\n",
    "    print(\"--- %s seconds ---\" % (time.time() - start_time))\n",
    "\n",
    "@wait\n",
    "def foo2(i): \n",
    "    return i \n",
    "\n",
    "for i in range(5): \n",
    "    start_time = time.time()\n",
    "    assert i == foo(i)\n",
    "    print(\"--- %s seconds ---\" % (time.time() - start_time))"
   ]
  },
  {
   "cell_type": "markdown",
   "metadata": {},
   "source": [
    "Rozwiązanie"
   ]
  },
  {
   "cell_type": "code",
   "execution_count": null,
   "metadata": {
    "collapsed": true
   },
   "outputs": [],
   "source": [
    "from time import sleep \n",
    "\n",
    "def wait(f):\n",
    "    def dec(*args, **kwargs):\n",
    "        sleep(1)\n",
    "        return f(*args, **kwargs)\n",
    "    return dec"
   ]
  },
  {
   "cell_type": "markdown",
   "metadata": {},
   "source": [
    "#### Zadanie 8 (29/63)/0-1-2"
   ]
  },
  {
   "cell_type": "markdown",
   "metadata": {},
   "source": [
    "Zaimplementuj dekorator tag do dekorowania funkcji zwracających stringi, który ma dwie funkcjonalności:\n",
    "\n",
    "- sprawdza czy zwrócony przez udekorowaną funkcje obiekt jest jednym stringiem, w przeciwnym przypadku należy rzucić TypeError,\n",
    "- otacza go html'owe tagi zgodnie z podanym parametrem dekoratora, np użycie @tag('p') na funkcji, która zwraca stringa lorem ipsum sprawi, że zwrócony zostanie string `<p>lorem ipsum</p>`.\n",
    "\n",
    "\n",
    "Zakładamy, że dekorator będzie zawsze wywołany z podanym argumentem."
   ]
  },
  {
   "cell_type": "code",
   "execution_count": null,
   "metadata": {
    "collapsed": true
   },
   "outputs": [],
   "source": [
    "def tag(...):\n",
    "    pass"
   ]
  },
  {
   "cell_type": "markdown",
   "metadata": {},
   "source": [
    "Testy:"
   ]
  },
  {
   "cell_type": "code",
   "execution_count": null,
   "metadata": {
    "collapsed": true
   },
   "outputs": [],
   "source": [
    "@tag('p')\n",
    "def foo(x):\n",
    "    return x\n",
    "\n",
    "assert foo(\"Hello World\") == \"<p>Hello World</p>\"\n",
    "\n",
    "@tag('body')\n",
    "def foo2(x):\n",
    "    return x\n",
    "\n",
    "assert foo2(\"Hello World\") == \"<body>Hello World</body>\"\n",
    "\n",
    "@tag('z')\n",
    "def foo3(x):\n",
    "    return x \n",
    "\n",
    "try:\n",
    "    foo(['test'])\n",
    "except TypeError:\n",
    "    pass\n",
    "else:\n",
    "    raise AssertionError(\"Blad!\")"
   ]
  },
  {
   "cell_type": "markdown",
   "metadata": {},
   "source": [
    "Rozwiązanie"
   ]
  },
  {
   "cell_type": "code",
   "execution_count": null,
   "metadata": {
    "collapsed": true
   },
   "outputs": [],
   "source": [
    "def tag(tag_name):\n",
    "    def factory(f):\n",
    "        def decorated(*args, **kwargs):\n",
    "            result = f(*args, **kwargs)\n",
    "            if not isinstance(result, str):\n",
    "                raise TypeError\n",
    "            return '<{}>{}</{}>'.format(tag_name, result, tag_name)\n",
    "        return decorated\n",
    "    return factory"
   ]
  },
  {
   "cell_type": "markdown",
   "metadata": {},
   "source": [
    "#### Zadanie 9 (23/63)/0-1-2"
   ]
  },
  {
   "cell_type": "markdown",
   "metadata": {},
   "source": [
    "W wyniku działania poniższego programu"
   ]
  },
  {
   "cell_type": "code",
   "execution_count": 106,
   "metadata": {},
   "outputs": [
    {
     "name": "stdout",
     "output_type": "stream",
     "text": [
      "[6, 6, 6, 6]\n"
     ]
    }
   ],
   "source": [
    "def multipliers(): \n",
    "    return [lambda x : i * x for i in range(4)] \n",
    "\n",
    "print([m(2) for m in multipliers()])"
   ]
  },
  {
   "cell_type": "markdown",
   "metadata": {},
   "source": [
    "otrzymano output\n",
    "[6, 6, 6, 6]\n",
    "\n",
    "zamiast zamierzonego\n",
    "[0, 2, 4, 6]\n",
    "\n",
    "\n",
    "\n",
    "Napraw powyższy kod. \n",
    "UWAGA: Nie należy usuwać słówka lambda!!!"
   ]
  },
  {
   "cell_type": "markdown",
   "metadata": {},
   "source": [
    "Rozwiązanie"
   ]
  },
  {
   "cell_type": "code",
   "execution_count": 107,
   "metadata": {},
   "outputs": [
    {
     "name": "stdout",
     "output_type": "stream",
     "text": [
      "[0, 2, 4, 6]\n"
     ]
    }
   ],
   "source": [
    "def multipliers(): \n",
    "    return (lambda x : i * x for i in range(4))\n",
    "print([m(2) for m in multipliers()])"
   ]
  },
  {
   "cell_type": "code",
   "execution_count": 108,
   "metadata": {},
   "outputs": [
    {
     "name": "stdout",
     "output_type": "stream",
     "text": [
      "[0, 2, 4, 6]\n"
     ]
    }
   ],
   "source": [
    "def multipliers(): # 1 - za pomysłowość\n",
    "    return [lambda x: 0 * x, lambda x: 1 * x, lambda x: 2 * x, lambda x: 3 *x]\n",
    "print([m(2) for m in multipliers()])"
   ]
  },
  {
   "cell_type": "code",
   "execution_count": 111,
   "metadata": {},
   "outputs": [
    {
     "name": "stdout",
     "output_type": "stream",
     "text": [
      "[0, 2, 4, 6]\n"
     ]
    }
   ],
   "source": [
    "def multipliers():\n",
    "    return [lambda x, i=i: i * x for i in range(4)]\n",
    "print([m(2) for m in multipliers()])"
   ]
  },
  {
   "cell_type": "code",
   "execution_count": 127,
   "metadata": {},
   "outputs": [
    {
     "name": "stdout",
     "output_type": "stream",
     "text": [
      "[0, 2, 4, 6]\n"
     ]
    }
   ],
   "source": [
    "def multipliers(): \n",
    "\n",
    "    return [lambda x, i=i : i * x for i in range(4)]\n",
    "\n",
    "\n",
    "print([m(2) for m in multipliers()])"
   ]
  },
  {
   "cell_type": "markdown",
   "metadata": {},
   "source": [
    "#### Zadanie 10 (42/63)/0-1-2-3"
   ]
  },
  {
   "cell_type": "markdown",
   "metadata": {},
   "source": [
    "W wyniku działania poniższego programu"
   ]
  },
  {
   "cell_type": "code",
   "execution_count": null,
   "metadata": {
    "collapsed": true
   },
   "outputs": [],
   "source": [
    "def trojki(lista):\n",
    "    pass\n",
    "\n",
    "v = [1, 2, 3, 4, 5, 6]\n",
    "t = trojki(v)\n",
    "\n",
    "print(next(t))\n",
    "print(next(t))\n",
    "print(next(t))"
   ]
  },
  {
   "cell_type": "markdown",
   "metadata": {},
   "source": [
    "należy otrzymać"
   ]
  },
  {
   "cell_type": "code",
   "execution_count": null,
   "metadata": {
    "collapsed": true
   },
   "outputs": [],
   "source": [
    "[1, 2, 3]\n",
    "[2, 3, 4]\n",
    "[3, 4, 5]"
   ]
  },
  {
   "cell_type": "markdown",
   "metadata": {},
   "source": [
    "Rozwiązanie"
   ]
  },
  {
   "cell_type": "code",
   "execution_count": 128,
   "metadata": {},
   "outputs": [
    {
     "name": "stdout",
     "output_type": "stream",
     "text": [
      "(1, 2, 3)\n",
      "(2, 3, 4)\n",
      "(3, 4, 5)\n"
     ]
    }
   ],
   "source": [
    "def trojki(lista): # 3 punkty za tee\n",
    "    from itertools import tee\n",
    "    i1, i2, i3 = tee(lista, 3)\n",
    "    next(i2)\n",
    "    next(i3)\n",
    "    next(i3)\n",
    "    return zip(i1, i2, i3)\n",
    "\n",
    "v = [1, 2, 3, 4, 5, 6]\n",
    "t = trojki(v)\n",
    "\n",
    "print(next(t))\n",
    "print(next(t))\n",
    "print(next(t))"
   ]
  },
  {
   "cell_type": "code",
   "execution_count": 16,
   "metadata": {},
   "outputs": [
    {
     "name": "stdout",
     "output_type": "stream",
     "text": [
      "[1, 2, 3]\n",
      "[2, 3, 4]\n",
      "[3, 4, 5]\n"
     ]
    }
   ],
   "source": [
    "def trojki(lista): # 2 punkty\n",
    "    i1 = iter(lista)\n",
    "    i2 = iter(lista)\n",
    "    i3 = iter(lista)\n",
    "    next(i2)\n",
    "    next(i3)\n",
    "    next(i3)\n",
    "    while True:\n",
    "        yield [next(i1), next(i2), next(i3)]\n",
    "v = [1, 2, 3, 4, 5, 6]\n",
    "t = trojki(v)\n",
    "\n",
    "print(next(t))\n",
    "print(next(t))\n",
    "print(next(t))"
   ]
  },
  {
   "cell_type": "code",
   "execution_count": 17,
   "metadata": {},
   "outputs": [
    {
     "name": "stdout",
     "output_type": "stream",
     "text": [
      "[1, 2, 3]\n",
      "[2, 3, 4]\n",
      "[3, 4, 5]\n"
     ]
    }
   ],
   "source": [
    "def trojki(lista): # 2 punkty\n",
    "    for i in range(len(lista) - 2):\n",
    "        yield lista[i:i+3]\n",
    "v = [1, 2, 3, 4, 5, 6]\n",
    "t = trojki(v)\n",
    "\n",
    "print(next(t))\n",
    "print(next(t))\n",
    "print(next(t))        "
   ]
  },
  {
   "cell_type": "markdown",
   "metadata": {},
   "source": [
    "#### Zadanie 11 (23/63)/0-1-2"
   ]
  },
  {
   "cell_type": "markdown",
   "metadata": {},
   "source": [
    "Odległość $L^p$"
   ]
  },
  {
   "cell_type": "markdown",
   "metadata": {},
   "source": [
    "UWAGA: Proszę podać dwie implementacje: jedną wykorzystjącą reduce i drugą nie używającą map, filter, reduce\n",
    "\n",
    "\n",
    "\n",
    "Testy:"
   ]
  },
  {
   "cell_type": "code",
   "execution_count": null,
   "metadata": {
    "collapsed": true
   },
   "outputs": [],
   "source": [
    "def distance(X, Y, p):\n",
    "    pass\n",
    "\n",
    "import math\n",
    "assert distance([0,0],[1,1],2)== math.sqrt(2)\n",
    "assert distance([1,1,1],[1,1,5],4)==4.0"
   ]
  },
  {
   "cell_type": "markdown",
   "metadata": {},
   "source": [
    "Rozwiązania"
   ]
  },
  {
   "cell_type": "code",
   "execution_count": 62,
   "metadata": {
    "collapsed": true
   },
   "outputs": [],
   "source": [
    "def distance(X, Y, p):\n",
    "    return sum([abs(x-y)**p for x,y in zip(X,Y)])**(1/p)\n",
    "import math\n",
    "assert distance([0,0],[1,1],2)== math.sqrt(2)\n",
    "assert distance([1,1,1],[1,1,5],4)==4.0"
   ]
  },
  {
   "cell_type": "code",
   "execution_count": 63,
   "metadata": {
    "collapsed": true
   },
   "outputs": [],
   "source": [
    "def distance(X, Y, p):\n",
    "    from functools import reduce\n",
    "    return reduce(lambda a, b: a + b, (abs(x - y) ** p for (x, y) in zip(X, Y))) ** (1/p)\n",
    "import math\n",
    "assert distance([0,0],[1,1],2)== math.sqrt(2)\n",
    "assert distance([1,1,1],[1,1,5],4)==4.0"
   ]
  },
  {
   "cell_type": "markdown",
   "metadata": {},
   "source": [
    "#### Zadanie 12 (32/63)/0-1-2"
   ]
  },
  {
   "cell_type": "markdown",
   "metadata": {},
   "source": [
    "Zaimplementuj dekorator single_runner do dekorowania funkcji, który zapewni, że dekorowana funkcja zostanie uruchomiona tylko raz w trakcie trwania programu.\n",
    "\n",
    "Przy ponownym uruchomieniu zostanie zwrócona wartość pierwszego uruchomienia."
   ]
  },
  {
   "cell_type": "code",
   "execution_count": null,
   "metadata": {
    "collapsed": true
   },
   "outputs": [],
   "source": [
    "def single_runner(...):\n",
    "    pass"
   ]
  },
  {
   "cell_type": "markdown",
   "metadata": {},
   "source": [
    "Testy:"
   ]
  },
  {
   "cell_type": "code",
   "execution_count": null,
   "metadata": {
    "collapsed": true
   },
   "outputs": [],
   "source": [
    "@single_runner\n",
    "def foo(x):\n",
    "    print(\"Funkcja została wywołana\")\n",
    "\n",
    "foo(12)  # zostanie wypisany tekst\n",
    "foo(8)  # nic się nie stanie"
   ]
  },
  {
   "cell_type": "markdown",
   "metadata": {},
   "source": [
    "Rozwiązanie"
   ]
  },
  {
   "cell_type": "code",
   "execution_count": null,
   "metadata": {
    "collapsed": true
   },
   "outputs": [],
   "source": [
    "def single_runner(f):\n",
    "    def dec(*args, **kwargs):\n",
    "        if not hasattr(f, 'v'):\n",
    "            f.v = f(*args, **kwargs)\n",
    "            return f.v\n",
    "        else:\n",
    "            return f.v\n",
    "    return dec"
   ]
  },
  {
   "cell_type": "code",
   "execution_count": 83,
   "metadata": {},
   "outputs": [
    {
     "name": "stdout",
     "output_type": "stream",
     "text": [
      "11\n",
      "11\n",
      "10\n",
      "10\n"
     ]
    }
   ],
   "source": [
    "class Dec(object):\n",
    "    def __init__(self, f):\n",
    "        self.f = f\n",
    "        self.runs = 0\n",
    "\n",
    "    def __call__(self, *args, **kwargs):\n",
    "        self.runs += 1\n",
    "        if self.runs < 2:\n",
    "            self.a = self.f(*args, **kwargs)\n",
    "            return self.a\n",
    "        else:\n",
    "            return self.a\n",
    "\n",
    "@Dec\n",
    "def foo(i):\n",
    "    return i\n",
    "\n",
    "@Dec\n",
    "def foo1(i):\n",
    "    return i\n",
    "\n",
    "\n",
    "print(foo(11))\n",
    "print(foo(12))\n",
    "print(foo1(10))\n",
    "print(foo1(12))"
   ]
  },
  {
   "cell_type": "markdown",
   "metadata": {},
   "source": [
    "#### Zadanie 13 (25/63)/0-1-2-3"
   ]
  },
  {
   "cell_type": "markdown",
   "metadata": {},
   "source": [
    "Zaimplementuj funkcję zwracającą iterator, który w każdym kroku zwaraca numer kroku oraz odpowadajace wartości z dwóch list. Wykorzystaj znane Ci iteratory\n",
    "\n",
    "UWAGA: Nie można korzystać z enumerate oraz rozwiązanie ma być jednolinijkowe."
   ]
  },
  {
   "cell_type": "code",
   "execution_count": null,
   "metadata": {
    "collapsed": true
   },
   "outputs": [],
   "source": [
    "def no_doublet(v1, v2):\n",
    "    pass"
   ]
  },
  {
   "cell_type": "markdown",
   "metadata": {},
   "source": [
    "Testy:"
   ]
  },
  {
   "cell_type": "code",
   "execution_count": null,
   "metadata": {
    "collapsed": true
   },
   "outputs": [],
   "source": [
    "t = no_doublet([1,2,3,4], [6,7,7])\n",
    "print(next(t))  # => (0,1,6)\n",
    "print(next(t))  # => (1,2,7)"
   ]
  },
  {
   "cell_type": "markdown",
   "metadata": {},
   "source": [
    "Rozwiązanie"
   ]
  },
  {
   "cell_type": "code",
   "execution_count": 6,
   "metadata": {},
   "outputs": [
    {
     "name": "stdout",
     "output_type": "stream",
     "text": [
      "(0, 1, 6)\n",
      "(1, 2, 7)\n",
      "(2, 3, 7)\n"
     ]
    }
   ],
   "source": [
    "def no_doublet(v1, v2):\n",
    "    return ((i, a, b) for (i, a, b) in zip(range(min(len(v1), len(v2))), v1, v2))\n",
    "t = no_doublet([1,2,3,4], [6,7,7])\n",
    "print(next(t))  # => (0,1,6)\n",
    "print(next(t))  # => (1,2,7)\n",
    "print(next(t))  # => (2,3,7)"
   ]
  },
  {
   "cell_type": "markdown",
   "metadata": {},
   "source": [
    "#### Zadanie 14 (40/63)/0-1-2"
   ]
  },
  {
   "cell_type": "markdown",
   "metadata": {},
   "source": [
    "Napisz generator, który zwróci tylko wybrane elementy z listy. "
   ]
  },
  {
   "cell_type": "code",
   "execution_count": null,
   "metadata": {
    "collapsed": true
   },
   "outputs": [],
   "source": [
    "def select(iterable, selected):\n",
    "    pass"
   ]
  },
  {
   "cell_type": "markdown",
   "metadata": {},
   "source": [
    "Lista selected może mieć rozmiar różny od kontenera iterable.\n",
    "\n",
    "Testy:"
   ]
  },
  {
   "cell_type": "code",
   "execution_count": null,
   "metadata": {
    "collapsed": true
   },
   "outputs": [],
   "source": [
    "letters = 'ABCDEFGHIJ'\n",
    "selected = [True, False, True, False, True, True]\n",
    "\n",
    "g = select(letters, selected)\n",
    "\n",
    "print(next(g))  # => A\n",
    "print(next(g))  # => C"
   ]
  },
  {
   "cell_type": "code",
   "execution_count": 70,
   "metadata": {},
   "outputs": [
    {
     "name": "stdout",
     "output_type": "stream",
     "text": [
      "A\n",
      "C\n",
      "E\n"
     ]
    }
   ],
   "source": [
    "def select(iterable, selected):\n",
    "    for i,j in zip(iterable, selected):\n",
    "        if j:\n",
    "            yield i\n",
    "letters = 'ABCDEFGHIJ'\n",
    "selected = [True, False, True, False, True, True]\n",
    "\n",
    "g = select(letters, selected)\n",
    "\n",
    "print(next(g))  # => A\n",
    "print(next(g))  # => C\n",
    "print(next(g))  # => E"
   ]
  },
  {
   "cell_type": "code",
   "execution_count": 71,
   "metadata": {},
   "outputs": [
    {
     "name": "stdout",
     "output_type": "stream",
     "text": [
      "A\n",
      "C\n",
      "E\n"
     ]
    }
   ],
   "source": [
    "def select(iterable, selected):\n",
    "    for i, e in enumerate(iterable):\n",
    "        if len(selected) <= i:\n",
    "            raise StopIteration\n",
    "        if selected[i]:\n",
    "            yield e\n",
    "letters = 'ABCDEFGHIJ'\n",
    "selected = [True, False, True, False, True, True]\n",
    "\n",
    "g = select(letters, selected)\n",
    "\n",
    "print(next(g))  # => A\n",
    "print(next(g))  # => C\n",
    "print(next(g))  # => E            "
   ]
  },
  {
   "cell_type": "code",
   "execution_count": 74,
   "metadata": {},
   "outputs": [
    {
     "name": "stdout",
     "output_type": "stream",
     "text": [
      "A\n",
      "C\n",
      "E\n"
     ]
    }
   ],
   "source": [
    "def select(iterable, selected):\n",
    "\n",
    "    while True:\n",
    "\n",
    "        sel = []\n",
    "\n",
    "        dl = len(iterable)\n",
    "\n",
    "        sel=selected[:dl]\n",
    "\n",
    "        d = dict (zip(list(iterable),list(sel)))\n",
    "\n",
    "        for key, value in d.items():\n",
    "\n",
    "            if value:\n",
    "\n",
    "                yield (key)\n",
    "\n",
    "letters = 'ABCDEFGHIJ'\n",
    "selected = [True, False, True, False, True, True]\n",
    "\n",
    "g = select(letters, selected)\n",
    "\n",
    "print(next(g))  # => A\n",
    "print(next(g))  # => C\n",
    "print(next(g))  # => E     "
   ]
  },
  {
   "cell_type": "markdown",
   "metadata": {},
   "source": [
    "#### Zadanie 15 (24/63)/0-1-2"
   ]
  },
  {
   "cell_type": "markdown",
   "metadata": {},
   "source": [
    "Wykorzystując filter napisz funkcję zwracającą iterator po kombinacjach które nie zawierająć pierwszego i ostatniego elementu pierwotnej listy"
   ]
  },
  {
   "cell_type": "code",
   "execution_count": null,
   "metadata": {
    "collapsed": true
   },
   "outputs": [],
   "source": [
    "def foo(iterable, n):\n",
    "    pass"
   ]
  },
  {
   "cell_type": "markdown",
   "metadata": {},
   "source": [
    "Testy:"
   ]
  },
  {
   "cell_type": "code",
   "execution_count": null,
   "metadata": {
    "collapsed": true
   },
   "outputs": [],
   "source": [
    "# Wszystkie kombinacja trójelementowe kontenera 'ABCDE' to:\n",
    "# [\n",
    "#    ('A', 'B', 'C'), \n",
    "#    ('A', 'B', 'D'), \n",
    "#    ('A', 'B', 'E'), \n",
    "#    ('A', 'C', 'D'), \n",
    "#    ('A', 'C', 'E'), \n",
    "#    ('A', 'D', 'E'), \n",
    "#    ('B', 'C', 'D'), \n",
    "#    ('B', 'C', 'E'), \n",
    "#    ('B', 'D', 'E'), \n",
    "#    ('C', 'D', 'E')\n",
    "# ]\n",
    "\n",
    "print(list(foo('ABCDE', 3)))  # => [('B', 'C', 'D')]"
   ]
  },
  {
   "cell_type": "markdown",
   "metadata": {},
   "source": [
    "Rozwiązanie"
   ]
  },
  {
   "cell_type": "code",
   "execution_count": 66,
   "metadata": {},
   "outputs": [
    {
     "name": "stdout",
     "output_type": "stream",
     "text": [
      "[('B', 'C', 'D')]\n"
     ]
    }
   ],
   "source": [
    "from itertools import combinations\n",
    "\n",
    "def foo(iterable, n):\n",
    "    f = iterable[0]\n",
    "    e = iterable[-1]\n",
    "    return [i for i in combinations(iterable, n) if f not in i and e not in i]\n",
    "\n",
    "print(list(foo('ABCDE', 3)))"
   ]
  },
  {
   "cell_type": "code",
   "execution_count": 67,
   "metadata": {},
   "outputs": [
    {
     "name": "stdout",
     "output_type": "stream",
     "text": [
      "[('B', 'C', 'D')]\n"
     ]
    }
   ],
   "source": [
    "def foo(iterable, n):\n",
    "    from itertools import combinations\n",
    "    return filter(lambda c: iterable[0] not in c and iterable[-1] not in c, combinations(iterable, 3))\n",
    "print(list(foo('ABCDE', 3)))"
   ]
  },
  {
   "cell_type": "code",
   "execution_count": 78,
   "metadata": {},
   "outputs": [
    {
     "name": "stdout",
     "output_type": "stream",
     "text": [
      "[('B', 'C', 'D')]\n"
     ]
    }
   ],
   "source": [
    "def foo(iterable, n):\n",
    "\n",
    "    import itertools as it\n",
    "\n",
    "    return filter(lambda com: 'A' not in com and iterable[-1] not in com, it.combinations(iterable, n))\n",
    "\n",
    "print(list(foo('ABCDE', 3)))"
   ]
  },
  {
   "cell_type": "markdown",
   "metadata": {},
   "source": [
    "#### Zadanei 21 (30/63)/0-1-2-3"
   ]
  },
  {
   "cell_type": "markdown",
   "metadata": {},
   "source": [
    "Przepisz podaną funkcją tak, aby działała szybciej."
   ]
  },
  {
   "cell_type": "code",
   "execution_count": null,
   "metadata": {
    "collapsed": true
   },
   "outputs": [],
   "source": [
    "def var(vals):\n",
    "    \"\"\"Zwraca wariancje liczb\"\"\"\n",
    "    return sum((x-sum(vals))**2/len(vals) for x in vals)/len(vals)"
   ]
  },
  {
   "cell_type": "markdown",
   "metadata": {},
   "source": [
    "Rozwiązanie"
   ]
  },
  {
   "cell_type": "code",
   "execution_count": 1,
   "metadata": {},
   "outputs": [
    {
     "name": "stdout",
     "output_type": "stream",
     "text": [
      "8.37 ms ± 87.5 µs per loop (mean ± std. dev. of 7 runs, 100 loops each)\n"
     ]
    }
   ],
   "source": [
    "%%timeit\n",
    "def var(vals):\n",
    "    \"\"\"Zwraca wariancje liczb\"\"\"\n",
    "    return sum((x-sum(vals))**2/len(vals) for x in vals)/len(vals)\n",
    "\n",
    "var([0]*1000)"
   ]
  },
  {
   "cell_type": "code",
   "execution_count": 2,
   "metadata": {},
   "outputs": [
    {
     "name": "stdout",
     "output_type": "stream",
     "text": [
      "145 µs ± 919 ns per loop (mean ± std. dev. of 7 runs, 10000 loops each)\n"
     ]
    }
   ],
   "source": [
    "%%timeit\n",
    "def var(vals):\n",
    "    \"\"\"Zwraca wariancje liczb\"\"\"\n",
    "    len_ = len(vals)\n",
    "    sum_ = sum(vals)\n",
    "    return sum((x-sum_)*(x-sum_)/len_ for x in vals)/len_\n",
    "\n",
    "var([0]*1000)"
   ]
  },
  {
   "cell_type": "code",
   "execution_count": 15,
   "metadata": {},
   "outputs": [
    {
     "name": "stdout",
     "output_type": "stream",
     "text": [
      "2.46 ms ± 19 µs per loop (mean ± std. dev. of 7 runs, 100 loops each)\n"
     ]
    }
   ],
   "source": [
    "%%timeit\n",
    "import statistics\n",
    "\n",
    "def var(vals):\n",
    "\n",
    "    \"\"\"Zwraca wariancje liczb\"\"\"\n",
    "\n",
    "    return statistics.variance(vals)\n",
    "\n",
    "var([0]*1000)"
   ]
  },
  {
   "cell_type": "code",
   "execution_count": 4,
   "metadata": {},
   "outputs": [
    {
     "name": "stdout",
     "output_type": "stream",
     "text": [
      "8.54 ms ± 60.7 µs per loop (mean ± std. dev. of 7 runs, 100 loops each)\n"
     ]
    }
   ],
   "source": [
    "%%timeit\n",
    "from functools import reduce\n",
    "def var(vals):\n",
    "\n",
    "    \"\"\"Zwraca wariancje liczb\"\"\"\n",
    "\n",
    "    return reduce(lambda x, y: x + y, map(lambda x: x - sum(vals) ** 2 / len(vals), vals)) / len(vals)\n",
    "\n",
    "var([0]*1000)"
   ]
  },
  {
   "cell_type": "code",
   "execution_count": 5,
   "metadata": {},
   "outputs": [
    {
     "ename": "AttributeError",
     "evalue": "module 'statsmodels.compat.scipy' has no attribute 'stats'",
     "output_type": "error",
     "traceback": [
      "\u001b[1;31m---------------------------------------------------------------------------\u001b[0m",
      "\u001b[1;31mAttributeError\u001b[0m                            Traceback (most recent call last)",
      "\u001b[1;32m<ipython-input-5-6d878dabb579>\u001b[0m in \u001b[0;36m<module>\u001b[1;34m()\u001b[0m\n\u001b[1;32m----> 1\u001b[1;33m \u001b[0mget_ipython\u001b[0m\u001b[1;33m(\u001b[0m\u001b[1;33m)\u001b[0m\u001b[1;33m.\u001b[0m\u001b[0mrun_cell_magic\u001b[0m\u001b[1;33m(\u001b[0m\u001b[1;34m'timeit'\u001b[0m\u001b[1;33m,\u001b[0m \u001b[1;34m''\u001b[0m\u001b[1;33m,\u001b[0m \u001b[1;34m'from statsmodels.compat import scipy\\n\\ndef var(vals):\\n\\n    \"\"\"Zwraca wariancje liczb\"\"\"\\n\\n    return scipy.stats.variation(vals)\\n\\nvar([0]*1000)'\u001b[0m\u001b[1;33m)\u001b[0m\u001b[1;33m\u001b[0m\u001b[0m\n\u001b[0m",
      "\u001b[1;32me:\\github\\python_tutorial_env\\lib\\site-packages\\IPython\\core\\interactiveshell.py\u001b[0m in \u001b[0;36mrun_cell_magic\u001b[1;34m(self, magic_name, line, cell)\u001b[0m\n\u001b[0;32m   2101\u001b[0m             \u001b[0mmagic_arg_s\u001b[0m \u001b[1;33m=\u001b[0m \u001b[0mself\u001b[0m\u001b[1;33m.\u001b[0m\u001b[0mvar_expand\u001b[0m\u001b[1;33m(\u001b[0m\u001b[0mline\u001b[0m\u001b[1;33m,\u001b[0m \u001b[0mstack_depth\u001b[0m\u001b[1;33m)\u001b[0m\u001b[1;33m\u001b[0m\u001b[0m\n\u001b[0;32m   2102\u001b[0m             \u001b[1;32mwith\u001b[0m \u001b[0mself\u001b[0m\u001b[1;33m.\u001b[0m\u001b[0mbuiltin_trap\u001b[0m\u001b[1;33m:\u001b[0m\u001b[1;33m\u001b[0m\u001b[0m\n\u001b[1;32m-> 2103\u001b[1;33m                 \u001b[0mresult\u001b[0m \u001b[1;33m=\u001b[0m \u001b[0mfn\u001b[0m\u001b[1;33m(\u001b[0m\u001b[0mmagic_arg_s\u001b[0m\u001b[1;33m,\u001b[0m \u001b[0mcell\u001b[0m\u001b[1;33m)\u001b[0m\u001b[1;33m\u001b[0m\u001b[0m\n\u001b[0m\u001b[0;32m   2104\u001b[0m             \u001b[1;32mreturn\u001b[0m \u001b[0mresult\u001b[0m\u001b[1;33m\u001b[0m\u001b[0m\n\u001b[0;32m   2105\u001b[0m \u001b[1;33m\u001b[0m\u001b[0m\n",
      "\u001b[1;32m<decorator-gen-62>\u001b[0m in \u001b[0;36mtimeit\u001b[1;34m(self, line, cell)\u001b[0m\n",
      "\u001b[1;32me:\\github\\python_tutorial_env\\lib\\site-packages\\IPython\\core\\magic.py\u001b[0m in \u001b[0;36m<lambda>\u001b[1;34m(f, *a, **k)\u001b[0m\n\u001b[0;32m    185\u001b[0m     \u001b[1;31m# but it's overkill for just that one bit of state.\u001b[0m\u001b[1;33m\u001b[0m\u001b[1;33m\u001b[0m\u001b[0m\n\u001b[0;32m    186\u001b[0m     \u001b[1;32mdef\u001b[0m \u001b[0mmagic_deco\u001b[0m\u001b[1;33m(\u001b[0m\u001b[0marg\u001b[0m\u001b[1;33m)\u001b[0m\u001b[1;33m:\u001b[0m\u001b[1;33m\u001b[0m\u001b[0m\n\u001b[1;32m--> 187\u001b[1;33m         \u001b[0mcall\u001b[0m \u001b[1;33m=\u001b[0m \u001b[1;32mlambda\u001b[0m \u001b[0mf\u001b[0m\u001b[1;33m,\u001b[0m \u001b[1;33m*\u001b[0m\u001b[0ma\u001b[0m\u001b[1;33m,\u001b[0m \u001b[1;33m**\u001b[0m\u001b[0mk\u001b[0m\u001b[1;33m:\u001b[0m \u001b[0mf\u001b[0m\u001b[1;33m(\u001b[0m\u001b[1;33m*\u001b[0m\u001b[0ma\u001b[0m\u001b[1;33m,\u001b[0m \u001b[1;33m**\u001b[0m\u001b[0mk\u001b[0m\u001b[1;33m)\u001b[0m\u001b[1;33m\u001b[0m\u001b[0m\n\u001b[0m\u001b[0;32m    188\u001b[0m \u001b[1;33m\u001b[0m\u001b[0m\n\u001b[0;32m    189\u001b[0m         \u001b[1;32mif\u001b[0m \u001b[0mcallable\u001b[0m\u001b[1;33m(\u001b[0m\u001b[0marg\u001b[0m\u001b[1;33m)\u001b[0m\u001b[1;33m:\u001b[0m\u001b[1;33m\u001b[0m\u001b[0m\n",
      "\u001b[1;32me:\\github\\python_tutorial_env\\lib\\site-packages\\IPython\\core\\magics\\execution.py\u001b[0m in \u001b[0;36mtimeit\u001b[1;34m(self, line, cell)\u001b[0m\n\u001b[0;32m   1078\u001b[0m             \u001b[1;32mfor\u001b[0m \u001b[0mindex\u001b[0m \u001b[1;32min\u001b[0m \u001b[0mrange\u001b[0m\u001b[1;33m(\u001b[0m\u001b[1;36m0\u001b[0m\u001b[1;33m,\u001b[0m \u001b[1;36m10\u001b[0m\u001b[1;33m)\u001b[0m\u001b[1;33m:\u001b[0m\u001b[1;33m\u001b[0m\u001b[0m\n\u001b[0;32m   1079\u001b[0m                 \u001b[0mnumber\u001b[0m \u001b[1;33m=\u001b[0m \u001b[1;36m10\u001b[0m \u001b[1;33m**\u001b[0m \u001b[0mindex\u001b[0m\u001b[1;33m\u001b[0m\u001b[0m\n\u001b[1;32m-> 1080\u001b[1;33m                 \u001b[0mtime_number\u001b[0m \u001b[1;33m=\u001b[0m \u001b[0mtimer\u001b[0m\u001b[1;33m.\u001b[0m\u001b[0mtimeit\u001b[0m\u001b[1;33m(\u001b[0m\u001b[0mnumber\u001b[0m\u001b[1;33m)\u001b[0m\u001b[1;33m\u001b[0m\u001b[0m\n\u001b[0m\u001b[0;32m   1081\u001b[0m                 \u001b[1;32mif\u001b[0m \u001b[0mtime_number\u001b[0m \u001b[1;33m>=\u001b[0m \u001b[1;36m0.2\u001b[0m\u001b[1;33m:\u001b[0m\u001b[1;33m\u001b[0m\u001b[0m\n\u001b[0;32m   1082\u001b[0m                     \u001b[1;32mbreak\u001b[0m\u001b[1;33m\u001b[0m\u001b[0m\n",
      "\u001b[1;32me:\\github\\python_tutorial_env\\lib\\site-packages\\IPython\\core\\magics\\execution.py\u001b[0m in \u001b[0;36mtimeit\u001b[1;34m(self, number)\u001b[0m\n\u001b[0;32m    158\u001b[0m         \u001b[0mgc\u001b[0m\u001b[1;33m.\u001b[0m\u001b[0mdisable\u001b[0m\u001b[1;33m(\u001b[0m\u001b[1;33m)\u001b[0m\u001b[1;33m\u001b[0m\u001b[0m\n\u001b[0;32m    159\u001b[0m         \u001b[1;32mtry\u001b[0m\u001b[1;33m:\u001b[0m\u001b[1;33m\u001b[0m\u001b[0m\n\u001b[1;32m--> 160\u001b[1;33m             \u001b[0mtiming\u001b[0m \u001b[1;33m=\u001b[0m \u001b[0mself\u001b[0m\u001b[1;33m.\u001b[0m\u001b[0minner\u001b[0m\u001b[1;33m(\u001b[0m\u001b[0mit\u001b[0m\u001b[1;33m,\u001b[0m \u001b[0mself\u001b[0m\u001b[1;33m.\u001b[0m\u001b[0mtimer\u001b[0m\u001b[1;33m)\u001b[0m\u001b[1;33m\u001b[0m\u001b[0m\n\u001b[0m\u001b[0;32m    161\u001b[0m         \u001b[1;32mfinally\u001b[0m\u001b[1;33m:\u001b[0m\u001b[1;33m\u001b[0m\u001b[0m\n\u001b[0;32m    162\u001b[0m             \u001b[1;32mif\u001b[0m \u001b[0mgcold\u001b[0m\u001b[1;33m:\u001b[0m\u001b[1;33m\u001b[0m\u001b[0m\n",
      "\u001b[1;32m<magic-timeit>\u001b[0m in \u001b[0;36minner\u001b[1;34m(_it, _timer)\u001b[0m\n",
      "\u001b[1;32m<magic-timeit>\u001b[0m in \u001b[0;36mvar\u001b[1;34m(vals)\u001b[0m\n",
      "\u001b[1;31mAttributeError\u001b[0m: module 'statsmodels.compat.scipy' has no attribute 'stats'"
     ]
    }
   ],
   "source": [
    "%%timeit\n",
    "from statsmodels.compat import scipy\n",
    "\n",
    "def var(vals):\n",
    "\n",
    "    \"\"\"Zwraca wariancje liczb\"\"\"\n",
    "\n",
    "    return scipy.stats.variation(vals)\n",
    "\n",
    "var([0]*1000)"
   ]
  },
  {
   "cell_type": "code",
   "execution_count": null,
   "metadata": {
    "collapsed": true
   },
   "outputs": [],
   "source": [
    "!pip install scipy"
   ]
  },
  {
   "cell_type": "code",
   "execution_count": null,
   "metadata": {
    "collapsed": true
   },
   "outputs": [],
   "source": [
    "!pip install numpy"
   ]
  },
  {
   "cell_type": "code",
   "execution_count": null,
   "metadata": {
    "collapsed": true
   },
   "outputs": [],
   "source": [
    "!pip install statsmodels"
   ]
  },
  {
   "cell_type": "code",
   "execution_count": 6,
   "metadata": {},
   "outputs": [
    {
     "name": "stdout",
     "output_type": "stream",
     "text": [
      "83.8 µs ± 314 ns per loop (mean ± std. dev. of 7 runs, 10000 loops each)\n"
     ]
    }
   ],
   "source": [
    "%%timeit\n",
    "import numpy as np\n",
    "\n",
    "def var(vals):\n",
    "    return np.var(vals)\n",
    "\n",
    "var([0]*1000)"
   ]
  },
  {
   "cell_type": "code",
   "execution_count": 7,
   "metadata": {},
   "outputs": [
    {
     "name": "stdout",
     "output_type": "stream",
     "text": [
      "8.44 ms ± 37.8 µs per loop (mean ± std. dev. of 7 runs, 100 loops each)\n"
     ]
    }
   ],
   "source": [
    "%%timeit\n",
    "from functools import reduce\n",
    "\n",
    "def var(vals):\n",
    "    return sum(map((lambda x: (x - sum(vals)) ** 2 / len(vals)), list(w for w in vals)))/len(vals)\n",
    "\n",
    "var([0]*1000)"
   ]
  },
  {
   "cell_type": "code",
   "execution_count": 8,
   "metadata": {},
   "outputs": [
    {
     "name": "stdout",
     "output_type": "stream",
     "text": [
      "373 µs ± 2.39 µs per loop (mean ± std. dev. of 7 runs, 1000 loops each)\n"
     ]
    }
   ],
   "source": [
    "%%timeit\n",
    "def var(vals):\n",
    "    \"\"\"Zwraca wariancje liczb\"\"\"\n",
    "    s = sum(vals)\n",
    "    return sum((x - s) ** 2 for x in vals) / len(vals) ** 2\n",
    "\n",
    "var([0]*1000)"
   ]
  },
  {
   "cell_type": "code",
   "execution_count": 9,
   "metadata": {},
   "outputs": [
    {
     "name": "stdout",
     "output_type": "stream",
     "text": [
      "85.8 µs ± 1.17 µs per loop (mean ± std. dev. of 7 runs, 10000 loops each)\n"
     ]
    }
   ],
   "source": [
    "%%timeit\n",
    "def var(L):\n",
    "    y_squared_dot = sum(i * i for i in L)\n",
    "    y_dot_squared = sum(L) ** 2\n",
    "    return (y_squared_dot - y_dot_squared / len(L)) / (len(L) - 1)\n",
    "var([0]*1000)"
   ]
  },
  {
   "cell_type": "markdown",
   "metadata": {},
   "source": [
    "#### Zadanie 22 (37/63)/0-1-2"
   ]
  },
  {
   "cell_type": "markdown",
   "metadata": {},
   "source": [
    "Przepisz podaną funkcją tak, aby działała szybciej."
   ]
  },
  {
   "cell_type": "code",
   "execution_count": 18,
   "metadata": {
    "collapsed": true
   },
   "outputs": [],
   "source": [
    "def scalar_prod(lista1, lista2):\n",
    "    \"\"\"wylicza iloczyn skalarny\"\"\"\n",
    "    suma = 0\n",
    "    min_len = min(len(lista1), len(lista2))\n",
    "    for i in range(min_len):\n",
    "        suma += lista1[i]*lista2[i]\n",
    "    return suma"
   ]
  },
  {
   "cell_type": "code",
   "execution_count": 19,
   "metadata": {},
   "outputs": [
    {
     "data": {
      "text/plain": [
       "200000"
      ]
     },
     "execution_count": 19,
     "metadata": {},
     "output_type": "execute_result"
    }
   ],
   "source": [
    "scalar_prod([1]*100000, [2]*100000)"
   ]
  },
  {
   "cell_type": "markdown",
   "metadata": {},
   "source": [
    "Rozwiązanie"
   ]
  },
  {
   "cell_type": "code",
   "execution_count": 5,
   "metadata": {},
   "outputs": [
    {
     "name": "stdout",
     "output_type": "stream",
     "text": [
      "12.1 ms ± 59 µs per loop (mean ± std. dev. of 7 runs, 100 loops each)\n"
     ]
    }
   ],
   "source": [
    "%%timeit\n",
    "def scalar_prod(lista1, lista2):\n",
    "    \"\"\"wylicza iloczyn skalarny\"\"\"\n",
    "    suma = 0\n",
    "    min_len = min(len(lista1), len(lista2))\n",
    "    for i in range(min_len):\n",
    "        suma += lista1[i]*lista2[i]\n",
    "    return suma\n",
    "scalar_prod([1]*100000, [2]*100000)"
   ]
  },
  {
   "cell_type": "code",
   "execution_count": 6,
   "metadata": {},
   "outputs": [
    {
     "name": "stdout",
     "output_type": "stream",
     "text": [
      "12.2 ms ± 1.47 ms per loop (mean ± std. dev. of 7 runs, 100 loops each)\n"
     ]
    }
   ],
   "source": [
    "%%timeit\n",
    "def scalar_prod(lista1, lista2): # 1 punkt\n",
    "    return sum(d * e for (d, e) in zip(lista1, lista2))\n",
    "scalar_prod([1]*100000, [2]*100000)"
   ]
  },
  {
   "cell_type": "code",
   "execution_count": 8,
   "metadata": {},
   "outputs": [
    {
     "name": "stdout",
     "output_type": "stream",
     "text": [
      "8.5 ms ± 143 µs per loop (mean ± std. dev. of 7 runs, 100 loops each)\n"
     ]
    }
   ],
   "source": [
    "%%timeit\n",
    "def scalar_prod(lista1, lista2): # 2 punkty\n",
    "    return sum([i*j for (i, j) in zip(lista1, lista2)])\n",
    "scalar_prod([1]*100000, [2]*100000)"
   ]
  },
  {
   "cell_type": "code",
   "execution_count": 9,
   "metadata": {},
   "outputs": [
    {
     "name": "stdout",
     "output_type": "stream",
     "text": [
      "10 ms ± 24.2 µs per loop (mean ± std. dev. of 7 runs, 100 loops each)\n"
     ]
    }
   ],
   "source": [
    "%%timeit\n",
    "def scalar_prod(lista1, lista2): # 2 punkty\n",
    "    return sum(l1 * l2 for l1, l2 in zip(lista1, lista2))\n"
   ]
  },
  {
   "cell_type": "code",
   "execution_count": 11,
   "metadata": {
    "collapsed": true
   },
   "outputs": [],
   "source": [
    "import numpy"
   ]
  },
  {
   "cell_type": "code",
   "execution_count": 12,
   "metadata": {},
   "outputs": [
    {
     "name": "stdout",
     "output_type": "stream",
     "text": [
      "17.5 ms ± 286 µs per loop (mean ± std. dev. of 7 runs, 100 loops each)\n"
     ]
    }
   ],
   "source": [
    "%%timeit\n",
    "def scalar_prod(lista1, lista2): # 1 punkt\n",
    "    return numpy.dot(lista1, lista2)\n",
    "scalar_prod([1]*100000, [2]*100000)"
   ]
  },
  {
   "cell_type": "code",
   "execution_count": 15,
   "metadata": {},
   "outputs": [
    {
     "name": "stdout",
     "output_type": "stream",
     "text": [
      "12.6 ms ± 52.9 µs per loop (mean ± std. dev. of 7 runs, 100 loops each)\n"
     ]
    }
   ],
   "source": [
    "%%timeit\n",
    "def scalar_prod(lista1, lista2): # 1 punkt\n",
    "    return sum(map(lambda x, y: x * y, lista1, lista2))\n",
    "scalar_prod([1]*100000, [2]*100000)"
   ]
  },
  {
   "cell_type": "code",
   "execution_count": 17,
   "metadata": {},
   "outputs": [
    {
     "name": "stdout",
     "output_type": "stream",
     "text": [
      "200000\n"
     ]
    }
   ],
   "source": [
    "def scalar_prod(lista1, lista2): # 1 punkt\n",
    "    return sum(map(lambda x, y: x * y, lista1, lista2))\n",
    "print(scalar_prod([1]*100000, [2]*100000))"
   ]
  },
  {
   "cell_type": "code",
   "execution_count": 16,
   "metadata": {},
   "outputs": [
    {
     "name": "stdout",
     "output_type": "stream",
     "text": [
      "17.2 ms ± 52.4 µs per loop (mean ± std. dev. of 7 runs, 100 loops each)\n"
     ]
    }
   ],
   "source": [
    "%%timeit\n",
    "def scalar_prod(lista1, lista2): # 1 punkt\n",
    "    return sum(map(lambda x: x[0] * x[1], zip(lista1, lista2)))\n",
    "scalar_prod([1]*100000, [2]*100000)"
   ]
  },
  {
   "cell_type": "code",
   "execution_count": 20,
   "metadata": {},
   "outputs": [
    {
     "name": "stdout",
     "output_type": "stream",
     "text": [
      "10.9 ms ± 41.4 µs per loop (mean ± std. dev. of 7 runs, 100 loops each)\n"
     ]
    }
   ],
   "source": [
    "%%timeit\n",
    "def scalar_prod(lista1, lista2): # 2 punktów\n",
    "    return sum( [lista1[i]*lista2[i] for i in range(len(lista2))] )\n",
    "scalar_prod([1]*100000, [2]*100000)"
   ]
  },
  {
   "cell_type": "code",
   "execution_count": 21,
   "metadata": {},
   "outputs": [
    {
     "ename": "ValueError",
     "evalue": "too many values to unpack (expected 2)",
     "output_type": "error",
     "traceback": [
      "\u001b[1;31m---------------------------------------------------------------------------\u001b[0m",
      "\u001b[1;31mValueError\u001b[0m                                Traceback (most recent call last)",
      "\u001b[1;32m<ipython-input-21-94f7c9defc24>\u001b[0m in \u001b[0;36m<module>\u001b[1;34m()\u001b[0m\n\u001b[0;32m      5\u001b[0m         \u001b[0msum\u001b[0m \u001b[1;33m+=\u001b[0m \u001b[0mi\u001b[0m\u001b[1;33m+\u001b[0m\u001b[0mj\u001b[0m\u001b[1;33m\u001b[0m\u001b[0m\n\u001b[0;32m      6\u001b[0m     \u001b[1;32mreturn\u001b[0m \u001b[0msum\u001b[0m\u001b[1;33m\u001b[0m\u001b[0m\n\u001b[1;32m----> 7\u001b[1;33m \u001b[0mscalar_prod\u001b[0m\u001b[1;33m(\u001b[0m\u001b[1;33m[\u001b[0m\u001b[1;36m1\u001b[0m\u001b[1;33m]\u001b[0m\u001b[1;33m*\u001b[0m\u001b[1;36m100000\u001b[0m\u001b[1;33m,\u001b[0m \u001b[1;33m[\u001b[0m\u001b[1;36m2\u001b[0m\u001b[1;33m]\u001b[0m\u001b[1;33m*\u001b[0m\u001b[1;36m100000\u001b[0m\u001b[1;33m)\u001b[0m\u001b[1;33m\u001b[0m\u001b[0m\n\u001b[0m",
      "\u001b[1;32m<ipython-input-21-94f7c9defc24>\u001b[0m in \u001b[0;36mscalar_prod\u001b[1;34m(lista1, lista2)\u001b[0m\n\u001b[0;32m      2\u001b[0m \u001b[1;32mdef\u001b[0m \u001b[0mscalar_prod\u001b[0m\u001b[1;33m(\u001b[0m\u001b[0mlista1\u001b[0m\u001b[1;33m,\u001b[0m \u001b[0mlista2\u001b[0m\u001b[1;33m)\u001b[0m\u001b[1;33m:\u001b[0m\u001b[1;33m\u001b[0m\u001b[0m\n\u001b[0;32m      3\u001b[0m     \u001b[0msum\u001b[0m \u001b[1;33m=\u001b[0m \u001b[1;36m0\u001b[0m\u001b[1;33m\u001b[0m\u001b[0m\n\u001b[1;32m----> 4\u001b[1;33m     \u001b[1;32mfor\u001b[0m \u001b[0mi\u001b[0m\u001b[1;33m,\u001b[0m \u001b[0mj\u001b[0m \u001b[1;32min\u001b[0m \u001b[0mlista1\u001b[0m\u001b[1;33m,\u001b[0m \u001b[0mlista2\u001b[0m\u001b[1;33m:\u001b[0m\u001b[1;33m\u001b[0m\u001b[0m\n\u001b[0m\u001b[0;32m      5\u001b[0m         \u001b[0msum\u001b[0m \u001b[1;33m+=\u001b[0m \u001b[0mi\u001b[0m\u001b[1;33m+\u001b[0m\u001b[0mj\u001b[0m\u001b[1;33m\u001b[0m\u001b[0m\n\u001b[0;32m      6\u001b[0m     \u001b[1;32mreturn\u001b[0m \u001b[0msum\u001b[0m\u001b[1;33m\u001b[0m\u001b[0m\n",
      "\u001b[1;31mValueError\u001b[0m: too many values to unpack (expected 2)"
     ]
    }
   ],
   "source": [
    "#%%timeit\n",
    "def scalar_prod(lista1, lista2): # 0 punktów\n",
    "    sum = 0\n",
    "    for i, j in lista1, lista2:\n",
    "        sum += i+j\n",
    "    return sum\n",
    "scalar_prod([1]*100000, [2]*100000)"
   ]
  },
  {
   "cell_type": "code",
   "execution_count": 36,
   "metadata": {},
   "outputs": [
    {
     "name": "stdout",
     "output_type": "stream",
     "text": [
      "8.35 ms ± 24.1 µs per loop (mean ± std. dev. of 7 runs, 100 loops each)\n"
     ]
    }
   ],
   "source": [
    "%%timeit\n",
    "from operator import mul\n",
    "def scalar_prod(lista1, lista2): # 2 punkty\n",
    "    return sum(map(mul, lista1, lista2))\n",
    "scalar_prod([1]*100000, [2]*100000)"
   ]
  },
  {
   "cell_type": "code",
   "execution_count": 37,
   "metadata": {},
   "outputs": [
    {
     "name": "stdout",
     "output_type": "stream",
     "text": [
      "10.8 ms ± 90.7 µs per loop (mean ± std. dev. of 7 runs, 100 loops each)\n"
     ]
    }
   ],
   "source": [
    "%%timeit\n",
    "def scalar_prod(lista1, lista2):\n",
    "    min_len = min(len(lista1), len(lista2))\n",
    "    return sum([lista1[x]*lista2[x] for x in range(min_len)])\n",
    "scalar_prod([1]*100000, [2]*100000)"
   ]
  },
  {
   "cell_type": "code",
   "execution_count": 43,
   "metadata": {},
   "outputs": [
    {
     "name": "stdout",
     "output_type": "stream",
     "text": [
      "23 ms ± 175 µs per loop (mean ± std. dev. of 7 runs, 10 loops each)\n"
     ]
    }
   ],
   "source": [
    "%%timeit\n",
    "def scalar_prod(lista1, lista2):\n",
    "\n",
    "    m = min(len(lista1),len(lista2))\n",
    "\n",
    "    lista1 = lista1[:m]\n",
    "\n",
    "    lista2 = lista2[:m]\n",
    "\n",
    "    return reduce(lambda x,y: x+y[0]*y[1], zip(lista1,lista2),0)\n",
    "scalar_prod([1]*100000, [2]*100000)"
   ]
  },
  {
   "cell_type": "code",
   "execution_count": 41,
   "metadata": {
    "collapsed": true
   },
   "outputs": [],
   "source": [
    "from functools import reduce"
   ]
  },
  {
   "cell_type": "markdown",
   "metadata": {},
   "source": [
    "#### Zadanie 23 (30/63)/0-1-2"
   ]
  },
  {
   "cell_type": "markdown",
   "metadata": {},
   "source": [
    "Podana poniżej jest funkcja count_words zwracająca słownik z ilością występień słów w tekscie znana z ćwiczeń, proszę zaimplementować funckję count_words_faster, która zrobi to samo o przynajmniej rząd wielkości szybciej (nie musi być jednolinijkowa!)."
   ]
  },
  {
   "cell_type": "code",
   "execution_count": 75,
   "metadata": {
    "collapsed": true
   },
   "outputs": [],
   "source": [
    "def count_words(text):\n",
    "    return {k: text.split().count(k) for k in set(text.split())}\n",
    "\n",
    "def count_words_faster(text):\n",
    "    pass"
   ]
  },
  {
   "cell_type": "markdown",
   "metadata": {},
   "source": [
    "Testy:"
   ]
  },
  {
   "cell_type": "code",
   "execution_count": 76,
   "metadata": {},
   "outputs": [
    {
     "ename": "AssertionError",
     "evalue": "",
     "output_type": "error",
     "traceback": [
      "\u001b[1;31m---------------------------------------------------------------------------\u001b[0m",
      "\u001b[1;31mAssertionError\u001b[0m                            Traceback (most recent call last)",
      "\u001b[1;32m<ipython-input-76-a07871057379>\u001b[0m in \u001b[0;36m<module>\u001b[1;34m()\u001b[0m\n\u001b[0;32m      3\u001b[0m \"\"\"\n\u001b[0;32m      4\u001b[0m \u001b[1;33m\u001b[0m\u001b[0m\n\u001b[1;32m----> 5\u001b[1;33m \u001b[1;32massert\u001b[0m \u001b[0mcount_words\u001b[0m\u001b[1;33m(\u001b[0m\u001b[0ms\u001b[0m\u001b[1;33m)\u001b[0m \u001b[1;33m==\u001b[0m \u001b[0mcount_words_faster\u001b[0m\u001b[1;33m(\u001b[0m\u001b[0ms\u001b[0m\u001b[1;33m)\u001b[0m\u001b[1;33m\u001b[0m\u001b[0m\n\u001b[0m\u001b[0;32m      6\u001b[0m \u001b[1;33m\u001b[0m\u001b[0m\n\u001b[0;32m      7\u001b[0m \u001b[1;33m\u001b[0m\u001b[0m\n",
      "\u001b[1;31mAssertionError\u001b[0m: "
     ]
    }
   ],
   "source": [
    "s = \"\"\" \n",
    "Lorem ipsum dolor sit amet consectetur adipiscing elit Duis vel dapibus nisi Vivamus hendrerit massa eu suscipit consequat lacus quam dictum felis id cursus eros lorem vitae augue Nam placerat dapibus malesuada Vestibulum gravida sed eros ut rutrum Quisque nisi tellus posuere vitae ante eu venenatis consectetur magna Ut malesuada diam et nisi convallis a cursus risus vestibulum Aenean est lorem tincidunt ac hendrerit quis ornare eu ex Duis vel tincidunt libero Morbi ac congue libero Donec vel tincidunt orci Nulla egestas feugiat enim sed vehicula Sed eu accumsan tortor convallis egestas justo Ut egestas bibendum aliquam Phasellus laoreet scelerisque neque sed pulvinar Aenean consectetur justo ut semper maximus nulla magna ultrices metus vel scelerisque lacus augue a quam Cras non dignissim turpis id placerat elit Lorem ipsum dolor sit amet consectetur adipiscing elit Duis vel dapibus nisi Vivamus hendrerit massa eu suscipit consequat lacus quam dictum felis id cursus eros lorem vitae augue Nam placerat dapibus malesuada Vestibulum gravida sed eros ut rutrum Quisque nisi tellus posuere vitae ante eu venenatis consectetur magna Ut malesuada diam et nisi convallis a cursus risus vestibulum Aenean est lorem tincidunt ac hendrerit quis ornare eu ex Duis vel tincidunt libero Morbi ac congue libero Donec vel tincidunt orci Nulla egestas feugiat enim sed vehicula Sed eu accumsan tortor convallis egestas justo Ut egestas bibendum aliquam Phasellus laoreet scelerisque neque sed pulvinar Aenean consectetur justo ut semper maximus nulla magna ultrices metus vel scelerisque lacus augue a quam Cras non dignissim turpis id placerat elit\n",
    "\"\"\"\n",
    "\n",
    "assert count_words(s) == count_words_faster(s)\n",
    "\n",
    "\n",
    "import time\n",
    "\n",
    "start_time = time.time()\n",
    "count_words_faster(s)\n",
    "print(\"--- %s seconds ---\" % (time.time() - start_time))\n",
    "\n",
    "start_time = time.time()\n",
    "count_words(s)\n",
    "print(\"--- %s seconds ---\" % (time.time() - start_time))"
   ]
  },
  {
   "cell_type": "code",
   "execution_count": null,
   "metadata": {
    "collapsed": true
   },
   "outputs": [],
   "source": [
    "def count_words_faster(text):\n",
    "    t = text.split()\n",
    "    r = {}\n",
    "    for word in t:\n",
    "        r[word] = 1 if word not in r else r[word] + 1\n",
    "    return r"
   ]
  },
  {
   "cell_type": "code",
   "execution_count": 104,
   "metadata": {},
   "outputs": [
    {
     "name": "stdout",
     "output_type": "stream",
     "text": [
      "--- 0.0 seconds ---\n",
      "--- 0.003003358840942383 seconds ---\n"
     ]
    }
   ],
   "source": [
    "def count_words_faster(text):\n",
    "\n",
    "    dic = {}\n",
    "\n",
    "    for word in text.split():\n",
    "\n",
    "        dic[word] = dic.get(word, 0) + 1\n",
    "\n",
    "    return dic\n",
    "\n",
    "\n",
    "assert count_words(s) == count_words_faster(s)\n",
    "import time\n",
    "start_time = time.time()\n",
    "count_words_faster(s)\n",
    "print(\"--- %s seconds ---\" % (time.time() - start_time))\n",
    "start_time = time.time()\n",
    "count_words(s)\n",
    "print(\"--- %s seconds ---\" % (time.time() - start_time))"
   ]
  },
  {
   "cell_type": "markdown",
   "metadata": {},
   "source": [
    "#### Zadanie 24 (40/63)/0-1-2"
   ]
  },
  {
   "cell_type": "markdown",
   "metadata": {},
   "source": [
    "Przeanalizuj poniższe rozwiązanie i przygotuj szybsze o przynajmniej rząd wielkości."
   ]
  },
  {
   "cell_type": "code",
   "execution_count": null,
   "metadata": {
    "collapsed": true
   },
   "outputs": [],
   "source": [
    "def square(number):\n",
    "    return number**2\n",
    "\n",
    "squares = [square(i) for i in range(1000)]"
   ]
  },
  {
   "cell_type": "code",
   "execution_count": null,
   "metadata": {
    "collapsed": true
   },
   "outputs": [],
   "source": [
    "Rozwiązanie"
   ]
  },
  {
   "cell_type": "code",
   "execution_count": 45,
   "metadata": {},
   "outputs": [
    {
     "name": "stdout",
     "output_type": "stream",
     "text": [
      "451 µs ± 2.25 µs per loop (mean ± std. dev. of 7 runs, 1000 loops each)\n"
     ]
    }
   ],
   "source": [
    "%%timeit\n",
    "def square(number):\n",
    "    return number**2\n",
    "\n",
    "squares = [square(i) for i in range(1000)]"
   ]
  },
  {
   "cell_type": "code",
   "execution_count": 47,
   "metadata": {},
   "outputs": [
    {
     "name": "stdout",
     "output_type": "stream",
     "text": [
      "500 ns ± 1.38 ns per loop (mean ± std. dev. of 7 runs, 1000000 loops each)\n"
     ]
    }
   ],
   "source": [
    "%%timeit\n",
    "squares = map(lambda x: x**2, range(1000)) # to nie jest tablica -> 1 punkt"
   ]
  },
  {
   "cell_type": "code",
   "execution_count": 48,
   "metadata": {},
   "outputs": [
    {
     "name": "stdout",
     "output_type": "stream",
     "text": [
      "130 µs ± 233 ns per loop (mean ± std. dev. of 7 runs, 10000 loops each)\n"
     ]
    }
   ],
   "source": [
    "%%timeit\n",
    "squares = list(map(lambda i: i * i, range(1000))) # 2 punkty"
   ]
  },
  {
   "cell_type": "code",
   "execution_count": 49,
   "metadata": {},
   "outputs": [
    {
     "name": "stdout",
     "output_type": "stream",
     "text": [
      "63.5 µs ± 348 ns per loop (mean ± std. dev. of 7 runs, 10000 loops each)\n"
     ]
    }
   ],
   "source": [
    "%%timeit\n",
    "squares = [i*i for i in range(1000)] # 2 punkty"
   ]
  },
  {
   "cell_type": "code",
   "execution_count": 50,
   "metadata": {},
   "outputs": [
    {
     "name": "stdout",
     "output_type": "stream",
     "text": [
      "139 µs ± 786 ns per loop (mean ± std. dev. of 7 runs, 10000 loops each)\n"
     ]
    }
   ],
   "source": [
    "%%timeit\n",
    "def square(number):\n",
    "    return number*number\n",
    "\n",
    "squares = [square(i) for i in range(1000)] # 2 punkty"
   ]
  },
  {
   "cell_type": "code",
   "execution_count": 51,
   "metadata": {},
   "outputs": [
    {
     "name": "stdout",
     "output_type": "stream",
     "text": [
      "133 µs ± 2.95 µs per loop (mean ± std. dev. of 7 runs, 10000 loops each)\n"
     ]
    }
   ],
   "source": [
    "%%timeit\n",
    "squares = list(map(lambda x: x * x, range(1000))) # 2 punkty"
   ]
  },
  {
   "cell_type": "code",
   "execution_count": 53,
   "metadata": {},
   "outputs": [
    {
     "name": "stdout",
     "output_type": "stream",
     "text": [
      "483 µs ± 5.25 µs per loop (mean ± std. dev. of 7 runs, 1000 loops each)\n"
     ]
    }
   ],
   "source": [
    "%%timeit\n",
    "squares = [(lambda x: x**2)(i) for i in range(1000)]"
   ]
  },
  {
   "cell_type": "code",
   "execution_count": 55,
   "metadata": {},
   "outputs": [
    {
     "name": "stdout",
     "output_type": "stream",
     "text": [
      "416 µs ± 4.79 µs per loop (mean ± std. dev. of 7 runs, 1000 loops each)\n"
     ]
    }
   ],
   "source": [
    "%%timeit\n",
    "squares = list(map(lambda x: x**2, range(1000)))"
   ]
  },
  {
   "cell_type": "code",
   "execution_count": 57,
   "metadata": {
    "collapsed": true
   },
   "outputs": [],
   "source": [
    "import math"
   ]
  },
  {
   "cell_type": "code",
   "execution_count": 58,
   "metadata": {},
   "outputs": [
    {
     "name": "stdout",
     "output_type": "stream",
     "text": [
      "345 µs ± 5.29 µs per loop (mean ± std. dev. of 7 runs, 1000 loops each)\n"
     ]
    }
   ],
   "source": [
    "%%timeit\n",
    "def square(number):\n",
    "    return math.pow(number,2)\n",
    "squares = [square(i) for i in range(1000)]"
   ]
  },
  {
   "cell_type": "code",
   "execution_count": 59,
   "metadata": {},
   "outputs": [
    {
     "name": "stdout",
     "output_type": "stream",
     "text": [
      "419 µs ± 1.92 µs per loop (mean ± std. dev. of 7 runs, 1000 loops each)\n"
     ]
    }
   ],
   "source": [
    "%%timeit\n",
    "def square(number):\n",
    "    return number**2\n",
    "squares = list(map(square,range(1000)))"
   ]
  },
  {
   "cell_type": "code",
   "execution_count": null,
   "metadata": {
    "collapsed": true
   },
   "outputs": [],
   "source": []
  }
 ],
 "metadata": {
  "kernelspec": {
   "display_name": "Python 3",
   "language": "python",
   "name": "python3"
  },
  "language_info": {
   "codemirror_mode": {
    "name": "ipython",
    "version": 3
   },
   "file_extension": ".py",
   "mimetype": "text/x-python",
   "name": "python",
   "nbconvert_exporter": "python",
   "pygments_lexer": "ipython3",
   "version": "3.6.2"
  }
 },
 "nbformat": 4,
 "nbformat_minor": 2
}
