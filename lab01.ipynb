{
 "cells": [
  {
   "cell_type": "markdown",
   "metadata": {},
   "source": [
    "## Lab 01"
   ]
  },
  {
   "cell_type": "markdown",
   "metadata": {},
   "source": [
    "### Rozgrzewka (zalecana dla początkujących)"
   ]
  },
  {
   "cell_type": "markdown",
   "metadata": {},
   "source": [
    "a) Korzystając z ```virtualenv``` przygotuj wirtualne środowisko uruchomieniowe ([Wirtualne środowisko uruchomieniowe Pythona](http://blog.fizyk.net.pl/pl/blog/wirtualne-srodowisko-uruchomieniowe-pythona.html))."
   ]
  },
  {
   "cell_type": "markdown",
   "metadata": {},
   "source": [
    "b) Korzystając z ```pip``` zainstaluj pakiet ```roman``` i przetestuj go."
   ]
  },
  {
   "cell_type": "markdown",
   "metadata": {
    "collapsed": true
   },
   "source": [
    "### Zadania"
   ]
  },
  {
   "cell_type": "markdown",
   "metadata": {},
   "source": [
    "Zaimplementuj poniższe funkcje, tak żeby dołączone testy przechodziły. Polecenia znajdują się w docstringach pod deklaracją funkcji."
   ]
  },
  {
   "cell_type": "code",
   "execution_count": null,
   "metadata": {
    "collapsed": true
   },
   "outputs": [],
   "source": [
    "def sum_of_squares(n): \n",
    "    \"\"\" Funkcja powinna zwrócić sumę kwadratów liczb od 1 do n włącznie \"\"\"\n",
    "    pass\n",
    "\n",
    "print(sum_of_squares(1) == 1)\n",
    "print(sum_of_squares(3) == 14)\n",
    "print(sum_of_squares(10) == 385)"
   ]
  },
  {
   "cell_type": "code",
   "execution_count": null,
   "metadata": {
    "collapsed": true
   },
   "outputs": [],
   "source": [
    "def sum_of_multiples(k, n=101):\n",
    "    \"\"\" Funckja powinna zwrócić sume wszystkich dodatnich wieloktrotności parametru k mniejszych niż n \"\"\"\n",
    "    pass\n",
    "\n",
    "print(sum_of_multiples(5) == 1050)\n",
    "print(sum_of_multiples(17) == 255)\n",
    "print(sum_of_multiples(69) == 69)"
   ]
  },
  {
   "cell_type": "code",
   "execution_count": null,
   "metadata": {
    "collapsed": true
   },
   "outputs": [],
   "source": [
    "def primes_less_than(n):\n",
    "    \"\"\" Funkcja powinna zwrócić liste liczb pierwszych mniejszych od n \"\"\"\n",
    "    pass\n",
    "            \n",
    "print(primes_less_than(5) == [2,3])\n",
    "print(primes_less_than(10) == [2,3,5,7])\n",
    "print(primes_less_than(20) == [2, 3, 5, 7, 11, 13, 17, 19])"
   ]
  },
  {
   "cell_type": "code",
   "execution_count": null,
   "metadata": {
    "collapsed": true
   },
   "outputs": [],
   "source": [
    "def is_palindrome(word):\n",
    "    \"\"\" Funkcja sprawdza czy *word* jest palindromem \"\"\"\n",
    "    pass\n",
    "\n",
    "print(is_palindrome('ala') == True)\n",
    "print(is_palindrome('ananas') == False)\n",
    "print(is_palindrome('ananasa') == False)\n",
    "print(is_palindrome('tomek') == False)"
   ]
  },
  {
   "cell_type": "code",
   "execution_count": null,
   "metadata": {
    "collapsed": true
   },
   "outputs": [],
   "source": [
    "def how_many_different_letters(word):\n",
    "    \"\"\" Zwraca liczbę unikalnych znaków w słowie. Możemy założyć, że słowo składa się z małych liter alfabetu angielskiego \"\"\"\n",
    "    pass\n",
    "\n",
    "print(how_many_different_letters('tomek') == 5)\n",
    "print(how_many_different_letters('ala') == 2)\n",
    "print(how_many_different_letters('ananas') == 3)\n",
    "print(how_many_different_letters('jola') == 4)"
   ]
  },
  {
   "cell_type": "code",
   "execution_count": null,
   "metadata": {
    "collapsed": true
   },
   "outputs": [],
   "source": [
    "def list_to_table(word):\n",
    "    \"\"\" Funkcja przyjmuje 9-elementową liste i na jej podstawie tworzy stringa z HTMLową tabelą orzmiaru 3x3 \n",
    "    reprezentującą plansze do gry w kółko i krzyżyk\"\"\"\n",
    "    board = '<table style=\"table-layout: fixed; height: 90px; width: 90px;\">'\n",
    "    \n",
    "    # twoj kod \n",
    "    \n",
    "    board += \"\\n</table>\"\n",
    "    return board\n",
    "\n",
    "print(list_to_table(['X', '', 'O', '', 'X', '', 'O', '', 'O']))"
   ]
  },
  {
   "cell_type": "markdown",
   "metadata": {},
   "source": [
    "<table style=\"table-layout: fixed; height: 90px; width: 90px;\">\n",
    "  <tr>\n",
    "    <td>X</td>\n",
    "    <td> </td> \n",
    "    <td>O</td>\n",
    "  </tr>\n",
    "  <tr>\n",
    "    <td></td>\n",
    "    <td>X</td> \n",
    "    <td></td>\n",
    "  </tr>\n",
    "  <tr>\n",
    "    <td>O</td>\n",
    "    <td></td> \n",
    "    <td>O</td>\n",
    "  </tr>\n",
    "</table>"
   ]
  },
  {
   "cell_type": "code",
   "execution_count": 4,
   "metadata": {
    "collapsed": false
   },
   "outputs": [
    {
     "name": "stdout",
     "output_type": "stream",
     "text": [
      "True\n",
      "True\n",
      "True\n",
      "True\n"
     ]
    }
   ],
   "source": [
    "# Funkcję zwraca listę par liczb zaprzyjaźnionych nie większych niż n\n",
    "# (zobacz: https://pl.wikipedia.org/wiki/Liczby_zaprzyja%C5%BAnione)\n",
    "def sumaDzielnikow(n):\n",
    "    sumaDzielnikow = 0\n",
    "    for x in range(1, n//2+1):\n",
    "        if n % x == 0:\n",
    "            sumaDzielnikow += x\n",
    "    return sumaDzielnikow\n",
    "\n",
    "def zaprzyjaznione(n):\n",
    "    pomocnik = 0\n",
    "    tablicaLiczbZaprzyjaznionych = []\n",
    "    \n",
    "    for x in range(1,n):\n",
    "        if sumaDzielnikow(x) > 1:\n",
    "            if sumaDzielnikow(sumaDzielnikow(x)) == x and sumaDzielnikow(x) > x:\n",
    "                str = (x,sumaDzielnikow(x))\n",
    "                pomocnik += 1\n",
    "                tablicaLiczbZaprzyjaznionych.append(str)\n",
    "    return tablicaLiczbZaprzyjaznionych\n",
    "    \n",
    "    \n",
    "\n",
    "print(zaprzyjaznione(1) == [])\n",
    "print(zaprzyjaznione(300) == [(220, 284)])\n",
    "print(zaprzyjaznione(2000) == [(220, 284), (1184, 1210)])\n",
    "print(zaprzyjaznione(13000) == [(220, 284), (1184, 1210),(2620, 2924), (5020, 5564), (6232, 6368), (10744, 10856), (12285, 14595)])"
   ]
  },
  {
   "cell_type": "markdown",
   "metadata": {},
   "source": [
    "## Zadanie dodatkowe\n",
    "Można za nie zdobyć punkty z aktywności, równiez oddając je za tydzień.\n",
    "\n",
    "Dla zadanej tablicy o długości $n$ zawierającej liczby całkowite większe od zera. \n",
    "Chcemy znaleść podtablice, że $m$ kolejnych elementów sumuje się do $d$.\n",
    "\n",
    "Napisz funkcję która dla danych $m$, $d$ i sekwencję liczb całkowitych większych od zera $tab$, wypisze na ile sposobów można stworzyć taką podtablice?\n",
    "\n",
    "Przykładowo, niech $m=2$, $d=3$, a czekolada składa się z $tab = [1,2,1,3,2]$. Chcemy znaleźć takie dwa (bo m=2) elemnty pod rząd, których suma da nam $d=3$. Jest to pierwszy i drugi kwadracik lub drugi i trzeci.\n",
    "\n",
    "\n",
    "**Napisz program, który działa w czasie liniowym.**"
   ]
  },
  {
   "cell_type": "code",
   "execution_count": 8,
   "metadata": {
    "collapsed": true
   },
   "outputs": [],
   "source": [
    "def solve(d, m, tab):\n",
    "    suma = 0\n",
    "    sum_tab = [0]\n",
    "    for i in range(0, len(tab)):\n",
    "        suma += tab[i]\n",
    "        sum_tab.append(suma)\n",
    "        \n",
    "    sposoby = 0\n",
    "    for i in range(0, len(tab) - m + 1):\n",
    "        sposoby += (sum_tab[i + m] - sum_tab[i] == d)\n",
    "    return sposoby"
   ]
  },
  {
   "cell_type": "code",
   "execution_count": 11,
   "metadata": {
    "collapsed": true
   },
   "outputs": [],
   "source": [
    "def solve(d, m, tab):\n",
    "    solutions = 0\n",
    "    seq_sum = sum(tab[0:m])\n",
    "    for index, num in enumerate(tab[m:]):\n",
    "        if seq_sum == d:\n",
    "            solutions += 1\n",
    "        seq_sum = seq_sum - tab[index] + num\n",
    "    return solutions + (1 if seq_sum == d else 0)"
   ]
  },
  {
   "cell_type": "code",
   "execution_count": 12,
   "metadata": {
    "collapsed": true
   },
   "outputs": [],
   "source": [
    "tab=[1, 2, 1, 3, 2]\n",
    "d=3 \n",
    "m=2\n",
    "tab1=[1, 1, 1, 1, 1, 1]\n",
    "d1=3 \n",
    "m1=2\n",
    "tab2=[4,1,3,4,1,1,1,1,1,1,1]\n",
    "d2=4 \n",
    "m2=4"
   ]
  },
  {
   "cell_type": "code",
   "execution_count": 13,
   "metadata": {
    "collapsed": false
   },
   "outputs": [
    {
     "name": "stdout",
     "output_type": "stream",
     "text": [
      "True\n",
      "True\n",
      "True\n"
     ]
    }
   ],
   "source": [
    "print(solve(d, m, tab)==2)\n",
    "print(solve(d1, m1, tab1)==0)\n",
    "print(solve(d2, m2, tab2)==4)"
   ]
  },
  {
   "cell_type": "markdown",
   "metadata": {},
   "source": [
    "## Zadanie dodatkowe 2\n",
    "Można za nie zdobyć punkty z aktywności, również oddając je za tydzień.\n",
    "\n",
    "Napisz definicję funkcji HowManyIntegers(N), która zwróci jak wiele liczb z zakresu [1,N) składa się wyłącznie z cyfr {0,2,7,9}. <br><br>\n",
    "Czyli np. <br>\n",
    "HowManyIntegers(1) = 0 <br>\n",
    "HowManyIntegers(10) = 3 # 2,7,9 <br>\n",
    "HowManyIntegers(28) = 6 # 2,7,9,20,22,27 <br>\n",
    "\n",
    "Twoje rozwiązanie powinno mieć jak najmniej niebiałych znaków. Czy uda się w 69? A może da się jeszcze mniej?"
   ]
  },
  {
   "cell_type": "code",
   "execution_count": 21,
   "metadata": {
    "collapsed": false
   },
   "outputs": [
    {
     "name": "stdout",
     "output_type": "stream",
     "text": [
      "47\n",
      "True\n",
      "True\n",
      "True\n"
     ]
    }
   ],
   "source": [
    "def HowManyIntegers(n):\n",
    "    \n",
    "    return sum({*str(x)}<={*\"0279\"}for x in range(1,n))\n",
    "    \n",
    "    return len([x for x in range(1,n) if set(str(x))<=set(\"0279\")])\n",
    "\n",
    "\n",
    "code = 'return sum({*str(x)}<={*\"0279\"}for x in range(1,n))'\n",
    "{*str(x)}\n",
    "print(len([x for x in code if x!=\" \"]))\n",
    "print(HowManyIntegers(1) == 0)\n",
    "print(HowManyIntegers(10) == 3) # 2,7,9)\n",
    "print(HowManyIntegers(28) == 6) # 2,7,9,20,22,27) "
   ]
  },
  {
   "cell_type": "markdown",
   "metadata": {},
   "source": [
    "## Bonusy\n",
    "\n",
    "\"Dodatkowe\" pakiety Pythona"
   ]
  },
  {
   "cell_type": "code",
   "execution_count": 22,
   "metadata": {
    "collapsed": true
   },
   "outputs": [],
   "source": [
    "# flying\n",
    "import antigravity"
   ]
  },
  {
   "cell_type": "code",
   "execution_count": 23,
   "metadata": {
    "collapsed": false
   },
   "outputs": [
    {
     "name": "stdout",
     "output_type": "stream",
     "text": [
      "The Zen of Python, by Tim Peters\n",
      "\n",
      "Beautiful is better than ugly.\n",
      "Explicit is better than implicit.\n",
      "Simple is better than complex.\n",
      "Complex is better than complicated.\n",
      "Flat is better than nested.\n",
      "Sparse is better than dense.\n",
      "Readability counts.\n",
      "Special cases aren't special enough to break the rules.\n",
      "Although practicality beats purity.\n",
      "Errors should never pass silently.\n",
      "Unless explicitly silenced.\n",
      "In the face of ambiguity, refuse the temptation to guess.\n",
      "There should be one-- and preferably only one --obvious way to do it.\n",
      "Although that way may not be obvious at first unless you're Dutch.\n",
      "Now is better than never.\n",
      "Although never is often better than *right* now.\n",
      "If the implementation is hard to explain, it's a bad idea.\n",
      "If the implementation is easy to explain, it may be a good idea.\n",
      "Namespaces are one honking great idea -- let's do more of those!\n"
     ]
    }
   ],
   "source": [
    "# PEP20\n",
    "import this"
   ]
  },
  {
   "cell_type": "code",
   "execution_count": null,
   "metadata": {
    "collapsed": true
   },
   "outputs": [],
   "source": [
    "# A poem\n",
    "love = this\n",
    "\n",
    "this is love, love is not True or False, love is love"
   ]
  },
  {
   "cell_type": "code",
   "execution_count": null,
   "metadata": {
    "collapsed": true
   },
   "outputs": [],
   "source": [
    "# Nie lubię wcięć, chce używać nawiasów {} do bloków kodu\n",
    "from __future__ import braces"
   ]
  }
 ],
 "metadata": {
  "kernelspec": {
   "display_name": "Python 3",
   "language": "python",
   "name": "python3"
  },
  "language_info": {
   "codemirror_mode": {
    "name": "ipython",
    "version": 3
   },
   "file_extension": ".py",
   "mimetype": "text/x-python",
   "name": "python",
   "nbconvert_exporter": "python",
   "pygments_lexer": "ipython3",
   "version": "3.5.0"
  }
 },
 "nbformat": 4,
 "nbformat_minor": 2
}
