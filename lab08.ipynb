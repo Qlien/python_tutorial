{
 "cells": [
  {
   "cell_type": "markdown",
   "metadata": {},
   "source": [
    "# Lab 08"
   ]
  },
  {
   "cell_type": "markdown",
   "metadata": {},
   "source": [
    "## Zadanie 1"
   ]
  },
  {
   "cell_type": "markdown",
   "metadata": {},
   "source": [
    "Przygotuj demo programu znajdującego miejsca zerowe metodą Newtona. Wykorzystując `optparse` ([link](https://docs.python.org/3.6/library/optparse.html)) obsłuż:\n",
    "- ustalane punktu startowego,\n",
    "- wielkość kroku w pochodnej,\n",
    "- ilość kroków metody,\n",
    "- dokładność\n",
    "- pomoc\n",
    "\n",
    "Program uruchamiamy podając, np.:"
   ]
  },
  {
   "cell_type": "markdown",
   "metadata": {},
   "source": [
    "`./newton.py x**2+x+1 -h 0.00001`"
   ]
  },
  {
   "cell_type": "code",
   "execution_count": 29,
   "metadata": {
    "collapsed": false
   },
   "outputs": [
    {
     "name": "stdout",
     "output_type": "stream",
     "text": [
      "Namespace(e=0.0001, func='x**2+2*x+1', h=1e-05, n=1000, x=0.0)\n",
      "-0.9921825401290264\n",
      "6.111267883424087e-05\n"
     ]
    }
   ],
   "source": [
    "import argparse\n",
    "\n",
    "parser = argparse.ArgumentParser()\n",
    "\n",
    "parser.add_argument(\"func\", type=type(\"\"), action=\"store\")\n",
    "parser.add_argument(\"-d\", dest=\"h\", type=type(0.0), \\\n",
    "                    action=\"store\", default=0.001, required=False)\n",
    "parser.add_argument(\"-x\", dest=\"x\", type=type(0.0), \\\n",
    "                    action=\"store\", default=0.001, required=True)\n",
    "parser.add_argument(\"-n\", dest=\"n\", type=int, \\\n",
    "                    action=\"store\", default=1000, required=False)\n",
    "parser.add_argument(\"-e\", dest=\"e\", type=type(0.0), \\\n",
    "                    action=\"store\", default=0.0001, required=False)\n",
    "\n",
    "args = parser.parse_args([\"x**2+2*x+1\", \"-d\", \"0.00001\", \"-x\", \"0\"])\n",
    "print(args)\n",
    "\n",
    "def newton(x0, f, h, n, e):\n",
    "    x = x0\n",
    "    y = f(x)\n",
    "    delta = abs(y)\n",
    "    step = 1\n",
    "    while delta > e and step <= n:\n",
    "        x = x - (f(x) / ((f(x+h) - f(x)) / h))\n",
    "        y = f(x)\n",
    "        delta = abs(y)\n",
    "        step += 1\n",
    "    return x\n",
    "    \n",
    "def f(x):\n",
    "    return eval(f.func)\n",
    "f.func = args.func\n",
    "    \n",
    "x0 = newton(args.x, f, args.h, args.n, args.e)\n",
    "print(x0)\n",
    "print(f(x0))    \n",
    "\n"
   ]
  },
  {
   "cell_type": "markdown",
   "metadata": {},
   "source": [
    "## Zadanie 2"
   ]
  },
  {
   "cell_type": "markdown",
   "metadata": {},
   "source": [
    "Zadanie należy wykonać wykorzystując program `BagOfWords` z poprzednich zajęć.\n",
    "\n",
    "\n",
    "Przerób ją tak, żeby interpunkcja, cyfry i wszelkie inne znaki nie przeszkadzały w parsowaniu tekstu. Uruchom ja na [tekście hamleta](http://www.gutenberg.org/cache/epub/1787/pg1787.txt). Ile razy występuje słowo hamlet? Jak brzmi 10 najczęściej występujących słów?"
   ]
  },
  {
   "cell_type": "markdown",
   "metadata": {},
   "source": [
    "## Zadanie 3"
   ]
  },
  {
   "cell_type": "markdown",
   "metadata": {},
   "source": [
    "Wykorzystując `pickle` zapisz i odczytaj klasy z poprzedniego zadania nakarmonej Hamletem. Porównaj metody i rozmiar."
   ]
  },
  {
   "cell_type": "markdown",
   "metadata": {},
   "source": [
    "## Zadanie 4"
   ]
  },
  {
   "cell_type": "markdown",
   "metadata": {},
   "source": [
    "Wykorzystując [https://gist.github.com/pamelafox/986163](https://gist.github.com/pamelafox/986163) podaj aktualną godzinę we:\n",
    "- wszystkich krajach, wyświetlając je zgrupowane względem kontynentów,\n",
    "- [3 punkty do aktywności] przeprowadź symulacyjne wyświetlanie kolejnych krajów w miarę jak w danym kraju wybija północ, opóżnienie wyświetlania ustaw proporcjonalne do realneo czasu"
   ]
  },
  {
   "cell_type": "markdown",
   "metadata": {},
   "source": [
    "## Zadanie 5"
   ]
  },
  {
   "cell_type": "markdown",
   "metadata": {},
   "source": [
    "Dla klasy `BagOfWords` napisz metody `save` oraz `load` wykorzystujące `json`'a do zapisu i odczytu danych."
   ]
  }
 ],
 "metadata": {
  "kernelspec": {
   "display_name": "Python 3",
   "language": "python",
   "name": "python3"
  },
  "language_info": {
   "codemirror_mode": {
    "name": "ipython",
    "version": 3
   },
   "file_extension": ".py",
   "mimetype": "text/x-python",
   "name": "python",
   "nbconvert_exporter": "python",
   "pygments_lexer": "ipython3",
   "version": "3.5.0"
  }
 },
 "nbformat": 4,
 "nbformat_minor": 2
}
