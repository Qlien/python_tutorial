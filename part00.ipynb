{
 "cells": [
  {
   "cell_type": "markdown",
   "metadata": {},
   "source": [
    "# Efektywne programowanie w języku Python"
   ]
  },
  {
   "cell_type": "markdown",
   "metadata": {},
   "source": [
    "## Prowadzący\n",
    "- dr Krzysztof Misztal, krzysztof.misztal@uj.edu.pl, pokój 2164, dyżur: ...\n",
    "- mgr Krzysztof Hajto, ..."
   ]
  },
  {
   "cell_type": "markdown",
   "metadata": {
    "collapsed": true
   },
   "source": [
    "## Sprawy organizacyjne"
   ]
  },
  {
   "cell_type": "markdown",
   "metadata": {},
   "source": [
    "#### Kryteria oceny\n",
    "\n",
    "Ocena końcowa z przedmiotu wystawiana jest na podstawie poniższej listy aktywności\n",
    "- (60p) **Kolokwia (zadania rozwiązywane samodzielnie na laboratorium)**\n",
    "\n",
    "    Planowane są dwa kolokwia po 30 punktów każde. Kolokwium realizowane będzie w sali komputerowej, w terminie wspólnym dla wszystkich uczęszczających na przedmiot.\n",
    "    \n",
    "    \n",
    "- (30p) **Projekt**\n",
    "    \n",
    "    Projekt zaliczeniowy będzie dotyczył jednego z tematów, które zostaną przedstawione przez prowadzącego. Projekty będą jedno- lub dwu-osobowe (oczywiście wtedy będą większe). Nie ma tu możliwości oddania projektu z innego przedmiotu, ponieważ celem realizacji projektu jest pogłębienie wiedzy z języka. Projekt będzie oceniany przez wykładowcę, przy czym kryteria i szczegóły oceny zostaną zaprezentowane odpowiednio wcześniej.\n",
    "    \n",
    "    Przykład projektu: implementacja gry 2048 wraz z botami.\n",
    "    \n",
    "\n",
    "- (10p) **Aktywność w czasie laboratoriów**\n",
    "\n",
    "    Aktywne uczestnictwo w laboratoriach [subiektywna ocena ćwiczeniowca], m.in. rozwiązywanie zadań podanych podczas zajęć, udział w nich poprzez zadawanie pytań, prowadzenie merytorycznej dyskusji.\n",
    "    \n",
    "    \n",
    "- (10p) **Udzielanie się w społeczności**\n",
    "\n",
    "    Python to także jego społeczność. Są dwie podstawowe metody zaangażowania, które gwarantują otrzymanie kompletu punktów za tę część:\n",
    "\n",
    "    - aktywne uczestnictwo w sieci stackoverflow.com - oczekuję udzielenia 10 rozsądnych odpowiedzi na pytania z flagą [python] \n",
    "    - zaangażowanie się w dowolny open sourcowy projekt pythonowy na github.com i zgłoszenie dwóch istotnych poprawek [rozwiązań istniejących issues/features requests] Oceniane przez wykładowcę.\n",
    "    \n",
    "    \n",
    "- (15p) **Aktywność w trakcie wykładu**\n",
    "\n",
    "    Na wykładzie będą ogłaszane, którkie pytania do rozważania/wyszukania. Prezentacja każdego z takich zagadanień będzie oceniana przez wykładowcę w skali od 0 do 5 punktów. Jedna osoba nie może zaprezentować więcej niż 4 odpowiedzi na takie pytania i nie może zgromadzić więcej niż 15 punktów. \n",
    "    \n",
    "    Przykład: a) jak działa `timeit`; b) jak przejść dwójkami (zachodzącymi na siebie lub nie) po liście\n",
    "    "
   ]
  },
  {
   "cell_type": "markdown",
   "metadata": {},
   "source": [
    "#### (Nie)Obecności \n",
    "Obecność na laboratoriach jest obowiązkowa. Dopuszcza się trzy nieobcności, bez konieczności usprawiedliwienia. Przekroczenie tego limitu powoduje niezaliczenie przedmiotu, niezależy od liczby zdobytych punktów. \n",
    "\n",
    "Dla osób, które nie będą mogły uczestniczy, w którym kolwiek kolokwium organizowane jest dodatkowe kolokwium w terminie sesji z zagadnień zwiazanych z całym materiałem przerobionym na laboratoriach."
   ]
  },
  {
   "cell_type": "markdown",
   "metadata": {},
   "source": [
    "#### Stopnie\n",
    "\n",
    "Zaliczenie przedmiotu wymaga uzyskania 50% maksymalnej liczby punktów. Oceny wystawiane są według skali\n",
    "\n",
    "| ocena   | punkty      |\n",
    "|:--------:|:-----------:| \n",
    "| 5.0      | [90%, 100%) |\n",
    "| 4.5      | [80%, 90%)  |\n",
    "| 4.0      | [70%, 80%)  |\n",
    "| 3.5      | [60%, 70%)  |\n",
    "| 3.0      | [50%, 60%)  |"
   ]
  },
  {
   "cell_type": "markdown",
   "metadata": {},
   "source": [
    "Osoby, które zaliczą ćwiczenia, lecz w toku normalnych zajęć nie uzyskają wymaganej liczb punktów, będą pisały egzamin w sesji, w zwykłym terminie (i ewnetualnie egzamin poprawowy w sesji poprawkowej). Z egzaminu nie można uzyskać oceny wyższej niż 3.0."
   ]
  },
  {
   "cell_type": "markdown",
   "metadata": {},
   "source": [
    "#### Uwagi:\n",
    "1. Nie jest możliwe przepisywanie oceny na podstawie zajęć zrealizowanych na I stopniu studiów.\n",
    "2. ..."
   ]
  },
  {
   "cell_type": "markdown",
   "metadata": {},
   "source": [
    "## Materiały\n",
    "\n",
    "Kurs jest oparty m.in. na:\n",
    "- http://stanfordpython.com\n",
    "- https://stanford.edu/~schmit/cme193/project.html\n",
    "- https://github.com/gmum/python-lecture"
   ]
  },
  {
   "cell_type": "markdown",
   "metadata": {},
   "source": [
    "## Podstawowe cele tego przedmiotu są dwa:\n",
    "\n",
    "1. Develop skills with Python fundamentals, both old and new\n",
    "2. Learn to recognize and write \"good\" Python\n",
    "3. Gain experience with practical Python tasks\n",
    "4. Understand when to choose Python (or not)"
   ]
  },
  {
   "cell_type": "markdown",
   "metadata": {},
   "source": [
    "## Tematyka\n",
    "\n",
    "- Rozgrzewka\n",
    "- Data structures\n",
    "- Functions\n",
    "- Functional programming\n",
    "- Object-oriented Python\n",
    "- Standard library\n",
    "- Third-party tools\n",
    "    1.\tPillow, scikit-image – manipulacja  obrazami\n",
    "    2.\tNumpy, Scipy – obliczenia numeryczne\n",
    "    3.\tMatplotlib, PyGoogleChart – tworzenie wykresów\n",
    "    4.\tScikit-learn – metody uczenia maszynowego\n",
    "    5.\tPandas, h5py – obsługa dużych plików\n"
   ]
  },
  {
   "cell_type": "code",
   "execution_count": null,
   "metadata": {
    "collapsed": true
   },
   "outputs": [],
   "source": []
  }
 ],
 "metadata": {
  "kernelspec": {
   "display_name": "Python 3",
   "language": "python",
   "name": "python3"
  },
  "language_info": {
   "codemirror_mode": {
    "name": "ipython",
    "version": 3
   },
   "file_extension": ".py",
   "mimetype": "text/x-python",
   "name": "python",
   "nbconvert_exporter": "python",
   "pygments_lexer": "ipython3",
   "version": "3.6.2"
  }
 },
 "nbformat": 4,
 "nbformat_minor": 1
}
