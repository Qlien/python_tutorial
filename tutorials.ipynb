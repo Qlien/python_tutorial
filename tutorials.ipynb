{
 "cells": [
  {
   "cell_type": "markdown",
   "metadata": {},
   "source": [
    "## Ciekawe źródła informacji o pythonie i nie tylko:"
   ]
  },
  {
   "cell_type": "markdown",
   "metadata": {},
   "source": [
    "Uwaga: W myśl 'Zen Pytona' proszę wybierać zawsze bezpłatne rozwiązania"
   ]
  },
  {
   "cell_type": "markdown",
   "metadata": {},
   "source": [
    "- [What is the Best Way to Learn Python in 2016?](http://slash4.net/blog/python/what-is-the-best-way-to-learn-python-in-2016.html)"
   ]
  },
  {
   "cell_type": "markdown",
   "metadata": {},
   "source": [
    "- Książkę Effective Python, która jest dostępna w wersji online: http://d.telegchannel.com/1/12/1/ef7a5082-f5ab-4bf5-bdeb-d4f1a70e2e53.pdf Nie wiem czy była już gdzieś podawana, ale dość pokrywa się z wykładem."
   ]
  },
  {
   "cell_type": "markdown",
   "metadata": {},
   "source": [
    "- Strona internetowa: http://www.diveintopython3.net/table-of-contents.html Jest praktycznie wszystko opisane z dobrymi przykładami, także pokrywa się z wykładem."
   ]
  },
  {
   "cell_type": "markdown",
   "metadata": {},
   "source": [
    "- Uważam, że dobrym źródełm do nauki Pythona jest kurs (a w zasadzie seria kursów na Corsuerze). Kurs zapoczątkowujący specjalizację Python for Everybody nazywa się Programming for Everybody (Getting Started with Python) - jest dostępy pod linkiem: https://www.coursera.org/learn/python. Kurs jest bardzo przyjazny dla osób początkujących -  nawet osób, które nie miały nigdy styczności z programowaniem. Kurs jest całkowicie darmowy - wystarczy sie zarejstrować na Courserze. Autor udostępnia też materiały (np. podręcznik) również darmowo. Kurs jest o tyle fajny, ze skłąda się z teorii - wykładów oraz ćwiczeń praktycznych."
   ]
  },
  {
   "cell_type": "markdown",
   "metadata": {},
   "source": [
    "- Na Courserze jest jeszcze kilka innych darmowych kursów (poza wspomnianą specjalizacją) dotyczących Python, np.: Introduction to Data Science in Python dostępny pod linkiem: https://www.coursera.org/learn/python-data-analysis, który jest rówież częścią większej specjalizacji (Applied Data Science with Python Specialization) poświęconej typowo pracy z danymi (np. w pierwszym kursie w tej specjalizacji wprowadzony jest pakiet pandas do obróbki statystycznej danych)."
   ]
  },
  {
   "cell_type": "markdown",
   "metadata": {},
   "source": [
    "- Dla  osób szukajacych naukowych zastosowań Pythona (tzn. np statystyka, deep learning itp.) ciekawych materiałów dostarza strona DataCamp: https://www.datacamp.com/tracks/data-scientist-with-python. Strona wymaga zalogowania i niestety wiele funkcji jest płatnych."
   ]
  },
  {
   "cell_type": "code",
   "execution_count": null,
   "metadata": {
    "collapsed": true
   },
   "outputs": [],
   "source": []
  }
 ],
 "metadata": {
  "kernelspec": {
   "display_name": "Python 3",
   "language": "python",
   "name": "python3"
  },
  "language_info": {
   "codemirror_mode": {
    "name": "ipython",
    "version": 3
   },
   "file_extension": ".py",
   "mimetype": "text/x-python",
   "name": "python",
   "nbconvert_exporter": "python",
   "pygments_lexer": "ipython3",
   "version": "3.6.2"
  }
 },
 "nbformat": 4,
 "nbformat_minor": 2
}
