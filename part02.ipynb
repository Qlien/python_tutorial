{
 "cells": [
  {
   "cell_type": "markdown",
   "metadata": {
    "slideshow": {
     "slide_type": "slide"
    }
   },
   "source": [
    "# Efektywne programowanie w języku Python \n",
    "\n",
    "## wykład 2"
   ]
  },
  {
   "cell_type": "markdown",
   "metadata": {
    "slideshow": {
     "slide_type": "slide"
    }
   },
   "source": [
    "## What is truth?"
   ]
  },
  {
   "cell_type": "code",
   "execution_count": null,
   "metadata": {
    "collapsed": true,
    "slideshow": {
     "slide_type": "fragment"
    }
   },
   "outputs": [],
   "source": [
    "# 'Falsy'\n",
    "bool(None)\n",
    "bool(False)\n",
    "bool(0)\n",
    "bool(0.0)\n",
    "bool('')"
   ]
  },
  {
   "cell_type": "code",
   "execution_count": null,
   "metadata": {
    "collapsed": true,
    "slideshow": {
     "slide_type": "subslide"
    }
   },
   "outputs": [],
   "source": [
    "# Empty data structures are 'falsy'\n",
    "bool([]) # => False"
   ]
  },
  {
   "cell_type": "code",
   "execution_count": null,
   "metadata": {
    "collapsed": true,
    "slideshow": {
     "slide_type": "fragment"
    }
   },
   "outputs": [],
   "source": [
    "# How should we check for an empty list?\n",
    "data = []\n",
    "if data:\n",
    "    process(data):\n",
    "else:\n",
    "    print(\"There's no data!\")"
   ]
  },
  {
   "cell_type": "markdown",
   "metadata": {
    "slideshow": {
     "slide_type": "fragment"
    }
   },
   "source": [
    "> goto opt02 :) part 1"
   ]
  },
  {
   "cell_type": "code",
   "execution_count": null,
   "metadata": {
    "collapsed": true,
    "slideshow": {
     "slide_type": "subslide"
    }
   },
   "outputs": [],
   "source": [
    "#You should not use \n",
    "if expr == True:\n",
    "    pass\n",
    "\n",
    "# or\n",
    "if len(data) == 0:\n",
    "    pass"
   ]
  },
  {
   "cell_type": "markdown",
   "metadata": {
    "slideshow": {
     "slide_type": "slide"
    }
   },
   "source": [
    "## Range"
   ]
  },
  {
   "cell_type": "code",
   "execution_count": null,
   "metadata": {
    "collapsed": true,
    "slideshow": {
     "slide_type": "fragment"
    }
   },
   "outputs": [],
   "source": [
    "range(3)\n",
    "# generates 0, 1, 2\n",
    "\n",
    "range(5, 10)\n",
    "# generates 5, 6, 7, 8, 9\n",
    "\n",
    "range(2, 12, 3)\n",
    "# generates 2, 5, 8, 11\n",
    "\n",
    "range(-7, -30, -5)\n",
    "# generates -7, -12, -17, -22, -27"
   ]
  },
  {
   "cell_type": "markdown",
   "metadata": {
    "collapsed": true,
    "slideshow": {
     "slide_type": "slide"
    }
   },
   "source": [
    "## Data structures"
   ]
  },
  {
   "cell_type": "markdown",
   "metadata": {
    "slideshow": {
     "slide_type": "slide"
    }
   },
   "source": [
    "### 1. Lists"
   ]
  },
  {
   "cell_type": "markdown",
   "metadata": {
    "slideshow": {
     "slide_type": "fragment"
    }
   },
   "source": [
    "> Finite, ordered, mutable sequence of elements"
   ]
  },
  {
   "cell_type": "code",
   "execution_count": null,
   "metadata": {
    "collapsed": true,
    "slideshow": {
     "slide_type": "fragment"
    }
   },
   "outputs": [],
   "source": [
    "simple_list = [1, 2, 3]"
   ]
  },
  {
   "cell_type": "code",
   "execution_count": null,
   "metadata": {
    "collapsed": true,
    "slideshow": {
     "slide_type": "subslide"
    }
   },
   "outputs": [],
   "source": [
    "# Create a new list\n",
    "empty = []\n",
    "letters = ['a', 'b', 'c', 'd']\n",
    "numbers = [2, 3, 5]"
   ]
  },
  {
   "cell_type": "code",
   "execution_count": null,
   "metadata": {
    "collapsed": true,
    "slideshow": {
     "slide_type": "fragment"
    }
   },
   "outputs": [],
   "source": [
    "# Lists can contain elements of different types\n",
    "mixed = [4, 5, \"seconds\"]"
   ]
  },
  {
   "cell_type": "code",
   "execution_count": null,
   "metadata": {
    "collapsed": true,
    "slideshow": {
     "slide_type": "fragment"
    }
   },
   "outputs": [],
   "source": [
    "# Append elements to the end of a list\n",
    "numbers.append(7) # numbers == [2, 3, 5, 7]\n",
    "numbers.append(11) # numbers == [2, 3, 5, 7, 11]"
   ]
  },
  {
   "cell_type": "code",
   "execution_count": null,
   "metadata": {
    "collapsed": true,
    "slideshow": {
     "slide_type": "fragment"
    }
   },
   "outputs": [],
   "source": [
    "# Access elements at a particular index\n",
    "numbers[0] # => 2\n",
    "numbers[-1] # => 11"
   ]
  },
  {
   "cell_type": "code",
   "execution_count": null,
   "metadata": {
    "collapsed": true,
    "slideshow": {
     "slide_type": "fragment"
    }
   },
   "outputs": [],
   "source": [
    "# You can also slice lists - the usual rules apply\n",
    "letters[:3] # => ['a', 'b', 'c']\n",
    "numbers[1:-1] # => [3, 5, 7]"
   ]
  },
  {
   "cell_type": "code",
   "execution_count": null,
   "metadata": {
    "collapsed": true,
    "slideshow": {
     "slide_type": "subslide"
    }
   },
   "outputs": [],
   "source": [
    "# Nested lists\n",
    "#\n",
    "# Lists really can contain anything - even other lists!\n",
    "x = [letters, numbers]\n",
    "x # => [['a', 'b', 'c', 'd'], [2, 3, 5, 7, 11]]\n",
    "x[0] # => ['a', 'b', 'c', 'd']\n",
    "x[0][1] # => 'b'\n",
    "x[1][2:] # => [5, 7, 11]"
   ]
  },
  {
   "cell_type": "markdown",
   "metadata": {
    "slideshow": {
     "slide_type": "subslide"
    }
   },
   "source": [
    "Methods reference"
   ]
  },
  {
   "cell_type": "code",
   "execution_count": null,
   "metadata": {
    "collapsed": true,
    "slideshow": {
     "slide_type": "subslide"
    }
   },
   "outputs": [],
   "source": [
    "# Extend list by appending elements from the iterable\n",
    "my_list.extend(iterable)\n",
    "# Insert object before index\n",
    "my_list.insert(index, object)\n",
    "# Remove first occurrence of value, or raise ValueError\n",
    "my_list.remove(value)\n",
    "# Remove all items\n",
    "my_list.clear()"
   ]
  },
  {
   "cell_type": "code",
   "execution_count": null,
   "metadata": {
    "collapsed": true,
    "slideshow": {
     "slide_type": "subslide"
    }
   },
   "outputs": [],
   "source": [
    "# Return number of occurrences of value\n",
    "my_list.count(value)\n",
    "# Return first index of value, or raise ValueError\n",
    "my_list.index(value, [start, [stop]])\n",
    "# Remove, return item at index (def. last) or IndexError\n",
    "my_list.pop([index])\n",
    "# Stable sort *in place*\n",
    "my_list.sort(key=None, reverse=False)\n",
    "# Reverse *in place*.\n",
    "my_list.reverse()"
   ]
  },
  {
   "cell_type": "code",
   "execution_count": null,
   "metadata": {
    "collapsed": true,
    "slideshow": {
     "slide_type": "subslide"
    }
   },
   "outputs": [],
   "source": [
    "# Length (len)\n",
    "len([]) # => 0\n",
    "len(\"python\") # => 6\n",
    "len([4,5,\"seconds\"]) # => 3"
   ]
  },
  {
   "cell_type": "code",
   "execution_count": null,
   "metadata": {
    "collapsed": true,
    "slideshow": {
     "slide_type": "fragment"
    }
   },
   "outputs": [],
   "source": [
    "# Membership (in)\n",
    "0 in [] # => False\n",
    "'y' in 'python' # => True\n",
    "'minutes' in [4, 5, 'seconds'] # => False"
   ]
  },
  {
   "cell_type": "markdown",
   "metadata": {
    "slideshow": {
     "slide_type": "slide"
    }
   },
   "source": [
    "### 2. Dictionary"
   ]
  },
  {
   "cell_type": "markdown",
   "metadata": {
    "slideshow": {
     "slide_type": "fragment"
    }
   },
   "source": [
    "> Mutable map from hashable values to arbitrary objects"
   ]
  },
  {
   "cell_type": "markdown",
   "metadata": {
    "slideshow": {
     "slide_type": "fragment"
    }
   },
   "source": [
    "Keys can be a variety of types, as long as they are hashable. Values can be a variety of types too."
   ]
  },
  {
   "cell_type": "code",
   "execution_count": null,
   "metadata": {
    "collapsed": true,
    "slideshow": {
     "slide_type": "subslide"
    }
   },
   "outputs": [],
   "source": [
    "empty = {}\n",
    "type(empty) # => dict\n",
    "empty == dict() # => True"
   ]
  },
  {
   "cell_type": "code",
   "execution_count": null,
   "metadata": {
    "collapsed": true,
    "slideshow": {
     "slide_type": "fragment"
    }
   },
   "outputs": [],
   "source": [
    "a = dict(one=1, two=2, three=3)\n",
    "b = {\"one\": 1, \"two\": 2, \"three\": 3}\n",
    "a == b # => True"
   ]
  },
  {
   "cell_type": "code",
   "execution_count": null,
   "metadata": {
    "collapsed": true,
    "slideshow": {
     "slide_type": "subslide"
    }
   },
   "outputs": [],
   "source": [
    "b = {\"one\": 1, \"two\": 2, \"three\": 3}\n",
    "\n",
    "# Get\n",
    "d['one'] # => 1\n",
    "d['five'] # raises KeyError\n",
    "\n",
    "# Set\n",
    "d['two'] = 22 # Modify an existing key\n",
    "d['four'] = 4 # Add a new key"
   ]
  },
  {
   "cell_type": "code",
   "execution_count": null,
   "metadata": {
    "collapsed": true,
    "slideshow": {
     "slide_type": "subslide"
    }
   },
   "outputs": [],
   "source": [
    "d = {\"CS\":[106, 107, 110], \"MATH\": [51, 113]}\n",
    "\n",
    "d[\"COMPSCI\"] # raises KeyError\n",
    "\n",
    "# Use get() method to avoid the KeyError\n",
    "d.get(\"CS\") # => [106, 107, 110]\n",
    "d.get(\"PHIL\") # => None (not a KeyError!)\n",
    "\n",
    "english_classes = d.get(\"ENGLISH\", [])\n",
    "num_english = len(english_classes)"
   ]
  },
  {
   "cell_type": "code",
   "execution_count": null,
   "metadata": {
    "collapsed": true,
    "slideshow": {
     "slide_type": "subslide"
    }
   },
   "outputs": [],
   "source": [
    "d = {\"one\": 1, \"two\": 2, \"three\": 3}\n",
    "\n",
    "#Raises KeyError if invalid key\n",
    "del d[\"one\"]\n",
    "\n",
    "#Remove and return d['three'] or default value if not in the map\n",
    "d.pop(\"three\", default) # => 3\n",
    "\n",
    "# Remove and return an arbitrary (key, value) pair. Useful for destructive iteration\n",
    "d.popitem() # => (\"two\", 2)"
   ]
  },
  {
   "cell_type": "code",
   "execution_count": null,
   "metadata": {
    "collapsed": true,
    "slideshow": {
     "slide_type": "subslide"
    }
   },
   "outputs": [],
   "source": [
    "d = {\"one\": 1, \"two\": 2, \"three\": 3}\n",
    "\n",
    "# These dictionary views are dynamic, reflecting changes in the underlying dictionary!\n",
    "d.keys()\n",
    "d.values()\n",
    "d.items()\n",
    "\n",
    "('one', 1) in d.items()"
   ]
  },
  {
   "cell_type": "code",
   "execution_count": null,
   "metadata": {
    "collapsed": true,
    "slideshow": {
     "slide_type": "subslide"
    }
   },
   "outputs": [],
   "source": [
    "len(d)\n",
    "\n",
    "key in d # equiv. to `key in d.keys()`\n",
    "\n",
    "value in d.values()\n",
    "\n",
    "d.copy()\n",
    "d.clear()\n",
    "\n",
    "for key in d: # equiv. to `for key in d.keys():`\n",
    "    print(key)"
   ]
  },
  {
   "cell_type": "markdown",
   "metadata": {
    "collapsed": true,
    "slideshow": {
     "slide_type": "slide"
    }
   },
   "source": [
    "### 3. Tuples"
   ]
  },
  {
   "cell_type": "markdown",
   "metadata": {
    "slideshow": {
     "slide_type": "fragment"
    }
   },
   "source": [
    "> Immutable Sequences\n",
    ">\n",
    "> To:\n",
    "> 1. Store collections of heterogeneous data\n",
    "> 2. \"Freeze\" sequence to ensure hashability\n",
    "> 3. Enforce immutability for fixed-size collections"
   ]
  },
  {
   "cell_type": "code",
   "execution_count": null,
   "metadata": {
    "collapsed": true,
    "slideshow": {
     "slide_type": "subslide"
    }
   },
   "outputs": [],
   "source": [
    "fish = (1, 2, \"red\", \"blue\")\n",
    "fish[0] # => 1\n",
    "fish[0] = 7 # Raises a TypeError"
   ]
  },
  {
   "cell_type": "code",
   "execution_count": null,
   "metadata": {
    "collapsed": true,
    "slideshow": {
     "slide_type": "fragment"
    }
   },
   "outputs": [],
   "source": [
    "len(fish) # => 4\n",
    "fish[:2] # => (1, 2)\n",
    "\"red\" in fish # => True"
   ]
  },
  {
   "cell_type": "markdown",
   "metadata": {
    "slideshow": {
     "slide_type": "subslide"
    }
   },
   "source": [
    "#### Argument Packing and Unpacking"
   ]
  },
  {
   "cell_type": "code",
   "execution_count": null,
   "metadata": {
    "collapsed": true,
    "slideshow": {
     "slide_type": "fragment"
    }
   },
   "outputs": [],
   "source": [
    "# Comma-separated Rvalues are converted to a tuple\n",
    "t = 12345, 54321, 'hello!'\n",
    "print(t) # (12345, 54321, 'hello!')\n",
    "type(t) # => tuple"
   ]
  },
  {
   "cell_type": "code",
   "execution_count": null,
   "metadata": {
    "collapsed": true,
    "slideshow": {
     "slide_type": "fragment"
    }
   },
   "outputs": [],
   "source": [
    "# Comma-separated Lvalues are unpacked automatically\n",
    "x, y, z = t\n",
    "x # => 12345\n",
    "y # => 54321\n",
    "z # => 'hello!'"
   ]
  },
  {
   "cell_type": "code",
   "execution_count": null,
   "metadata": {
    "collapsed": true,
    "slideshow": {
     "slide_type": "subslide"
    }
   },
   "outputs": [],
   "source": [
    "for index, color in enumerate(['red','green','blue']):\n",
    "    print(index, color)\n",
    "    \n",
    "# =>\n",
    "# 0 red\n",
    "# 1 green\n",
    "# 2 blue\n",
    "\n",
    "# SOOOOoooooo:\n",
    "#This also means you should almost never use\n",
    "for i in range(len(sequence)):\n",
    "    pass"
   ]
  },
  {
   "cell_type": "markdown",
   "metadata": {
    "slideshow": {
     "slide_type": "subslide"
    }
   },
   "source": [
    "> Tuples contain (immutable) references to underlying objects!"
   ]
  },
  {
   "cell_type": "code",
   "execution_count": null,
   "metadata": {
    "collapsed": true,
    "slideshow": {
     "slide_type": "fragment"
    }
   },
   "outputs": [],
   "source": [
    "v = ([1, 2, 3], ['a', 'b', 'c'])\n",
    "v[0].append(4)\n",
    "v # => ([1, 2, 3, 4], ['a', 'b', 'c'])"
   ]
  },
  {
   "cell_type": "markdown",
   "metadata": {
    "slideshow": {
     "slide_type": "slide"
    }
   },
   "source": [
    "### 4. Sets"
   ]
  },
  {
   "cell_type": "markdown",
   "metadata": {
    "slideshow": {
     "slide_type": "fragment"
    }
   },
   "source": [
    "> Unordered collection of distinct hashable elements\n",
    ">\n",
    "> To:\n",
    "> 1. Fast membership testing: O(1) vs. O(n)\n",
    "> 2. Eliminate duplicate entries\n",
    "> 3. Easy set operations (intersection, union, etc.)"
   ]
  },
  {
   "cell_type": "code",
   "execution_count": null,
   "metadata": {
    "collapsed": true,
    "slideshow": {
     "slide_type": "fragment"
    }
   },
   "outputs": [],
   "source": [
    "s = {1, 2, 3}"
   ]
  },
  {
   "cell_type": "code",
   "execution_count": null,
   "metadata": {
    "slideshow": {
     "slide_type": "subslide"
    }
   },
   "outputs": [],
   "source": [
    "empty_set = set()\n",
    "set_from_list = set([1, 2, 1, 4, 3]) # => {1, 3, 4, 2}\n",
    "\n",
    "basket = {\"apple\", \"orange\", \"apple\", \"pear\", \"banana\"}\n",
    "len(basket) # => 4\n",
    "\n",
    "\"orange\" in basket # => True\n",
    "\"crabgrass\" in basket # => False\n",
    "\n",
    "for fruit in basket:\n",
    "    print(fruit, end='/')\n",
    "# => pear/banana/apple/orange/"
   ]
  },
  {
   "cell_type": "code",
   "execution_count": null,
   "metadata": {
    "collapsed": true,
    "slideshow": {
     "slide_type": "subslide"
    }
   },
   "outputs": [],
   "source": [
    "a = set(\"mississippi\") # {'i', 'm', 'p', 's'}\n",
    "\n",
    "a.add('r')\n",
    "a.remove('m') # raises KeyError if 'm' is not present\n",
    "a.discard('x') # same as remove, except no error\n",
    "\n",
    "a.pop() # => 's' (or 'i' or 'p')\n",
    "\n",
    "a.clear()\n",
    "\n",
    "len(a) # => 0"
   ]
  },
  {
   "cell_type": "code",
   "execution_count": null,
   "metadata": {
    "collapsed": true,
    "slideshow": {
     "slide_type": "subslide"
    }
   },
   "outputs": [],
   "source": [
    "a = set(\"abracadabra\") # {'a', 'r', 'b', 'c', 'd'}\n",
    "b = set(\"alacazam\") # {'a', 'm', 'c', 'l', 'z'}\n",
    "\n",
    "# Set difference\n",
    "a - b # => {'r', 'd', 'b'}\n",
    "\n",
    "# Union\n",
    "a | b # => {'a', 'c', 'r', 'd', 'b', 'm', 'z', 'l'}\n",
    "\n",
    "# Intersection\n",
    "a & b # => {'a', 'c'}\n",
    "\n",
    "# Symmetric Difference\n",
    "a ^ b # => {'r', 'd', 'b', 'm', 'z', 'l'}"
   ]
  },
  {
   "cell_type": "markdown",
   "metadata": {
    "slideshow": {
     "slide_type": "subslide"
    }
   },
   "source": [
    "> goto opt02 :) part 2"
   ]
  },
  {
   "cell_type": "markdown",
   "metadata": {
    "slideshow": {
     "slide_type": "slide"
    }
   },
   "source": [
    "### Loops"
   ]
  },
  {
   "cell_type": "markdown",
   "metadata": {
    "slideshow": {
     "slide_type": "subslide"
    }
   },
   "source": [
    "#### Items in Dictionary"
   ]
  },
  {
   "cell_type": "code",
   "execution_count": null,
   "metadata": {
    "collapsed": true,
    "slideshow": {
     "slide_type": "fragment"
    }
   },
   "outputs": [],
   "source": [
    "knights = {'gallahad': 'the pure', 'robin': 'the brave'}\n",
    "\n",
    "for k, v in knights.items():\n",
    "    print(k, v)\n",
    "\n",
    "# =>\n",
    "# gallahad the pure\n",
    "# robin the brave"
   ]
  },
  {
   "cell_type": "markdown",
   "metadata": {
    "slideshow": {
     "slide_type": "subslide"
    }
   },
   "source": [
    "#### zip"
   ]
  },
  {
   "cell_type": "code",
   "execution_count": null,
   "metadata": {
    "slideshow": {
     "slide_type": "fragment"
    }
   },
   "outputs": [],
   "source": [
    "questions = ['name', 'quest', 'favorite color']\n",
    "answers = ['Lancelot', 'To seek the holy grail', 'Blue']\n",
    "\n",
    "for q, a in zip(questions, answers):\n",
    "    print('What is your {0}? {1}.'.format(q, a))\n",
    "\n",
    "# =>\n",
    "# What is your name? Lancelot.\n",
    "# What is your quest? To seek the holy grail.\n",
    "# What is your favorite color? Blue."
   ]
  },
  {
   "cell_type": "markdown",
   "metadata": {
    "slideshow": {
     "slide_type": "fragment"
    }
   },
   "source": [
    "The zip() function generates pairs of entries from its arguments."
   ]
  },
  {
   "cell_type": "markdown",
   "metadata": {
    "slideshow": {
     "slide_type": "subslide"
    }
   },
   "source": [
    "#### Reverse Iteration"
   ]
  },
  {
   "cell_type": "code",
   "execution_count": null,
   "metadata": {
    "slideshow": {
     "slide_type": "fragment"
    }
   },
   "outputs": [],
   "source": [
    "for i in reversed(range(1, 10, 2)):\n",
    "    print(i, end=', ')\n",
    "# =>\n",
    "# 9, 7, 5, 3, 1,"
   ]
  },
  {
   "cell_type": "markdown",
   "metadata": {
    "slideshow": {
     "slide_type": "subslide"
    }
   },
   "source": [
    "#### Sorted Iteration"
   ]
  },
  {
   "cell_type": "code",
   "execution_count": null,
   "metadata": {
    "collapsed": true,
    "slideshow": {
     "slide_type": "fragment"
    }
   },
   "outputs": [],
   "source": [
    "basket = ['pear', 'banana', 'orange', 'pear', 'apple']\n",
    "\n",
    "for fruit in sorted(basket):\n",
    "    print(fruit)\n",
    "\n",
    "# =>\n",
    "# apple\n",
    "# banana\n",
    "# orange\n",
    "# pear\n",
    "# pear"
   ]
  },
  {
   "cell_type": "markdown",
   "metadata": {
    "slideshow": {
     "slide_type": "fragment"
    }
   },
   "source": [
    "To loop over a sequence in sorted order, use the sorted() function which returns a new sorted list while leaving the source unaltered."
   ]
  },
  {
   "cell_type": "markdown",
   "metadata": {
    "slideshow": {
     "slide_type": "slide"
    }
   },
   "source": [
    "### Comprehensions"
   ]
  },
  {
   "cell_type": "code",
   "execution_count": null,
   "metadata": {
    "slideshow": {
     "slide_type": "fragment"
    }
   },
   "outputs": [],
   "source": [
    "[f(xs) for xs in iter]\n",
    "# Loop over the specified iterable and apply some operation to generate new list elements"
   ]
  },
  {
   "cell_type": "code",
   "execution_count": null,
   "metadata": {
    "slideshow": {
     "slide_type": "fragment"
    }
   },
   "outputs": [],
   "source": [
    "[f(xs) for xs in iter if pred(xs)]\n",
    "# Only keep elements that satisfy a predicate condition"
   ]
  },
  {
   "cell_type": "code",
   "execution_count": null,
   "metadata": {
    "collapsed": true,
    "slideshow": {
     "slide_type": "subslide"
    }
   },
   "outputs": [],
   "source": [
    "[word.lower() for word in sentence]\n",
    "\n",
    "[word for word in sentence if len(word) > 8]\n",
    "\n",
    "[(x, x ** 2, x ** 3) for x in range(10)]\n",
    "\n",
    "[(i,j) for i in range(5) for j in range(i)]"
   ]
  },
  {
   "cell_type": "code",
   "execution_count": null,
   "metadata": {
    "collapsed": true,
    "slideshow": {
     "slide_type": "subslide"
    }
   },
   "outputs": [],
   "source": [
    "# Dictionary Comprehensions\n",
    "{key_func(vars):val_func(vars) for vars in iterable}\n",
    "{v:k for k, v in d.items()}"
   ]
  },
  {
   "cell_type": "code",
   "execution_count": null,
   "metadata": {
    "collapsed": true,
    "slideshow": {
     "slide_type": "fragment"
    }
   },
   "outputs": [],
   "source": [
    "# Set Comprehensions\n",
    "{func(vars) for vars in iterable}\n",
    "{word for word in hamlet if is_palindrome(word.lower())}"
   ]
  },
  {
   "cell_type": "markdown",
   "metadata": {
    "slideshow": {
     "slide_type": "slide"
    }
   },
   "source": [
    "Source\n",
    "1. [http://treyhunner.com/2015/12/python-list-comprehensions-now-in-color/](http://treyhunner.com/2015/12/python-list-comprehensions-now-in-color/)\n"
   ]
  }
 ],
 "metadata": {
  "celltoolbar": "Slideshow",
  "kernelspec": {
   "display_name": "Python 3",
   "language": "python",
   "name": "python3"
  },
  "language_info": {
   "codemirror_mode": {
    "name": "ipython",
    "version": 3
   },
   "file_extension": ".py",
   "mimetype": "text/x-python",
   "name": "python",
   "nbconvert_exporter": "python",
   "pygments_lexer": "ipython3",
   "version": "3.6.2"
  }
 },
 "nbformat": 4,
 "nbformat_minor": 2
}
