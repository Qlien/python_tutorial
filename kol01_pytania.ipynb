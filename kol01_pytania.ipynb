{
 "cells": [
  {
   "cell_type": "markdown",
   "metadata": {},
   "source": [
    "> Przy odpowiedziach w nawiasie podano liczbę osób, która udzieliła poprawnej odpowiedzi na pytanie."
   ]
  },
  {
   "cell_type": "markdown",
   "metadata": {},
   "source": [
    "#### Zadanie 1 \n",
    "W jaki sposób zdefiniować jednoelementową krotkę (tuple) \n",
    "\n",
    "1. `a=1`\n",
    " \n",
    "2. `a=(1,)`\n",
    " \n",
    "3. `a=(1)`\n",
    " \n",
    "4. `a=tuple(1)`\n",
    " \n",
    "5. Żadna z podanych odpowiedzi"
   ]
  },
  {
   "cell_type": "markdown",
   "metadata": {},
   "source": [
    "Odpowiedź: 2 (17/63)"
   ]
  },
  {
   "cell_type": "markdown",
   "metadata": {},
   "source": [
    "#### Zadanie 2"
   ]
  },
  {
   "cell_type": "code",
   "execution_count": null,
   "metadata": {
    "collapsed": true
   },
   "outputs": [],
   "source": [
    "a = {'a': 1,'b':2, 'a':3}"
   ]
  },
  {
   "cell_type": "markdown",
   "metadata": {},
   "source": [
    "Co zostanie zapisane w zmiennej `a`?\n",
    "\n",
    "1. Zostanie rzucony wyjątek SyntaxError\n",
    " \n",
    "2. `{'a': 1,'b': 2, 'a': 3}`\n",
    " \n",
    "3. Zachowanie jest niezdefiniowane\n",
    " \n",
    "4. `{'a': 1,'b': 2}`\n",
    " \n",
    "5. Żadna z podanych odpowiedzi"
   ]
  },
  {
   "cell_type": "markdown",
   "metadata": {},
   "source": [
    "Odpowiedź: 5 (26/63)"
   ]
  },
  {
   "cell_type": "markdown",
   "metadata": {},
   "source": [
    "#### Zadanie 3"
   ]
  },
  {
   "cell_type": "code",
   "execution_count": null,
   "metadata": {
    "collapsed": true
   },
   "outputs": [],
   "source": [
    "a = {(1,2):1,(2,3):2}\n",
    "a[1,2]"
   ]
  },
  {
   "cell_type": "markdown",
   "metadata": {},
   "source": [
    "Co zostanie zwrócone?\n",
    "\n",
    "1. Zostanie rzucony wyjątek `KeyError`\n",
    " \n",
    "2. Zachowanie jest niezdefiniowane\n",
    " \n",
    "3. `1`\n",
    " \n",
    "4. Żadna z podanych odpowiedzi"
   ]
  },
  {
   "cell_type": "markdown",
   "metadata": {},
   "source": [
    "Odpowiedź: 3 (21/63)"
   ]
  },
  {
   "cell_type": "markdown",
   "metadata": {},
   "source": [
    "#### Zadanie 4"
   ]
  },
  {
   "cell_type": "code",
   "execution_count": null,
   "metadata": {
    "collapsed": true
   },
   "outputs": [],
   "source": [
    "a = [1,2,3]\n",
    "a[-3:-1] = 10,20,30,40"
   ]
  },
  {
   "cell_type": "markdown",
   "metadata": {},
   "source": [
    "Co zostanie zapisane w zmieniej `a`?\n",
    "\n",
    "1. Zostanie rzucony wyjątek\n",
    " \n",
    "2. Zachowanie jest niezdefiniowane\n",
    " \n",
    "3. `[10, 20, 30, 40, 3]`\n",
    " \n",
    "4. Żadna z podanych odpowiedzi\n",
    " \n",
    "5. `[10, 20, 30, 40, 2, 3]`\n",
    " \n",
    "6. `[10, 20, 30, 40]`\n",
    " \n",
    "7. `[[10, 20, 30, 40],3]`\n",
    " \n",
    "8. `[(10, 20, 30, 40),3]`"
   ]
  },
  {
   "cell_type": "markdown",
   "metadata": {},
   "source": [
    "Odpowiedź: 3 (14/63)"
   ]
  },
  {
   "cell_type": "markdown",
   "metadata": {},
   "source": [
    "#### Zadanie 5"
   ]
  },
  {
   "cell_type": "code",
   "execution_count": null,
   "metadata": {
    "collapsed": true
   },
   "outputs": [],
   "source": [
    "a = {}"
   ]
  },
  {
   "cell_type": "markdown",
   "metadata": {},
   "source": [
    "Co zostanie zapisane w zmienij `a`?\n",
    "\n",
    "1. Zachowanie jest niezdefiniowane\n",
    " \n",
    "2. Żadna z podanych odpowiedzi\n",
    " \n",
    "3. `dict`\n",
    " \n",
    "4. `set`"
   ]
  },
  {
   "cell_type": "markdown",
   "metadata": {},
   "source": [
    "Odpowiedź: 3 (42/63)"
   ]
  },
  {
   "cell_type": "markdown",
   "metadata": {},
   "source": [
    "#### Zadanie 6"
   ]
  },
  {
   "cell_type": "code",
   "execution_count": null,
   "metadata": {
    "collapsed": true
   },
   "outputs": [],
   "source": [
    "word1=\"Apple\"\n",
    "word2=\"Apple\"\n",
    "list1=[1,2,3]\n",
    "list2=[1,2,3]\n",
    "print(word1 is word2)\n",
    "print(list1 is list2)"
   ]
  },
  {
   "cell_type": "markdown",
   "metadata": {},
   "source": [
    "Co zostanie wypisane? Kolejne linie oddzielono przecinkami."
   ]
  },
  {
   "cell_type": "markdown",
   "metadata": {},
   "source": [
    "1. Zachowanie jest niezdefiniowane\n",
    " \n",
    "2. Żadna z podanych odpowiedzi\n",
    " \n",
    "3. Pytanie jest bez sensu\n",
    " \n",
    "4. `True,True`\n",
    " \n",
    "5. `False,True`\n",
    " \n",
    "6. `False,False`\n",
    " \n",
    "7. `True,False`"
   ]
  },
  {
   "cell_type": "markdown",
   "metadata": {},
   "source": [
    "Odpowiedź: 7 (30/63)"
   ]
  },
  {
   "cell_type": "markdown",
   "metadata": {},
   "source": [
    "#### Zadanie 7"
   ]
  },
  {
   "cell_type": "code",
   "execution_count": null,
   "metadata": {
    "collapsed": true
   },
   "outputs": [],
   "source": [
    "a = (b for b in [1,2])"
   ]
  },
  {
   "cell_type": "markdown",
   "metadata": {},
   "source": [
    "Jaki jest typ zmiennej `a`?\n",
    "\n",
    "1. Zachowanie jest niezdefiniowane\n",
    " \n",
    "2. Żadna z podanych odpowiedzi\n",
    " \n",
    "3. `tuple`\n",
    " \n",
    "4. `generator`"
   ]
  },
  {
   "cell_type": "markdown",
   "metadata": {},
   "source": [
    "Odpowiedź: 4 (28/63)"
   ]
  },
  {
   "cell_type": "markdown",
   "metadata": {},
   "source": [
    "#### Zadanie 8"
   ]
  },
  {
   "cell_type": "code",
   "execution_count": null,
   "metadata": {
    "collapsed": true
   },
   "outputs": [],
   "source": [
    "def f():\n",
    "    print(\"f()\")\n",
    "    yield 1\n",
    "\n",
    "f()"
   ]
  },
  {
   "cell_type": "markdown",
   "metadata": {},
   "source": [
    "Czy \"f()\" zostanie wypisane?\n",
    "\n",
    "1. Zachowanie jest niezdefiniowane\n",
    " \n",
    "2. Żadna z podanych odpowiedzi\n",
    " \n",
    "3. Tak\n",
    " \n",
    "4. Nie"
   ]
  },
  {
   "cell_type": "markdown",
   "metadata": {},
   "source": [
    "Odpowiedź: 4 (27/63)"
   ]
  },
  {
   "cell_type": "markdown",
   "metadata": {},
   "source": [
    "#### Zadanie 9"
   ]
  },
  {
   "cell_type": "code",
   "execution_count": null,
   "metadata": {
    "collapsed": true
   },
   "outputs": [],
   "source": [
    "def f(value):\n",
    "    while True:\n",
    "        value = (yield value)\n",
    "\n",
    "a=f(10)\n",
    "print(next(a))\n",
    "print(next(a))\n",
    "print(a.send(20))"
   ]
  },
  {
   "cell_type": "markdown",
   "metadata": {},
   "source": [
    "Co zostanie wypisne? Kolejne linie oddzielono przecinkami.\n",
    "\n",
    "1. Zachowanie jest niezdefiniowane\n",
    " \n",
    "2. Żadna z podanych odpowiedzi\n",
    " \n",
    "3. Pytanie jest bez sensu\n",
    " \n",
    "4. `10,10,10`\n",
    " \n",
    "5. `10,10,20`\n",
    " \n",
    "6. `10,None,20`\n",
    " \n",
    "7. `10,None,None`"
   ]
  },
  {
   "cell_type": "markdown",
   "metadata": {},
   "source": [
    "Odpowiedź: 6 (17/63)"
   ]
  },
  {
   "cell_type": "markdown",
   "metadata": {},
   "source": [
    "#### Zadanie 10"
   ]
  },
  {
   "cell_type": "code",
   "execution_count": null,
   "metadata": {
    "collapsed": true
   },
   "outputs": [],
   "source": [
    "a = [[1] * 2] * 2\n",
    "a[0][0]=2"
   ]
  },
  {
   "cell_type": "markdown",
   "metadata": {},
   "source": [
    "Co znajduje się w `a`?\n",
    "\n",
    "\n",
    "1. Zachowanie jest niezdefiniowane\n",
    " \n",
    "2. Żadna z podanych odpowiedzi\n",
    " \n",
    "3. Pytanie jest bez sensu\n",
    " \n",
    "4. `[[2, 1], [1, 1]]`\n",
    " \n",
    "5. `[[2, 1], [2, 1]]`\n",
    " \n",
    "6. `[[2, 2], [2, 2]]`"
   ]
  },
  {
   "cell_type": "markdown",
   "metadata": {},
   "source": [
    "Odpowiedź: 5 (14/63)"
   ]
  },
  {
   "cell_type": "markdown",
   "metadata": {},
   "source": [
    "#### Zadanie 11"
   ]
  },
  {
   "cell_type": "code",
   "execution_count": null,
   "metadata": {
    "collapsed": true
   },
   "outputs": [],
   "source": [
    "def f(a=[]):\n",
    "    a.append(1)\n",
    "    return a\n",
    "\n",
    "a=(f(),f())"
   ]
  },
  {
   "cell_type": "markdown",
   "metadata": {},
   "source": [
    "Co znajduje się w a?\n",
    "\n",
    "1. Zachowanie jest niezdefiniowane\n",
    " \n",
    "2. Żadna z podanych odpowiedzi\n",
    " \n",
    "3. `([1], [1])`\n",
    " \n",
    "4. `([1], [1,1])`\n",
    " \n",
    "5. `([1,1], [1,1])`"
   ]
  },
  {
   "cell_type": "markdown",
   "metadata": {},
   "source": [
    "Odpowiedź: 5 (18/63)"
   ]
  },
  {
   "cell_type": "markdown",
   "metadata": {},
   "source": [
    "#### Zadanie 12"
   ]
  },
  {
   "cell_type": "code",
   "execution_count": null,
   "metadata": {
    "collapsed": true
   },
   "outputs": [],
   "source": [
    "a = 1 < 2 == 2 > 1 in [1,2,3] < [2,3,4,5] != 1"
   ]
  },
  {
   "cell_type": "markdown",
   "metadata": {},
   "source": [
    "Co znajduje się w a?\n",
    "\n",
    "1. Zachowanie jest niezdefiniowane\n",
    " \n",
    "2. Żadna z podanych odpowiedzi\n",
    " \n",
    "3. Pytanie jest bez sensu\n",
    " \n",
    "4. `True`\n",
    " \n",
    "5. `False`"
   ]
  },
  {
   "cell_type": "markdown",
   "metadata": {},
   "source": [
    "Odpowiedź: 4 (27/63)"
   ]
  },
  {
   "cell_type": "markdown",
   "metadata": {},
   "source": [
    "#### Zadanie 13"
   ]
  },
  {
   "cell_type": "code",
   "execution_count": null,
   "metadata": {
    "collapsed": true
   },
   "outputs": [],
   "source": [
    "a = [1,2,3]>(2,3)"
   ]
  },
  {
   "cell_type": "markdown",
   "metadata": {},
   "source": [
    "Co znajduje się w a?\n",
    "\n",
    "1. Zachowanie jest niezdefiniowane\n",
    " \n",
    "2. Żadna z podanych odpowiedzi\n",
    " \n",
    "3. `True`\n",
    " \n",
    "4. `False`\n",
    " \n",
    "5. Zostanie rzucony wyjątek"
   ]
  },
  {
   "cell_type": "markdown",
   "metadata": {},
   "source": [
    "Odpowiedź: 5 (42/63)"
   ]
  },
  {
   "cell_type": "markdown",
   "metadata": {},
   "source": [
    "#### Zadanie 14"
   ]
  },
  {
   "cell_type": "code",
   "execution_count": null,
   "metadata": {
    "collapsed": true
   },
   "outputs": [],
   "source": [
    "def foo(k): \n",
    "    k = [1] \n",
    "\n",
    "q = [0] \n",
    "foo(q) \n",
    "print(q)"
   ]
  },
  {
   "cell_type": "markdown",
   "metadata": {},
   "source": [
    "Co zostanie wypisane?\n",
    "\n",
    "1. Zachowanie jest niezdefiniowane\n",
    " \n",
    "2. Żadna z podanych odpowiedzi\n",
    " \n",
    "3. `[0]`\n",
    " \n",
    "4. `[1]`\n",
    " \n",
    "5. `[0,1]`\n",
    " \n",
    "6. `[1,0]`"
   ]
  },
  {
   "cell_type": "markdown",
   "metadata": {},
   "source": [
    "Odpowiedź: 3 (29/63)"
   ]
  },
  {
   "cell_type": "markdown",
   "metadata": {},
   "source": [
    "#### Zadanie 15"
   ]
  },
  {
   "cell_type": "code",
   "execution_count": null,
   "metadata": {
    "collapsed": true
   },
   "outputs": [],
   "source": [
    "def f1(x):\n",
    "    global x\n",
    "    x+=1\n",
    "    print(x)\n",
    "\n",
    "f1(15)\n",
    "print(\"hello\")"
   ]
  },
  {
   "cell_type": "markdown",
   "metadata": {},
   "source": [
    "Co zostanie wypisne? Kolejne linie oddzielono przecinkami.\n",
    "\n",
    "1. `16, hello`\n",
    " \n",
    "2. `hello, 16`\n",
    " \n",
    "3. Żadna z podanych odpowiedzi\n",
    " \n",
    "4. `16`\n",
    " \n",
    "5. `hello`\n",
    " \n",
    "6. Zostanie rzucony wyjątek\n",
    " \n",
    "7. Zachowanie jest niezdefiniowane"
   ]
  },
  {
   "cell_type": "markdown",
   "metadata": {},
   "source": [
    "Odpowiedź: 6 (22/63)"
   ]
  },
  {
   "cell_type": "markdown",
   "metadata": {},
   "source": [
    "#### Zadanie 16"
   ]
  },
  {
   "cell_type": "code",
   "execution_count": null,
   "metadata": {
    "collapsed": true
   },
   "outputs": [],
   "source": [
    "a=[13,56,17]\n",
    "a.append([87])\n",
    "a.extend([45,67]) \n",
    "print(a)"
   ]
  },
  {
   "cell_type": "markdown",
   "metadata": {},
   "source": [
    "Co znajduje się w zmiennej a?\n",
    "\n",
    "1. `[13, 56, 17, [87], [45, 67]]`\n",
    " \n",
    "2. Pytanie jest bez sensu\n",
    " \n",
    "3. `[13, 56, 17, 87, 45, 67]`\n",
    " \n",
    "4. `[13, 56, 17, 87,[ 45, 67]]`\n",
    " \n",
    "5. Zachowanie jest niezdefiniowane\n",
    " \n",
    "6. Żadna z podanych odpowiedzi\n",
    " \n",
    "7. `[13, 56, 17, [87], 45, 67]`"
   ]
  },
  {
   "cell_type": "markdown",
   "metadata": {},
   "source": [
    "Odpowiedź: 7 (44/63)"
   ]
  },
  {
   "cell_type": "markdown",
   "metadata": {},
   "source": [
    "#### Zadanie 17"
   ]
  },
  {
   "cell_type": "code",
   "execution_count": null,
   "metadata": {
    "collapsed": true
   },
   "outputs": [],
   "source": [
    "a=list((45,)*4)\n",
    "print((45)*4)\n",
    "print(a)"
   ]
  },
  {
   "cell_type": "markdown",
   "metadata": {},
   "source": [
    "Co zostanie wypisne? Kolejne linie oddzielono przecinkami.\n",
    "\n",
    "1. Zachowanie jest niezdefiniowane\n",
    " \n",
    "2. Żadna z podanych odpowiedzi\n",
    " \n",
    "3. Pytanie jest bez sensu\n",
    " \n",
    "4. `180, [(45),(45),(45),(45)]`\n",
    " \n",
    "5. `(45,45,45,45).,[45,45,45,45]`\n",
    " \n",
    "6. `180, [45,45,45,45]`\n",
    " \n",
    "7. Zostanie rzucony wyjątek SyntaxError"
   ]
  },
  {
   "cell_type": "markdown",
   "metadata": {},
   "source": [
    "Odpowiedź: 6 (21/63)"
   ]
  }
 ],
 "metadata": {
  "kernelspec": {
   "display_name": "Python 3",
   "language": "python",
   "name": "python3"
  },
  "language_info": {
   "codemirror_mode": {
    "name": "ipython",
    "version": 3
   },
   "file_extension": ".py",
   "mimetype": "text/x-python",
   "name": "python",
   "nbconvert_exporter": "python",
   "pygments_lexer": "ipython3",
   "version": "3.6.2"
  }
 },
 "nbformat": 4,
 "nbformat_minor": 2
}
