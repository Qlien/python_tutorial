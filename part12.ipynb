{
 "cells": [
  {
   "cell_type": "markdown",
   "metadata": {
    "slideshow": {
     "slide_type": "slide"
    }
   },
   "source": [
    "# Efektywne programowanie w języku Python \n",
    "\n",
    "## wykład 12"
   ]
  },
  {
   "cell_type": "markdown",
   "metadata": {
    "slideshow": {
     "slide_type": "slide"
    }
   },
   "source": [
    "![alt text](images/headlogo.png \"headlogo\")"
   ]
  },
  {
   "cell_type": "markdown",
   "metadata": {
    "slideshow": {
     "slide_type": "fragment"
    }
   },
   "source": [
    "Cython is an optimising static compiler for both the Python programming language and the extended Cython programming language (based on Pyrex). It makes writing C extensions for Python as easy as Python itself."
   ]
  },
  {
   "cell_type": "markdown",
   "metadata": {
    "slideshow": {
     "slide_type": "subslide"
    }
   },
   "source": [
    "Cython gives you the combined power of Python and C to let you \n",
    "- write Python code that calls back and forth from and to C or C++ code natively at any point.\n",
    "- easily tune readable Python code into plain C performance by adding static type declarations.\n",
    "- use combined source code level debugging to find bugs in your Python, Cython and C code.\n",
    "- interact efficiently with large data sets, e.g. using multi-dimensional NumPy arrays.\n",
    "- quickly build your applications within the large, mature and widely used CPython ecosystem.\n",
    "- integrate natively with existing code and data from legacy, low-level or high-performance libraries and applications."
   ]
  },
  {
   "cell_type": "markdown",
   "metadata": {
    "slideshow": {
     "slide_type": "slide"
    }
   },
   "source": [
    "# Przykład"
   ]
  },
  {
   "cell_type": "code",
   "execution_count": 1,
   "metadata": {
    "slideshow": {
     "slide_type": "fragment"
    }
   },
   "outputs": [],
   "source": [
    "def fib(n):\n",
    "    if n<2:\n",
    "        return n\n",
    "    return fib(n-1)+fib(n-2)"
   ]
  },
  {
   "cell_type": "code",
   "execution_count": 2,
   "metadata": {
    "slideshow": {
     "slide_type": "fragment"
    }
   },
   "outputs": [
    {
     "data": {
      "text/plain": [
       "6765"
      ]
     },
     "execution_count": 2,
     "metadata": {},
     "output_type": "execute_result"
    }
   ],
   "source": [
    "fib(20)"
   ]
  },
  {
   "cell_type": "code",
   "execution_count": 3,
   "metadata": {
    "slideshow": {
     "slide_type": "fragment"
    }
   },
   "outputs": [],
   "source": [
    "# fib(100) # it tooks a lot of time ...."
   ]
  },
  {
   "cell_type": "code",
   "execution_count": 4,
   "metadata": {
    "slideshow": {
     "slide_type": "subslide"
    }
   },
   "outputs": [
    {
     "name": "stdout",
     "output_type": "stream",
     "text": [
      "100 loops, best of 3: 2.34 ms per loop\n"
     ]
    }
   ],
   "source": [
    "%timeit fib(20)"
   ]
  },
  {
   "cell_type": "markdown",
   "metadata": {
    "slideshow": {
     "slide_type": "fragment"
    }
   },
   "source": [
    "It means that the timer did the following:\n",
    "- Run fib(20) one hundred times, store the total running time\n",
    "- Run fib(20) one hundred times, store the total running time\n",
    "- Run fib(20) one hundred times, store the total running time\n",
    "- Get the smallest running time from the three runs, divide it by 100, and outputs the result as the best running time for fib(20)"
   ]
  },
  {
   "cell_type": "markdown",
   "metadata": {
    "slideshow": {
     "slide_type": "slide"
    }
   },
   "source": [
    "## Compiling With Cython"
   ]
  },
  {
   "cell_type": "code",
   "execution_count": 5,
   "metadata": {
    "slideshow": {
     "slide_type": "subslide"
    }
   },
   "outputs": [
    {
     "name": "stdout",
     "output_type": "stream",
     "text": [
      "Requirement already satisfied: Cython in e:\\github\\python_tutorial_env27\\lib\\site-packages\n"
     ]
    }
   ],
   "source": [
    "!pip install Cython"
   ]
  },
  {
   "cell_type": "markdown",
   "metadata": {
    "slideshow": {
     "slide_type": "fragment"
    }
   },
   "source": [
    "Once installed, we load Cython in the notebook with the %load_ext magic"
   ]
  },
  {
   "cell_type": "code",
   "execution_count": 6,
   "metadata": {
    "slideshow": {
     "slide_type": "fragment"
    }
   },
   "outputs": [
    {
     "name": "stderr",
     "output_type": "stream",
     "text": [
      "WARNING: Disabling color, you really want to install colorlog.\n"
     ]
    }
   ],
   "source": [
    "%load_ext Cython"
   ]
  },
  {
   "cell_type": "markdown",
   "metadata": {
    "slideshow": {
     "slide_type": "subslide"
    }
   },
   "source": [
    "We can then compile code in our notebook.  All we have to do is to put all the code we want to compile in one cell, including the required import statements, and start that cell with the cell magic `%%cython`:"
   ]
  },
  {
   "cell_type": "code",
   "execution_count": 7,
   "metadata": {
    "slideshow": {
     "slide_type": "fragment"
    }
   },
   "outputs": [],
   "source": [
    "%%cython\n",
    "def fib_cython(n):\n",
    "    if n<2:\n",
    "        return n\n",
    "    return fib_cython(n-1)+fib_cython(n-2)"
   ]
  },
  {
   "cell_type": "code",
   "execution_count": 8,
   "metadata": {
    "slideshow": {
     "slide_type": "fragment"
    }
   },
   "outputs": [
    {
     "name": "stdout",
     "output_type": "stream",
     "text": [
      "1000 loops, best of 3: 1.01 ms per loop\n"
     ]
    }
   ],
   "source": [
    "%timeit fib_cython(20)"
   ]
  },
  {
   "cell_type": "markdown",
   "metadata": {
    "slideshow": {
     "slide_type": "fragment"
    }
   },
   "source": [
    "Wow, more than 2 times faster than the original Python code!"
   ]
  },
  {
   "cell_type": "markdown",
   "metadata": {
    "slideshow": {
     "slide_type": "subslide"
    }
   },
   "source": [
    "We can also try with static typing.  We declare the function with the keyword cpdef instead of def.  It allows us to type the parameters of the function with their corresponding C types.  Our code becomes."
   ]
  },
  {
   "cell_type": "code",
   "execution_count": 9,
   "metadata": {
    "slideshow": {
     "slide_type": "fragment"
    }
   },
   "outputs": [],
   "source": [
    "%%cython\n",
    " \n",
    "cpdef long fib_cython_type(long n):\n",
    "    if n<2:\n",
    "        return n\n",
    "    return fib_cython_type(n-1)+fib_cython_type(n-2)"
   ]
  },
  {
   "cell_type": "code",
   "execution_count": 10,
   "metadata": {
    "slideshow": {
     "slide_type": "fragment"
    }
   },
   "outputs": [
    {
     "name": "stdout",
     "output_type": "stream",
     "text": [
      "10000 loops, best of 3: 37.9 µs per loop\n"
     ]
    }
   ],
   "source": [
    "%timeit fib_cython_type(20)"
   ]
  },
  {
   "cell_type": "markdown",
   "metadata": {
    "slideshow": {
     "slide_type": "subslide"
    }
   },
   "source": [
    "| function  | helper | time  | \n",
    "|---|---|---|\n",
    "| fib  | pure python | 2.32 ms |\n",
    "| fib_cython  | pure cython | 1.02 ms |\n",
    "| fib_cython_type  | c-type | 37 µs |"
   ]
  },
  {
   "cell_type": "markdown",
   "metadata": {
    "slideshow": {
     "slide_type": "fragment"
    }
   },
   "source": [
    "One can argue that static typing defeats the purpose of Python.  I kind of agree with that in general, and we will see later a way to avoid this without sacrificing performance.  But I don't think this is the issue here.  The Fibonacci function is meant to be called with integers.  What we lose with static typing is the arbitrary precision that Python provides.  In the case of Fibonacci, using the C type long limits the size of the input parameter because too large parameters would result in integer overflow. "
   ]
  },
  {
   "cell_type": "markdown",
   "metadata": {
    "slideshow": {
     "slide_type": "slide"
    }
   },
   "source": [
    "### It's not over yet"
   ]
  },
  {
   "cell_type": "markdown",
   "metadata": {
    "slideshow": {
     "slide_type": "slide"
    }
   },
   "source": [
    "## Caching Computation"
   ]
  },
  {
   "cell_type": "markdown",
   "metadata": {
    "slideshow": {
     "slide_type": "subslide"
    }
   },
   "source": [
    "We can do better while keeping Python arbitrary precision.  The fib function repeats the same computation many times.  For instance, fib(20) will call fib(19) and fib(18).  In turn, fib(19) will call fib(18) and fib(17).  As a result fib(18) will be called twice.  A little analysis shows that fib(17) will be called 3 times, and fib(16) five times, etc. "
   ]
  },
  {
   "cell_type": "code",
   "execution_count": 11,
   "metadata": {
    "slideshow": {
     "slide_type": "fragment"
    }
   },
   "outputs": [
    {
     "name": "stdout",
     "output_type": "stream",
     "text": [
      "Requirement already satisfied: backports.functools_lru_cache in e:\\github\\python_tutorial_env27\\lib\\site-packages\n"
     ]
    }
   ],
   "source": [
    "!pip install backports.functools_lru_cache"
   ]
  },
  {
   "cell_type": "code",
   "execution_count": 12,
   "metadata": {
    "slideshow": {
     "slide_type": "fragment"
    }
   },
   "outputs": [],
   "source": [
    "try:\n",
    "    from functools import lru_cache as cache\n",
    "except ImportError:\n",
    "    from backports.functools_lru_cache import lru_cache as cache"
   ]
  },
  {
   "cell_type": "code",
   "execution_count": 13,
   "metadata": {
    "slideshow": {
     "slide_type": "fragment"
    }
   },
   "outputs": [],
   "source": [
    "@cache(maxsize=None)\n",
    "def fib_cache(n):\n",
    "    if n<2:\n",
    "        return n\n",
    "    return fib_cache(n-1)+fib_cache(n-2)"
   ]
  },
  {
   "cell_type": "code",
   "execution_count": 14,
   "metadata": {
    "slideshow": {
     "slide_type": "fragment"
    }
   },
   "outputs": [
    {
     "name": "stdout",
     "output_type": "stream",
     "text": [
      "The slowest run took 265.57 times longer than the fastest. This could mean that an intermediate result is being cached.\n",
      "1000000 loops, best of 3: 709 ns per loop\n"
     ]
    }
   ],
   "source": [
    "%timeit fib_cache(20)"
   ]
  },
  {
   "cell_type": "markdown",
   "metadata": {
    "collapsed": true,
    "slideshow": {
     "slide_type": "subslide"
    }
   },
   "source": [
    "| function  | helper | time  | \n",
    "|---|---|---|\n",
    "| fib  | pure python | 2.32 ms |\n",
    "| fib_cython  | pure cython | 1.02 ms |\n",
    "| fib_cython_type  | c-type | 37 µs |\n",
    "| fib_cache  | pure python + cache | 709 ns |"
   ]
  },
  {
   "cell_type": "markdown",
   "metadata": {
    "slideshow": {
     "slide_type": "subslide"
    }
   },
   "source": [
    "## Iterative fib"
   ]
  },
  {
   "cell_type": "code",
   "execution_count": 15,
   "metadata": {
    "slideshow": {
     "slide_type": "subslide"
    }
   },
   "outputs": [],
   "source": [
    "def fib_seq(n):\n",
    "    if n < 2:\n",
    "        return n\n",
    "    a,b = 1,0\n",
    "    for i in range(n-1):\n",
    "        a,b = a+b,a\n",
    "    return a   "
   ]
  },
  {
   "cell_type": "code",
   "execution_count": 16,
   "metadata": {
    "slideshow": {
     "slide_type": "fragment"
    }
   },
   "outputs": [
    {
     "name": "stdout",
     "output_type": "stream",
     "text": [
      "The slowest run took 20.35 times longer than the fastest. This could mean that an intermediate result is being cached.\n",
      "1000000 loops, best of 3: 1.26 µs per loop\n"
     ]
    }
   ],
   "source": [
    "%timeit fib_seq(20)"
   ]
  },
  {
   "cell_type": "code",
   "execution_count": 17,
   "metadata": {
    "slideshow": {
     "slide_type": "subslide"
    }
   },
   "outputs": [],
   "source": [
    "%%cython\n",
    "\n",
    "def fib_seq_cython(n):\n",
    "    if n < 2:\n",
    "        return n\n",
    "    a,b = 1,0\n",
    "    for i in range(n-1):\n",
    "        a,b = a+b,a\n",
    "    return a    \n",
    "\n",
    "cpdef long fib_seq_cython_type(long n):\n",
    "    if n < 2:\n",
    "        return n\n",
    "    cdef long a,b\n",
    "    a,b = 1,0\n",
    "    for i in range(n-1):\n",
    "        a,b = a+b,a\n",
    "    return a"
   ]
  },
  {
   "cell_type": "code",
   "execution_count": 18,
   "metadata": {
    "slideshow": {
     "slide_type": "fragment"
    }
   },
   "outputs": [
    {
     "name": "stdout",
     "output_type": "stream",
     "text": [
      "The slowest run took 6.45 times longer than the fastest. This could mean that an intermediate result is being cached.\n",
      "1000000 loops, best of 3: 597 ns per loop\n",
      "The slowest run took 24.44 times longer than the fastest. This could mean that an intermediate result is being cached.\n",
      "10000000 loops, best of 3: 52.5 ns per loop\n"
     ]
    }
   ],
   "source": [
    "%timeit fib_seq_cython(20)\n",
    "%timeit fib_seq_cython_type(20)"
   ]
  },
  {
   "cell_type": "markdown",
   "metadata": {
    "slideshow": {
     "slide_type": "subslide"
    }
   },
   "source": [
    "| function  | helper | time  | \n",
    "|---|---|---|\n",
    "| fib  | pure python | 2.32 ms |\n",
    "| fib_cython  | cython | 1.02 ms |\n",
    "| fib_cython_type  | cython | 37 µs |\n",
    "| fib_cache  | pure python + cache | 709 ns |\n",
    "| fib_seq  | pure python | 1.28 µs |\n",
    "| fib_seq_cython  | cython | 624 ns |\n",
    "| fib_seq_cython_type  |cython | 52.7 ns |"
   ]
  },
  {
   "cell_type": "markdown",
   "metadata": {
    "slideshow": {
     "slide_type": "slide"
    }
   },
   "source": [
    "## Compiling With Numba"
   ]
  },
  {
   "cell_type": "markdown",
   "metadata": {
    "slideshow": {
     "slide_type": "subslide"
    }
   },
   "source": [
    "![alt text](images/numba_blue_icon_rgb.png \"numba_blue_icon_rgb\")"
   ]
  },
  {
   "cell_type": "markdown",
   "metadata": {
    "slideshow": {
     "slide_type": "fragment"
    }
   },
   "source": [
    "Let us use another tool called Numba.  It is a just in time (jit) compiler for a subset of Python.  It does not work yet on all of Python, but when it does work it can do marvels. "
   ]
  },
  {
   "cell_type": "code",
   "execution_count": 19,
   "metadata": {
    "slideshow": {
     "slide_type": "fragment"
    }
   },
   "outputs": [],
   "source": [
    "from numba import jit"
   ]
  },
  {
   "cell_type": "code",
   "execution_count": 20,
   "metadata": {
    "slideshow": {
     "slide_type": "fragment"
    }
   },
   "outputs": [
    {
     "name": "stdout",
     "output_type": "stream",
     "text": [
      "Requirement already satisfied: numba in e:\\github\\python_tutorial_env27\\lib\\site-packages\n",
      "Requirement already satisfied: funcsigs in e:\\github\\python_tutorial_env27\\lib\\site-packages (from numba)\n",
      "Requirement already satisfied: numpy in e:\\github\\python_tutorial_env27\\lib\\site-packages (from numba)\n",
      "Requirement already satisfied: llvmlite in e:\\github\\python_tutorial_env27\\lib\\site-packages (from numba)\n",
      "Requirement already satisfied: singledispatch in e:\\github\\python_tutorial_env27\\lib\\site-packages (from numba)\n",
      "Requirement already satisfied: enum34 in e:\\github\\python_tutorial_env27\\lib\\site-packages (from numba)\n",
      "Requirement already satisfied: six in e:\\github\\python_tutorial_env27\\lib\\site-packages (from singledispatch->numba)\n"
     ]
    }
   ],
   "source": [
    "!pip install numba"
   ]
  },
  {
   "cell_type": "code",
   "execution_count": 21,
   "metadata": {
    "slideshow": {
     "slide_type": "subslide"
    }
   },
   "outputs": [],
   "source": [
    "@jit\n",
    "def fib_seq_numba(n):\n",
    "    if n < 2:\n",
    "        return n\n",
    "    a,b = 1,0\n",
    "    for i in range(n-1):\n",
    "        a,b = a+b,a\n",
    "    return a  "
   ]
  },
  {
   "cell_type": "code",
   "execution_count": 22,
   "metadata": {
    "slideshow": {
     "slide_type": "fragment"
    }
   },
   "outputs": [
    {
     "name": "stdout",
     "output_type": "stream",
     "text": [
      "The slowest run took 447678.60 times longer than the fastest. This could mean that an intermediate result is being cached.\n",
      "1000000 loops, best of 3: 210 ns per loop\n"
     ]
    }
   ],
   "source": [
    "%timeit fib_seq_numba(20)"
   ]
  },
  {
   "cell_type": "markdown",
   "metadata": {
    "slideshow": {
     "slide_type": "subslide"
    }
   },
   "source": [
    "| function  | helper | time  | \n",
    "|---|---|---|\n",
    "| fib  | pure python | 2.32 ms |\n",
    "| fib_cython  | cython | 1.02 ms |\n",
    "| fib_cython_type  | cython | 37 µs |\n",
    "| fib_cache  | pure python + cache | 709 ns |\n",
    "| fib_seq  | pure python | 1.28 µs |\n",
    "| fib_seq_cython  | cython | 624 ns |\n",
    "| fib_seq_cython_type  |cython | 52.7 ns |\n",
    "| fib_seq_numba  | numba | 211 ns |"
   ]
  },
  {
   "cell_type": "markdown",
   "metadata": {
    "slideshow": {
     "slide_type": "slide"
    }
   },
   "source": [
    "## Przykład II"
   ]
  },
  {
   "cell_type": "code",
   "execution_count": 23,
   "metadata": {
    "slideshow": {
     "slide_type": "subslide"
    }
   },
   "outputs": [],
   "source": [
    "import random\n",
    "def parse_int():\n",
    "    for i in range(1,1000):\n",
    "        n = random.randint(0,2**32-1)\n",
    "        s = hex(n)\n",
    "        if s[-1]=='L':\n",
    "            s = s[0:-1]\n",
    "        m = int(s,16)\n",
    "        assert m == n"
   ]
  },
  {
   "cell_type": "code",
   "execution_count": 24,
   "metadata": {},
   "outputs": [
    {
     "name": "stdout",
     "output_type": "stream",
     "text": [
      "100 loops, best of 3: 2.24 ms per loop\n"
     ]
    }
   ],
   "source": [
    "%timeit parse_int()"
   ]
  },
  {
   "cell_type": "code",
   "execution_count": 25,
   "metadata": {
    "slideshow": {
     "slide_type": "subslide"
    }
   },
   "outputs": [],
   "source": [
    "%%cython\n",
    "import random\n",
    "def parse_int_cython():\n",
    "    for i in range(1,1000):\n",
    "        n = random.randint(0,2**32-1)\n",
    "        s = hex(n)\n",
    "        if s[-1]=='L':\n",
    "            s = s[0:-1]\n",
    "        m = int(s,16)\n",
    "        assert m == n"
   ]
  },
  {
   "cell_type": "code",
   "execution_count": 26,
   "metadata": {
    "slideshow": {
     "slide_type": "subslide"
    }
   },
   "outputs": [],
   "source": [
    "@jit\n",
    "def parse_int_numba():\n",
    "    for i in range(1,1000):\n",
    "        n = random.randint(0,2**32-1)\n",
    "        s = hex(n)\n",
    "        if s[-1]=='L':\n",
    "            s = s[0:-1]\n",
    "        m = int(s,16)\n",
    "        assert m == n"
   ]
  },
  {
   "cell_type": "code",
   "execution_count": 27,
   "metadata": {
    "slideshow": {
     "slide_type": "subslide"
    }
   },
   "outputs": [
    {
     "name": "stdout",
     "output_type": "stream",
     "text": [
      "100 loops, best of 3: 2.23 ms per loop\n",
      "The slowest run took 68.13 times longer than the fastest. This could mean that an intermediate result is being cached.\n",
      "100 loops, best of 3: 2.66 ms per loop\n"
     ]
    }
   ],
   "source": [
    "%timeit parse_int_cython()\n",
    "%timeit parse_int_numba()"
   ]
  },
  {
   "cell_type": "markdown",
   "metadata": {
    "slideshow": {
     "slide_type": "fragment"
    }
   },
   "source": [
    "### ... did not work :("
   ]
  },
  {
   "cell_type": "markdown",
   "metadata": {
    "slideshow": {
     "slide_type": "slide"
    }
   },
   "source": [
    "#### We can use profiler to egzamine the code"
   ]
  },
  {
   "cell_type": "code",
   "execution_count": 28,
   "metadata": {
    "slideshow": {
     "slide_type": "fragment"
    }
   },
   "outputs": [],
   "source": [
    "%load_ext line_profiler"
   ]
  },
  {
   "cell_type": "code",
   "execution_count": 29,
   "metadata": {},
   "outputs": [
    {
     "name": "stdout",
     "output_type": "stream",
     "text": [
      "Requirement already satisfied: line_profiler in e:\\github\\python_tutorial_env27\\lib\\site-packages\n",
      "Requirement already satisfied: IPython>=0.13 in e:\\github\\python_tutorial_env27\\lib\\site-packages (from line_profiler)\n",
      "Requirement already satisfied: pygments in e:\\github\\python_tutorial_env27\\lib\\site-packages (from IPython>=0.13->line_profiler)\n",
      "Requirement already satisfied: backports.shutil-get-terminal-size; python_version == \"2.7\" in e:\\github\\python_tutorial_env27\\lib\\site-packages (from IPython>=0.13->line_profiler)\n",
      "Requirement already satisfied: simplegeneric>0.8 in e:\\github\\python_tutorial_env27\\lib\\site-packages (from IPython>=0.13->line_profiler)\n",
      "Requirement already satisfied: traitlets>=4.2 in e:\\github\\python_tutorial_env27\\lib\\site-packages (from IPython>=0.13->line_profiler)\n",
      "Requirement already satisfied: setuptools>=18.5 in e:\\github\\python_tutorial_env27\\lib\\site-packages (from IPython>=0.13->line_profiler)\n",
      "Requirement already satisfied: pathlib2; python_version == \"2.7\" or python_version == \"3.3\" in e:\\github\\python_tutorial_env27\\lib\\site-packages (from IPython>=0.13->line_profiler)\n",
      "Requirement already satisfied: prompt-toolkit<2.0.0,>=1.0.4 in e:\\github\\python_tutorial_env27\\lib\\site-packages (from IPython>=0.13->line_profiler)\n",
      "Requirement already satisfied: win-unicode-console>=0.5; sys_platform == \"win32\" and python_version < \"3.6\" in e:\\github\\python_tutorial_env27\\lib\\site-packages (from IPython>=0.13->line_profiler)\n",
      "Requirement already satisfied: colorama; sys_platform == \"win32\" in e:\\github\\python_tutorial_env27\\lib\\site-packages (from IPython>=0.13->line_profiler)\n",
      "Requirement already satisfied: decorator in e:\\github\\python_tutorial_env27\\lib\\site-packages (from IPython>=0.13->line_profiler)\n",
      "Requirement already satisfied: pickleshare in e:\\github\\python_tutorial_env27\\lib\\site-packages (from IPython>=0.13->line_profiler)\n",
      "Requirement already satisfied: enum34; python_version == \"2.7\" in e:\\github\\python_tutorial_env27\\lib\\site-packages (from traitlets>=4.2->IPython>=0.13->line_profiler)\n",
      "Requirement already satisfied: six in e:\\github\\python_tutorial_env27\\lib\\site-packages (from traitlets>=4.2->IPython>=0.13->line_profiler)\n",
      "Requirement already satisfied: ipython-genutils in e:\\github\\python_tutorial_env27\\lib\\site-packages (from traitlets>=4.2->IPython>=0.13->line_profiler)\n",
      "Requirement already satisfied: scandir; python_version < \"3.5\" in e:\\github\\python_tutorial_env27\\lib\\site-packages (from pathlib2; python_version == \"2.7\" or python_version == \"3.3\"->IPython>=0.13->line_profiler)\n",
      "Requirement already satisfied: wcwidth in e:\\github\\python_tutorial_env27\\lib\\site-packages (from prompt-toolkit<2.0.0,>=1.0.4->IPython>=0.13->line_profiler)\n"
     ]
    }
   ],
   "source": [
    "!pip install line_profiler"
   ]
  },
  {
   "cell_type": "code",
   "execution_count": 54,
   "metadata": {
    "slideshow": {
     "slide_type": "fragment"
    }
   },
   "outputs": [],
   "source": [
    "%lprun -s -f parse_int parse_int()"
   ]
  },
  {
   "cell_type": "markdown",
   "metadata": {
    "slideshow": {
     "slide_type": "fragment"
    }
   },
   "source": [
    "We see that most of the time is in generating the random numbers.  This was the intent of the benchmark..."
   ]
  },
  {
   "cell_type": "markdown",
   "metadata": {
    "slideshow": {
     "slide_type": "subslide"
    }
   },
   "source": [
    "## ... numpy?"
   ]
  },
  {
   "cell_type": "code",
   "execution_count": 31,
   "metadata": {
    "slideshow": {
     "slide_type": "fragment"
    }
   },
   "outputs": [],
   "source": [
    "import numpy as np\n",
    "def parse_int1_numpy():\n",
    "    for i in range(1,1000):\n",
    "        n = np.random.randint(0,2**31-1)\n",
    "        s = hex(n)\n",
    "        m = int(s,16)\n",
    "        assert m == n"
   ]
  },
  {
   "cell_type": "code",
   "execution_count": 32,
   "metadata": {
    "slideshow": {
     "slide_type": "fragment"
    }
   },
   "outputs": [
    {
     "name": "stdout",
     "output_type": "stream",
     "text": [
      "1000 loops, best of 3: 1.69 ms per loop\n"
     ]
    }
   ],
   "source": [
    "%timeit parse_int1_numpy()"
   ]
  },
  {
   "cell_type": "code",
   "execution_count": 33,
   "metadata": {
    "slideshow": {
     "slide_type": "subslide"
    }
   },
   "outputs": [],
   "source": [
    "%%cython\n",
    "import numpy as np\n",
    "cimport cython\n",
    "\n",
    "@cython.boundscheck(False)\n",
    "# If set to False, Cython is free to assume that indexing operations ([]-operator) \n",
    "# in the code will not cause any IndexErrors to be raised.\n",
    "@cython.wraparound(False)\n",
    "# In Python arrays can be indexed relative to the end. For example A[-1] indexes \n",
    "# the last value of a list. In C negative indexing is not supported. If set to False, \n",
    "# Cython will not ensure that python indexing is not used.\n",
    "\n",
    "cpdef parse_int_cython_numpy():\n",
    "    cdef:\n",
    "        int i,n,m\n",
    "    for i in range(1,1000):\n",
    "        n = np.random.randint(0,2**31-1)\n",
    "        m = int(hex(n),16)\n",
    "        assert m == n"
   ]
  },
  {
   "cell_type": "markdown",
   "metadata": {
    "slideshow": {
     "slide_type": "fragment"
    }
   },
   "source": [
    "https://github.com/cython/cython/wiki/enhancements-compilerdirectives"
   ]
  },
  {
   "cell_type": "code",
   "execution_count": 34,
   "metadata": {
    "slideshow": {
     "slide_type": "fragment"
    }
   },
   "outputs": [
    {
     "name": "stdout",
     "output_type": "stream",
     "text": [
      "1000 loops, best of 3: 1.47 ms per loop\n"
     ]
    }
   ],
   "source": [
    "%timeit parse_int_cython_numpy()"
   ]
  },
  {
   "cell_type": "markdown",
   "metadata": {
    "slideshow": {
     "slide_type": "subslide"
    }
   },
   "source": [
    "### ... maybe the order of oparations?"
   ]
  },
  {
   "cell_type": "code",
   "execution_count": 35,
   "metadata": {
    "slideshow": {
     "slide_type": "fragment"
    }
   },
   "outputs": [],
   "source": [
    "def parse_int_vec():\n",
    "    n = np.random.randint(2^31-1,size=1000)\n",
    "    for i in range(1,1000):\n",
    "        ni = n[i]\n",
    "        s = hex(ni)\n",
    "        if s[-1]=='L':\n",
    "            s = s[0:-1]\n",
    "        m = int(s,16)\n",
    "        assert m == ni"
   ]
  },
  {
   "cell_type": "code",
   "execution_count": 36,
   "metadata": {
    "slideshow": {
     "slide_type": "fragment"
    }
   },
   "outputs": [
    {
     "name": "stdout",
     "output_type": "stream",
     "text": [
      "1000 loops, best of 3: 758 µs per loop\n"
     ]
    }
   ],
   "source": [
    "%timeit parse_int_vec()"
   ]
  },
  {
   "cell_type": "markdown",
   "metadata": {
    "slideshow": {
     "slide_type": "subslide"
    }
   },
   "source": [
    "### ... numpy once again"
   ]
  },
  {
   "cell_type": "code",
   "execution_count": 37,
   "metadata": {
    "slideshow": {
     "slide_type": "fragment"
    }
   },
   "outputs": [],
   "source": [
    "vhex = np.vectorize(hex)\n",
    "vint = np.vectorize(int)\n",
    "\n",
    "def parse_int_numpy():\n",
    "    n = np.random.randint(0,2**31-1,1000)\n",
    "    s = vhex(n)\n",
    "    m = vint(s,16)\n",
    "    np.all(m == n)\n",
    "    return s"
   ]
  },
  {
   "cell_type": "code",
   "execution_count": 38,
   "metadata": {
    "slideshow": {
     "slide_type": "fragment"
    }
   },
   "outputs": [
    {
     "name": "stdout",
     "output_type": "stream",
     "text": [
      "1000 loops, best of 3: 449 µs per loop\n"
     ]
    }
   ],
   "source": [
    "%timeit parse_int_numpy()"
   ]
  },
  {
   "cell_type": "markdown",
   "metadata": {
    "slideshow": {
     "slide_type": "subslide"
    }
   },
   "source": [
    "### ... and the winner is ..."
   ]
  },
  {
   "cell_type": "code",
   "execution_count": 39,
   "metadata": {
    "slideshow": {
     "slide_type": "fragment"
    }
   },
   "outputs": [],
   "source": [
    "%%cython\n",
    "import numpy as np\n",
    "import cython\n",
    "\n",
    "@cython.boundscheck(False)\n",
    "@cython.wraparound(False)\n",
    "cpdef parse_int_vec_cython():\n",
    "    cdef:\n",
    "        int i,m\n",
    "        int[:] n\n",
    "    n = np.random.randint(0,2**31-1,1000)\n",
    "    for i in range(1,1000):\n",
    "        m = int(hex(n[i]),16)\n",
    "        assert m == n[i]"
   ]
  },
  {
   "cell_type": "code",
   "execution_count": 40,
   "metadata": {
    "slideshow": {
     "slide_type": "fragment"
    }
   },
   "outputs": [
    {
     "name": "stdout",
     "output_type": "stream",
     "text": [
      "1000 loops, best of 3: 268 µs per loop\n"
     ]
    }
   ],
   "source": [
    "%timeit parse_int_vec_cython()"
   ]
  },
  {
   "cell_type": "markdown",
   "metadata": {
    "slideshow": {
     "slide_type": "slide"
    }
   },
   "source": [
    "## Przykład III"
   ]
  },
  {
   "cell_type": "code",
   "execution_count": 41,
   "metadata": {
    "slideshow": {
     "slide_type": "subslide"
    }
   },
   "outputs": [],
   "source": [
    "import numpy as np\n",
    "A = np.random.randint(5, size=(100, 100), dtype=np.uint8)\n",
    "B = np.random.randint(5, size=(100, 100), dtype=np.uint8)"
   ]
  },
  {
   "cell_type": "code",
   "execution_count": 42,
   "metadata": {
    "slideshow": {
     "slide_type": "subslide"
    }
   },
   "outputs": [],
   "source": [
    "import numpy as np\n",
    "\n",
    "def my_add(a, b):\n",
    "    dtype = a.dtype\n",
    "    height = a.shape[0]\n",
    "    width = a.shape[1]\n",
    "\n",
    "    result = np.zeros((height, width), dtype=dtype)\n",
    "\n",
    "    for y in range(height):\n",
    "        for x in range(width):\n",
    "            result[y,x] = a[y,x] + b[y,x]\n",
    "\n",
    "    return result"
   ]
  },
  {
   "cell_type": "code",
   "execution_count": 43,
   "metadata": {
    "slideshow": {
     "slide_type": "fragment"
    }
   },
   "outputs": [
    {
     "name": "stdout",
     "output_type": "stream",
     "text": [
      "100 loops, best of 3: 3.99 ms per loop\n"
     ]
    }
   ],
   "source": [
    "%timeit my_add(A,B)"
   ]
  },
  {
   "cell_type": "code",
   "execution_count": 44,
   "metadata": {
    "slideshow": {
     "slide_type": "subslide"
    }
   },
   "outputs": [],
   "source": [
    "%%cython\n",
    "import numpy as np\n",
    "\n",
    "def my_add_cython(a, b):\n",
    "    dtype = a.dtype\n",
    "    height = a.shape[0]\n",
    "    width = a.shape[1]\n",
    "\n",
    "    result = np.zeros((height, width), dtype=dtype)\n",
    "\n",
    "    for y in range(height):\n",
    "        for x in range(width):\n",
    "            result[y,x] = a[y,x] + b[y,x]\n",
    "\n",
    "    return result"
   ]
  },
  {
   "cell_type": "code",
   "execution_count": 45,
   "metadata": {
    "slideshow": {
     "slide_type": "fragment"
    }
   },
   "outputs": [
    {
     "name": "stdout",
     "output_type": "stream",
     "text": [
      "100 loops, best of 3: 3.12 ms per loop\n"
     ]
    }
   ],
   "source": [
    "%timeit my_add_cython(A,B)"
   ]
  },
  {
   "cell_type": "code",
   "execution_count": 46,
   "metadata": {
    "slideshow": {
     "slide_type": "subslide"
    }
   },
   "outputs": [],
   "source": [
    "%%cython\n",
    "import numpy as np\n",
    "cimport numpy as np\n",
    "\n",
    "DTYPE = np.uint8\n",
    "\n",
    "def my_add_cython_with_types(np.ndarray a, np.ndarray b):\n",
    "    \n",
    "    cdef int height = a.shape[0]\n",
    "    cdef int width = a.shape[1]\n",
    "\n",
    "    cdef np.ndarray result = np.zeros((height, width), dtype=DTYPE)\n",
    "    \n",
    "    cdef int x, y\n",
    "    for y in range(height):\n",
    "        for x in range(width):\n",
    "            result[y,x] = a[y,x] + b[y,x]\n",
    "\n",
    "    return result"
   ]
  },
  {
   "cell_type": "code",
   "execution_count": 47,
   "metadata": {
    "slideshow": {
     "slide_type": "fragment"
    }
   },
   "outputs": [
    {
     "name": "stdout",
     "output_type": "stream",
     "text": [
      "100 loops, best of 3: 3.11 ms per loop\n"
     ]
    }
   ],
   "source": [
    "%timeit my_add_cython_with_types(A,B)"
   ]
  },
  {
   "cell_type": "code",
   "execution_count": 48,
   "metadata": {
    "slideshow": {
     "slide_type": "subslide"
    }
   },
   "outputs": [],
   "source": [
    "%%cython\n",
    "import numpy as np\n",
    "cimport numpy as np\n",
    "\n",
    "DTYPE = np.uint8\n",
    "ctypedef np.uint8_t DTYPE_t\n",
    "\n",
    "def my_add_cython_with_types_2(np.ndarray[DTYPE_t,ndim=2] a, np.ndarray[DTYPE_t,ndim=2] b):\n",
    "    \n",
    "    cdef int height = a.shape[0]\n",
    "    cdef int width = a.shape[1]\n",
    "\n",
    "    cdef np.ndarray[DTYPE_t, ndim=2] result = np.zeros((height, width), dtype=DTYPE)\n",
    "    \n",
    "    cdef int x, y\n",
    "    for y in range(height):\n",
    "        for x in range(width):\n",
    "            result[y,x] = a[y,x] + b[y,x]\n",
    "\n",
    "    return result"
   ]
  },
  {
   "cell_type": "code",
   "execution_count": 49,
   "metadata": {
    "slideshow": {
     "slide_type": "fragment"
    }
   },
   "outputs": [
    {
     "name": "stdout",
     "output_type": "stream",
     "text": [
      "10000 loops, best of 3: 52.7 µs per loop\n"
     ]
    }
   ],
   "source": [
    "%timeit my_add_cython_with_types_2(A,B)"
   ]
  },
  {
   "cell_type": "code",
   "execution_count": 50,
   "metadata": {},
   "outputs": [],
   "source": [
    "from numba.decorators import jit\n",
    "import numpy as np\n",
    "\n",
    "@jit('uint8[:,:](uint8[:,:], uint8[:,:])')\n",
    "def my_add_numba(a, b):\n",
    "    dtype = a.dtype\n",
    "    height = a.shape[0]\n",
    "    width = a.shape[1]\n",
    "\n",
    "    result = np.zeros((height, width), dtype=dtype)\n",
    "\n",
    "    for y in range(height):\n",
    "        for x in range(width):\n",
    "            result[y,x] = a[y,x] + b[y,x]\n",
    "\n",
    "    return result"
   ]
  },
  {
   "cell_type": "code",
   "execution_count": 51,
   "metadata": {},
   "outputs": [
    {
     "name": "stdout",
     "output_type": "stream",
     "text": [
      "The slowest run took 44.37 times longer than the fastest. This could mean that an intermediate result is being cached.\n",
      "100000 loops, best of 3: 8.66 µs per loop\n"
     ]
    }
   ],
   "source": [
    "%timeit my_add_numba(A,B)"
   ]
  },
  {
   "cell_type": "markdown",
   "metadata": {
    "slideshow": {
     "slide_type": "subslide"
    }
   },
   "source": [
    "## ... but the winner is ..."
   ]
  },
  {
   "cell_type": "code",
   "execution_count": 52,
   "metadata": {
    "slideshow": {
     "slide_type": "subslide"
    }
   },
   "outputs": [],
   "source": [
    "def my_add_numpy(a, b):\n",
    "    return a+b"
   ]
  },
  {
   "cell_type": "code",
   "execution_count": 53,
   "metadata": {
    "slideshow": {
     "slide_type": "fragment"
    }
   },
   "outputs": [
    {
     "name": "stdout",
     "output_type": "stream",
     "text": [
      "The slowest run took 10.14 times longer than the fastest. This could mean that an intermediate result is being cached.\n",
      "100000 loops, best of 3: 7.47 µs per loop\n"
     ]
    }
   ],
   "source": [
    "%timeit my_add_numpy(A,B)"
   ]
  },
  {
   "cell_type": "markdown",
   "metadata": {
    "slideshow": {
     "slide_type": "slide"
    }
   },
   "source": [
    "Sources:\n",
    "- http://jakevdp.github.io/blog/2012/08/24/numba-vs-cython/\n",
    "- https://www.ibm.com/developerworks/community/blogs/jfp/entry/Python_Meets_Julia_Micro_Performance?lang=en\n",
    "- https://www.youtube.com/watch?v=SUf-ALvk3cU\n"
   ]
  },
  {
   "cell_type": "markdown",
   "metadata": {
    "slideshow": {
     "slide_type": "subslide"
    }
   },
   "source": [
    "For slideshow in jupyter\n",
    "https://github.com/damianavila/RISE"
   ]
  },
  {
   "cell_type": "markdown",
   "metadata": {},
   "source": [
    "https://www.youtube.com/watch?v=NfnMJMkhDoQ"
   ]
  }
 ],
 "metadata": {
  "celltoolbar": "Slideshow",
  "kernelspec": {
   "display_name": "Python 2",
   "language": "python",
   "name": "python2"
  },
  "language_info": {
   "codemirror_mode": {
    "name": "ipython",
    "version": 2
   },
   "file_extension": ".py",
   "mimetype": "text/x-python",
   "name": "python",
   "nbconvert_exporter": "python",
   "pygments_lexer": "ipython2",
   "version": "2.7.13"
  }
 },
 "nbformat": 4,
 "nbformat_minor": 2
}
