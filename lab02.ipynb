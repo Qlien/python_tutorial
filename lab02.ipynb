{
 "cells": [
  {
   "cell_type": "markdown",
   "metadata": {},
   "source": [
    "## Lab 02"
   ]
  },
  {
   "cell_type": "markdown",
   "metadata": {},
   "source": [
    "### Zadanie 1"
   ]
  },
  {
   "cell_type": "markdown",
   "metadata": {},
   "source": [
    "Dwa napisy są anagramami, jeśli jesteśmy w stanie w taki sposób poprzestawiać litery w jednym napisie, aby uzyskać drugi (nie możemy żadnej litery się pozbyć ani dodać). Przykładowo:\n",
    "\n",
    "  * abcd i dcba są anagramami\n",
    "  * aba i baa są anagramami\n",
    "  * aba i ba nie są anagramami  \n",
    "\n",
    "Zaimplementuj poniższą funkcja tak, aby sprawdzała czy dwa słowa są anagramamy w iterując po każdym słownie maksymalnie raz."
   ]
  },
  {
   "cell_type": "code",
   "execution_count": 5,
   "metadata": {
    "collapsed": false
   },
   "outputs": [
    {
     "name": "stdout",
     "output_type": "stream",
     "text": [
      "True\n",
      "True\n",
      "True\n",
      "True\n",
      "False\n"
     ]
    }
   ],
   "source": [
    "def check_anagram(first, second):\n",
    "    \"\"\"dictionary = dict()\n",
    "    for letter in first:\n",
    "        if letter not in dictionary:\n",
    "            dictionary[letter] = 1\n",
    "        else:\n",
    "            dictionary[letter] += 1\n",
    "            \n",
    "    for letter in second:\n",
    "        if letter not in dictionary:\n",
    "            return False\n",
    "        else:\n",
    "            dictionary[letter] -= 1\n",
    "            \n",
    "    for key in dictionary:\n",
    "        if dictionary[key] != 0:\n",
    "            return False\n",
    "    \n",
    "    return True\"\"\"\n",
    "            \n",
    "    \n",
    "    \n",
    "    #return sorted(first) == sorted(second)\n",
    "    return [False,True][sum([ord(x) for x in first]) == sum([ord(y) for y in second])]\n",
    "\n",
    "print(check_anagram(\"abcd\", \"dcba\") == True)\n",
    "print(check_anagram(\"aba\", \"baa\") == True)\n",
    "print(check_anagram(\"aba\", \"ba\") == False)\n",
    "print(check_anagram(\"tom marvolo riddle \", \"i am lord voldemort\") == True)\n",
    "print(check_anagram(\"aadbcd\", \"abcbcd\")==False)"
   ]
  },
  {
   "cell_type": "markdown",
   "metadata": {},
   "source": [
    "### Zadanie 2"
   ]
  },
  {
   "cell_type": "markdown",
   "metadata": {},
   "source": [
    "Dane jest pewna permutacja liter alfabetu angielskiego w postaci tablicy, na przykład:\n",
    "\n",
    "```python\n",
    "zyxwvutsrqponmlkjihgfedcba\n",
    "```\n",
    "\n",
    "Jest to klucz szyfru podstawieniowego, polegającego na zamianie liter. Napisz dwie funkcje:\n",
    "\n",
    "```python\n",
    "def szyfruj(co, klucz):\n",
    "    pass\n",
    "def rozszyfruj(co, klucz):\n",
    "    pass\n",
    "```\n",
    "\n",
    "które będą realizowały szyfrowanie i rozszyfrowywanie kluczem podstawieniowym. Na przykład\n",
    "\n",
    "```python\n",
    "napis = \"ala ma kota\"\n",
    "szyfruj(napis,\"zyxwvutsrqponmlkjihgfedcba\")\n",
    "// na wyjsciu: zoz nz plgz\n",
    "```"
   ]
  },
  {
   "cell_type": "code",
   "execution_count": 14,
   "metadata": {
    "collapsed": false
   },
   "outputs": [],
   "source": [
    "def szyfruj(co, klucz):\n",
    "    return \"\".join([klucz[ord(l)-ord('a')] if l!= \" \" else \" \" for l in co])\n",
    "    r = \"\"\n",
    "    for c in co:\n",
    "        ord_a = ord(\"a\")\n",
    "        o = ord(c) - ord_a\n",
    "        if c == \" \":\n",
    "            r += \" \"\n",
    "        else:\n",
    "            r += klucz[o]\n",
    "    print(r)\n",
    "\n",
    "\n",
    "\n",
    "def rozszyfruj(co, klucz):\n",
    "    return \"\".join([chr(klucz.index(l) + ord(\"a\")) if l!= \" \" else \" \" for l in co])\n"
   ]
  },
  {
   "cell_type": "code",
   "execution_count": 17,
   "metadata": {
    "collapsed": false
   },
   "outputs": [
    {
     "name": "stdout",
     "output_type": "stream",
     "text": [
      "ala ma kota\n"
     ]
    }
   ],
   "source": [
    "napis = \"ala ma kota\"\n",
    "szyfruj(napis,\"zyxwvutsrqponmlkjihgfedcba\")\n",
    "print(rozszyfruj('zoz nz plgz', \"zyxwvutsrqponmlkjihgfedcba\"))\n"
   ]
  },
  {
   "cell_type": "markdown",
   "metadata": {},
   "source": [
    "### Zadanie 3"
   ]
  },
  {
   "cell_type": "markdown",
   "metadata": {},
   "source": [
    "#### Comprehensions\n",
    "Zapisz każdą z poniższych 4 funkcji w postaci list/dict/set comprehension. Nie należy używać żadnych zmiennych tymczasowych ani dodatkowych linii, każda funkcja ma zostać wyrażona w postaci: <br>\n",
    "```\n",
    "def FUNKCJA(ARGUMENTY):\n",
    "    return COMPREHENSION\n",
    "```"
   ]
  },
  {
   "cell_type": "code",
   "execution_count": 19,
   "metadata": {
    "collapsed": false
   },
   "outputs": [
    {
     "name": "stdout",
     "output_type": "stream",
     "text": [
      "True\n",
      "True\n",
      "True\n",
      "True\n"
     ]
    }
   ],
   "source": [
    "def even_numbers_from_list(data):\n",
    "    \"\"\"Zwraca podlistę \"data\" zawierającą wyłącznie parzyste liczby\"\"\"\n",
    "    result = []\n",
    "    for point in data:\n",
    "        if point % 2 == 0:\n",
    "            result.append(point)\n",
    "    return [ p for p in data if p % 2 == 0]\n",
    "\n",
    "print(even_numbers_from_list([1, 2, 3, 4]) == [2, 4])\n",
    "print(even_numbers_from_list(range(10)) == list(range(0, 10, 2)))\n",
    "print(even_numbers_from_list(range(1000)) == list(range(0, 1000, 2)))\n",
    "print(even_numbers_from_list([10, 2, 3, 4, 6, -3, -4]) == [10, 2, 4, 6, -4])"
   ]
  },
  {
   "cell_type": "code",
   "execution_count": 20,
   "metadata": {
    "collapsed": false
   },
   "outputs": [
    {
     "name": "stdout",
     "output_type": "stream",
     "text": [
      "True\n",
      "True\n"
     ]
    }
   ],
   "source": [
    "def words_analyze(words):\n",
    "    \"\"\"Zwraca listę trójek, gdzie i'ta trójka to (i, i'te słowo, długość i'tego słowa)\"\"\"\n",
    "    result = []\n",
    "    i = 0\n",
    "    for word in words:\n",
    "        result.append((i, word, len(word)))\n",
    "        i += 1\n",
    "    return [(i, word, len(word)) for i, word in enumerate(words)]\n",
    "\n",
    "print(words_analyze(['tomek', 'jadzia']) == [(0, 'tomek', 5), (1, 'jadzia', 6)])\n",
    "print(words_analyze([]) == [])"
   ]
  },
  {
   "cell_type": "code",
   "execution_count": 21,
   "metadata": {
    "collapsed": false
   },
   "outputs": [
    {
     "name": "stdout",
     "output_type": "stream",
     "text": [
      "True\n",
      "True\n",
      "True\n"
     ]
    }
   ],
   "source": [
    "def count_words_starting_with_given_letter(text, letter):\n",
    "    \"\"\"Zwraca słownik gdzie kluczami są wszystkie słowa występujące w tekście \n",
    "    rozpoczynające się na zadaną literę, a wartością ile razy wystąpiy\"\"\"\n",
    "    result = {}\n",
    "    for word in text.split():\n",
    "        if word[0] == letter:\n",
    "            if word not in result:\n",
    "                result[word] = 1\n",
    "            else:\n",
    "                result[word] += 1\n",
    "    return {word:text.split().count(word) for word in text.split() if word[0] == letter}\n",
    "\n",
    "print(count_words_starting_with_given_letter('ola ma kota o imieniu ola', 'o') == {'ola': 2, 'o': 1})\n",
    "print(count_words_starting_with_given_letter('ola ma kota o imieniu ola', 'k') == {'kota': 1})\n",
    "print(count_words_starting_with_given_letter('ola ma kota o imieniu ola', 'x') == {})"
   ]
  },
  {
   "cell_type": "markdown",
   "metadata": {},
   "source": [
    "### Zadanie 4"
   ]
  },
  {
   "cell_type": "markdown",
   "metadata": {},
   "source": [
    "#### _Primes_ ponownie\n",
    "Zaimplementuj funckje z poprzednich ćwiczeń za pomocą _set comperhension_, tak aby cała jej implementacja zmieściła się w jednej linii (jak w powyższych zadaniach)"
   ]
  },
  {
   "cell_type": "code",
   "execution_count": null,
   "metadata": {
    "collapsed": true
   },
   "outputs": [],
   "source": [
    "from math import sqrt\n",
    "\n",
    "def primes(N):\n",
    "    \"\"\"Zwraca zbiór liczb pierwszych od 0 do N włącznie\"\"\"\n",
    "    pass\n",
    "    \n",
    "print(primes(5) == {2, 3, 5})\n",
    "print(primes(10) == {2, 3, 5, 7})\n",
    "print(primes(100) == {2, 3, 5, 7, 11, 13, 17, 19, 23, 29, 31, 37, 41, 43, 47, 53, 59, 61, 67, 71, 73, 79, 83, 89, 97})"
   ]
  },
  {
   "cell_type": "markdown",
   "metadata": {},
   "source": [
    "### Zadanie 5"
   ]
  },
  {
   "cell_type": "markdown",
   "metadata": {},
   "source": [
    "Wykorzystując znieżdzenia generatorów list ([https://www.python.org/dev/peps/pep-0202/](https://www.python.org/dev/peps/pep-0202/))  napisz funkcje, która\n",
    "* wypisze wszystkie pary (x,y) gdzie 0 < x < n oraz 0 < y < n"
   ]
  },
  {
   "cell_type": "code",
   "execution_count": 22,
   "metadata": {
    "collapsed": true
   },
   "outputs": [],
   "source": [
    "def func1(n):\n",
    "    return [(i,j) for i in range(n) for j in range(n)]"
   ]
  },
  {
   "cell_type": "code",
   "execution_count": 23,
   "metadata": {
    "collapsed": false
   },
   "outputs": [
    {
     "name": "stdout",
     "output_type": "stream",
     "text": [
      "True\n",
      "True\n"
     ]
    }
   ],
   "source": [
    "print(func1(3)==[(0, 0), (0, 1), (0, 2), (1, 0), (1, 1), (1, 2), (2, 0), (2, 1), (2, 2)])\n",
    "print(func1(0)==[])"
   ]
  },
  {
   "cell_type": "markdown",
   "metadata": {},
   "source": [
    "* wypisze tylko takie pary dla których x < y"
   ]
  },
  {
   "cell_type": "code",
   "execution_count": 35,
   "metadata": {
    "collapsed": true
   },
   "outputs": [],
   "source": [
    "def func2(n):\n",
    "    return sorted([(j,i) for i in range(n) for j in range(i)])"
   ]
  },
  {
   "cell_type": "code",
   "execution_count": 36,
   "metadata": {
    "collapsed": false
   },
   "outputs": [
    {
     "name": "stdout",
     "output_type": "stream",
     "text": [
      "True\n",
      "[(0, 1), (0, 2), (0, 3), (1, 2), (1, 3), (2, 3)]\n",
      "True\n"
     ]
    }
   ],
   "source": [
    "print(func2(3)==[(0, 1), (0, 2), (1, 2)])\n",
    "print(func2(4)==[(0, 1), (0, 2), (0, 3), (1, 2), (1, 3), (2, 3)])"
   ]
  },
  {
   "cell_type": "markdown",
   "metadata": {},
   "source": [
    "* wypisze tylko takie pary dla których x > y"
   ]
  },
  {
   "cell_type": "code",
   "execution_count": 39,
   "metadata": {
    "collapsed": false
   },
   "outputs": [],
   "source": [
    "def func3(n):\n",
    "    return [(i,j) for i in range(n) for j in range(i)]"
   ]
  },
  {
   "cell_type": "code",
   "execution_count": 40,
   "metadata": {
    "collapsed": false
   },
   "outputs": [
    {
     "name": "stdout",
     "output_type": "stream",
     "text": [
      "True\n",
      "True\n"
     ]
    }
   ],
   "source": [
    "print(func3(3)==[(1, 0), (2, 0), (2, 1)])\n",
    "print(func3(4)==[(1, 0), (2, 0), (2, 1), (3, 0), (3, 1), (3, 2)])"
   ]
  },
  {
   "cell_type": "markdown",
   "metadata": {},
   "source": [
    "### Zadanie 6"
   ]
  },
  {
   "cell_type": "markdown",
   "metadata": {},
   "source": [
    "Napisz funkcję `powerset`, która zwróci listę wszystkich podzbiorów zadanej listy przekazanej jako argument"
   ]
  },
  {
   "cell_type": "code",
   "execution_count": 1,
   "metadata": {
    "collapsed": true
   },
   "outputs": [],
   "source": [
    "def powerset(x):\n",
    "    the_set = [{}]\n",
    "    for item in x:\n",
    "        the_set += [old_set + {item} for old_set in the_set]\n",
    "    return the_set"
   ]
  },
  {
   "cell_type": "code",
   "execution_count": 2,
   "metadata": {
    "collapsed": false
   },
   "outputs": [
    {
     "name": "stdout",
     "output_type": "stream",
     "text": [
      "True\n",
      "True\n",
      "True\n"
     ]
    }
   ],
   "source": [
    "print(powerset('abc')==[[], ['a'], ['b'], ['a', 'b'], ['c'], ['a', 'c'], ['b', 'c'], ['a', 'b', 'c']])\n",
    "print(powerset([1, 2, 3])==[[], [1], [2], [1, 2], [3], [1, 3], [2, 3], [1, 2, 3]])\n",
    "print(powerset(['abc', 5, 6])==[[], ['abc'], [5], ['abc', 5], [6], ['abc', 6], [5, 6], ['abc', 5, 6]])"
   ]
  },
  {
   "cell_type": "markdown",
   "metadata": {},
   "source": [
    "## Zadanie dodatkowe\n",
    "Napisz funkcję primes jeszcze raz, tym razem jednak nie wolno Ci użyć:\n",
    "\n",
    "* więcej jak stałej ilości pamięci (nie można alokować żadnej struktury o wielkości zależnejod N)\n",
    "* kodu, który sprawi że dla N=100000 będzie się ona liczyć więcej jak kilka-kilkanaście sekund\n",
    "* operatorów <, >, ==, !=\n",
    "oraz: <br>\n",
    "A) funkcji range,<br>\n",
    "B) pętli (for, while, etc.) i operatorów >=, <=\n"
   ]
  },
  {
   "cell_type": "code",
   "execution_count": 13,
   "metadata": {
    "collapsed": false
   },
   "outputs": [
    {
     "name": "stdout",
     "output_type": "stream",
     "text": [
      "Start: \n",
      "Czas wykonania:  4.024717092514038\n",
      "True\n",
      "True\n",
      "True\n"
     ]
    }
   ],
   "source": [
    "def primes_extra_a(N):\n",
    "    \"\"\"Zwraca zbiór liczb pierwszych od 0 do N włącznie\"\"\"\n",
    "    r = set()\n",
    "    i = 2\n",
    "    \n",
    "    def loop(r, i):\n",
    "        for d in r:\n",
    "            if not i % d:\n",
    "                return False\n",
    "        return True\n",
    "        \n",
    "    while(i <= N):\n",
    "        if loop(r, i):\n",
    "            r.add(i)\n",
    "        i+= 1\n",
    "    return r\n",
    "\n",
    "    pass\n",
    "        \n",
    "print('Start: ')\n",
    "import time\n",
    "a = time.time()\n",
    "primes_extra_a(100000)\n",
    "b = time.time()\n",
    "print('Czas wykonania: ', b-a)\n",
    "\n",
    "    \n",
    "print(primes_extra_a(5) == {2, 3, 5})\n",
    "print(primes_extra_a(10) == {2, 3, 5, 7})\n",
    "print(primes_extra_a(100) == {2, 3, 5, 7, 11, 13, 17, 19, 23, 29, 31, 37, 41, 43, 47, 53, 59, 61, 67, 71, 73, 79, 83, 89, 97})"
   ]
  },
  {
   "cell_type": "code",
   "execution_count": 8,
   "metadata": {
    "collapsed": false
   },
   "outputs": [
    {
     "ename": "NameError",
     "evalue": "name 'primes_extra_b' is not defined",
     "output_type": "error",
     "traceback": [
      "\u001b[1;31m---------------------------------------------------------------------------\u001b[0m",
      "\u001b[1;31mNameError\u001b[0m                                 Traceback (most recent call last)",
      "\u001b[1;32m<ipython-input-8-16400022e8f4>\u001b[0m in \u001b[0;36m<module>\u001b[1;34m()\u001b[0m\n\u001b[0;32m      3\u001b[0m     \u001b[1;32mpass\u001b[0m\u001b[1;33m\u001b[0m\u001b[0m\n\u001b[0;32m      4\u001b[0m \u001b[1;33m\u001b[0m\u001b[0m\n\u001b[1;32m----> 5\u001b[1;33m \u001b[0mprint\u001b[0m\u001b[1;33m(\u001b[0m\u001b[0mprimes_extra_b\u001b[0m\u001b[1;33m(\u001b[0m\u001b[1;36m5\u001b[0m\u001b[1;33m)\u001b[0m \u001b[1;33m==\u001b[0m \u001b[1;33m{\u001b[0m\u001b[1;36m2\u001b[0m\u001b[1;33m,\u001b[0m \u001b[1;36m3\u001b[0m\u001b[1;33m,\u001b[0m \u001b[1;36m5\u001b[0m\u001b[1;33m}\u001b[0m\u001b[1;33m)\u001b[0m\u001b[1;33m\u001b[0m\u001b[0m\n\u001b[0m\u001b[0;32m      6\u001b[0m \u001b[0mprint\u001b[0m\u001b[1;33m(\u001b[0m\u001b[0mprimes_extra_b\u001b[0m\u001b[1;33m(\u001b[0m\u001b[1;36m10\u001b[0m\u001b[1;33m)\u001b[0m \u001b[1;33m==\u001b[0m \u001b[1;33m{\u001b[0m\u001b[1;36m2\u001b[0m\u001b[1;33m,\u001b[0m \u001b[1;36m3\u001b[0m\u001b[1;33m,\u001b[0m \u001b[1;36m5\u001b[0m\u001b[1;33m,\u001b[0m \u001b[1;36m7\u001b[0m\u001b[1;33m}\u001b[0m\u001b[1;33m)\u001b[0m\u001b[1;33m\u001b[0m\u001b[0m\n\u001b[0;32m      7\u001b[0m \u001b[0mprint\u001b[0m\u001b[1;33m(\u001b[0m\u001b[0mprimes_extra_b\u001b[0m\u001b[1;33m(\u001b[0m\u001b[1;36m100\u001b[0m\u001b[1;33m)\u001b[0m \u001b[1;33m==\u001b[0m \u001b[1;33m{\u001b[0m\u001b[1;36m2\u001b[0m\u001b[1;33m,\u001b[0m \u001b[1;36m3\u001b[0m\u001b[1;33m,\u001b[0m \u001b[1;36m5\u001b[0m\u001b[1;33m,\u001b[0m \u001b[1;36m7\u001b[0m\u001b[1;33m,\u001b[0m \u001b[1;36m11\u001b[0m\u001b[1;33m,\u001b[0m \u001b[1;36m13\u001b[0m\u001b[1;33m,\u001b[0m \u001b[1;36m17\u001b[0m\u001b[1;33m,\u001b[0m \u001b[1;36m19\u001b[0m\u001b[1;33m,\u001b[0m \u001b[1;36m23\u001b[0m\u001b[1;33m,\u001b[0m \u001b[1;36m29\u001b[0m\u001b[1;33m,\u001b[0m \u001b[1;36m31\u001b[0m\u001b[1;33m,\u001b[0m \u001b[1;36m37\u001b[0m\u001b[1;33m,\u001b[0m \u001b[1;36m41\u001b[0m\u001b[1;33m,\u001b[0m \u001b[1;36m43\u001b[0m\u001b[1;33m,\u001b[0m \u001b[1;36m47\u001b[0m\u001b[1;33m,\u001b[0m \u001b[1;36m53\u001b[0m\u001b[1;33m,\u001b[0m \u001b[1;36m59\u001b[0m\u001b[1;33m,\u001b[0m \u001b[1;36m61\u001b[0m\u001b[1;33m,\u001b[0m \u001b[1;36m67\u001b[0m\u001b[1;33m,\u001b[0m \u001b[1;36m71\u001b[0m\u001b[1;33m,\u001b[0m \u001b[1;36m73\u001b[0m\u001b[1;33m,\u001b[0m \u001b[1;36m79\u001b[0m\u001b[1;33m,\u001b[0m \u001b[1;36m83\u001b[0m\u001b[1;33m,\u001b[0m \u001b[1;36m89\u001b[0m\u001b[1;33m,\u001b[0m \u001b[1;36m97\u001b[0m\u001b[1;33m}\u001b[0m\u001b[1;33m)\u001b[0m\u001b[1;33m\u001b[0m\u001b[0m\n",
      "\u001b[1;31mNameError\u001b[0m: name 'primes_extra_b' is not defined"
     ]
    }
   ],
   "source": [
    "def primes_extra_B(N):\n",
    "    \"\"\"Zwraca zbiór liczb pierwszych od 0 do N włącznie\"\"\"\n",
    "    pass\n",
    "\n",
    "print(primes_extra_b(5) == {2, 3, 5})\n",
    "print(primes_extra_b(10) == {2, 3, 5, 7})\n",
    "print(primes_extra_b(100) == {2, 3, 5, 7, 11, 13, 17, 19, 23, 29, 31, 37, 41, 43, 47, 53, 59, 61, 67, 71, 73, 79, 83, 89, 97})"
   ]
  },
  {
   "cell_type": "code",
   "execution_count": null,
   "metadata": {
    "collapsed": true
   },
   "outputs": [],
   "source": []
  }
 ],
 "metadata": {
  "kernelspec": {
   "display_name": "Python 3",
   "language": "python",
   "name": "python3"
  },
  "language_info": {
   "codemirror_mode": {
    "name": "ipython",
    "version": 3
   },
   "file_extension": ".py",
   "mimetype": "text/x-python",
   "name": "python",
   "nbconvert_exporter": "python",
   "pygments_lexer": "ipython3",
   "version": "3.5.0"
  }
 },
 "nbformat": 4,
 "nbformat_minor": 2
}
