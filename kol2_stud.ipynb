{
 "cells": [
  {
   "cell_type": "markdown",
   "metadata": {},
   "source": [
    "# Zadania na kolokwium 2"
   ]
  },
  {
   "cell_type": "markdown",
   "metadata": {},
   "source": [
    "## Zadanie 1"
   ]
  },
  {
   "cell_type": "code",
   "execution_count": null,
   "metadata": {
    "collapsed": true
   },
   "outputs": [],
   "source": [
    "Przygotuj funkcję, która usunie duplikaty z listy."
   ]
  },
  {
   "cell_type": "code",
   "execution_count": null,
   "metadata": {
    "collapsed": true
   },
   "outputs": [],
   "source": [
    "my_list = ['art', 'lean', 'desk', 'flavor', 'compare', 'secretive', 'narrow', 'flavor', 'flavor', 'miami', 'teaching',\n",
    "           'fire', 'rate', 'light', 'jump', 'offer', 'fold', 'abstract', 'box', 'story', 'bomb', 'grape', 'grin',\n",
    "           'jackhammer', 'torchlight', 'flugelhorn', 'verkrampte', 'grandchild', 'witchcraft', 'pawnbroker',\n",
    "           'cowpuncher', 'grandchild', 'protectrix', 'python', 'java', 'c++', 'monitor', 'mafia', 'think',\n",
    "           'new', 'york', 'fold', 'abstract', 'box', 'story', 'bomb', 'grape', 'grin', 'jackhammer', 'torchlight',\n",
    "           'flugelhorn', 'verkrampte', 'grandchild', 'witchcraft', 'pawnbroker', 'cowpuncher', 'grandchild',\n",
    "           'protectrix', 'python', 'java', 'c++', 'monitor', 'mafia', 'think', 'new', 'york', 'anaconda', 'apple',\n",
    "           'banana', 'shake', 'ipod', 'mutation', 'process', 'thread', 'water', 'drink', 'tea', 'cola', 'fender',\n",
    "           'steering', 'wheel', 'grape', 'bean', 'eban', 'iphone', 'android', 'keyboard', 'thinking', 'speaker', 'loud',\n",
    "           'permission', 'denied', 'natural', 'language', 'miracle', 'my', 'name', 'is', 'bond', 'dance']\n",
    "\n",
    "def f(given_list):\n",
    "    # .........\n",
    "    \n",
    "    \n",
    "print(f(my_list) == 71)"
   ]
  },
  {
   "cell_type": "markdown",
   "metadata": {},
   "source": [
    "### Rozwiązanie"
   ]
  },
  {
   "cell_type": "code",
   "execution_count": null,
   "metadata": {
    "collapsed": true
   },
   "outputs": [],
   "source": [
    "# zwykłe przeiterowanie przez listę i sprawdzenie czy już wcześniej element nie wystąpił\n",
    "def f1(given_list):\n",
    "    my_list2 = []\n",
    "    for word in given_list:\n",
    "        if word not in my_list2:\n",
    "            my_list2.append(word)\n",
    "    return my_list2"
   ]
  },
  {
   "cell_type": "code",
   "execution_count": null,
   "metadata": {
    "collapsed": true
   },
   "outputs": [],
   "source": [
    "# udoskonalenie poprzedniego pomysłu poprzed dodanie mapy do odczytu\n",
    "def f2(given_list):\n",
    "    seen = {}\n",
    "    my_list3 = []\n",
    "    for item in given_list:\n",
    "        marker = item\n",
    "        if marker in seen: continue\n",
    "        seen[marker] = 1\n",
    "        my_list3.append(item)\n",
    "    return my_list3"
   ]
  },
  {
   "cell_type": "code",
   "execution_count": null,
   "metadata": {
    "collapsed": true
   },
   "outputs": [],
   "source": [
    "# comprehension\n",
    "def f3(given_list):\n",
    "    my_list3 = []\n",
    "    [my_list3.append(word) for word in given_list if not my_list3.count(word)]\n",
    "    return my_list3"
   ]
  },
  {
   "cell_type": "code",
   "execution_count": null,
   "metadata": {
    "collapsed": true
   },
   "outputs": [],
   "source": [
    "# udoskonalone comprehension - użyty set do odczytu\n",
    "def f4(given_list):\n",
    "    seen = set()\n",
    "    my_list4 = [word for word in given_list if word not in seen and not seen.add(word)]\n",
    "    return my_list4"
   ]
  },
  {
   "cell_type": "code",
   "execution_count": null,
   "metadata": {
    "collapsed": true
   },
   "outputs": [],
   "source": [
    "# od Pythona 3.5 użycie OrderedDict (implementacja w c++) - O(N)\n",
    "from collections import OrderedDict\n",
    "\n",
    "def f5(given_list):\n",
    "    return list(OrderedDict.fromkeys(given_list))"
   ]
  },
  {
   "cell_type": "markdown",
   "metadata": {},
   "source": [
    "Proszę we własnym zakresie obliczyć czasy wykonania powyższych rozwiązań."
   ]
  },
  {
   "cell_type": "markdown",
   "metadata": {},
   "source": [
    "## Zadanie 2"
   ]
  },
  {
   "cell_type": "markdown",
   "metadata": {},
   "source": [
    "Popraw poniższy kod na bardziej optymalny (wykorzystaj collections.Counter)"
   ]
  },
  {
   "cell_type": "code",
   "execution_count": null,
   "metadata": {
    "collapsed": true
   },
   "outputs": [],
   "source": [
    "A = [\"Cupcake\", \"ipsum\", \"dolor\", \"sit\", \"amet\", \"marshmallow\", \"Cupcake\", \"ipsum\", \"Cupcake\"]\n",
    "\n",
    "d = dict()\n",
    "for a in A:\n",
    "    if a not in d:\n",
    "        d[a] = 1\n",
    "    else:\n",
    "        d[a] += 1\n",
    "\n",
    "most_common = []\n",
    "for key in sorted(d, key=d.get, reverse=True)[:3]:\n",
    "    most_common.append((key, d[key]))\n",
    "    print(\"%s: %i\" % (key, d[key]))\n",
    "\n",
    "print(most_common)"
   ]
  },
  {
   "cell_type": "markdown",
   "metadata": {},
   "source": [
    "### Rozwiązanie"
   ]
  },
  {
   "cell_type": "code",
   "execution_count": null,
   "metadata": {
    "collapsed": true
   },
   "outputs": [],
   "source": [
    "from collections import Counter\n",
    "\n",
    "print(Counter(A).most_common(3))"
   ]
  }
 ],
 "metadata": {
  "kernelspec": {
   "display_name": "Python 3",
   "language": "python",
   "name": "python3"
  },
  "language_info": {
   "codemirror_mode": {
    "name": "ipython",
    "version": 3
   },
   "file_extension": ".py",
   "mimetype": "text/x-python",
   "name": "python",
   "nbconvert_exporter": "python",
   "pygments_lexer": "ipython3",
   "version": "3.6.2"
  }
 },
 "nbformat": 4,
 "nbformat_minor": 2
}
