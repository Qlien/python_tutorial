{
 "cells": [
  {
   "cell_type": "markdown",
   "metadata": {},
   "source": [
    "# Zadania na kolokwium 2"
   ]
  },
  {
   "cell_type": "markdown",
   "metadata": {},
   "source": [
    "## Zadanie 1"
   ]
  },
  {
   "cell_type": "code",
   "execution_count": null,
   "metadata": {
    "collapsed": true
   },
   "outputs": [],
   "source": [
    "Przygotuj funkcję, która usunie duplikaty z listy."
   ]
  },
  {
   "cell_type": "code",
   "execution_count": null,
   "metadata": {
    "collapsed": true
   },
   "outputs": [],
   "source": [
    "my_list = ['art', 'lean', 'desk', 'flavor', 'compare', 'secretive', 'narrow', 'flavor', 'flavor', 'miami', 'teaching',\n",
    "           'fire', 'rate', 'light', 'jump', 'offer', 'fold', 'abstract', 'box', 'story', 'bomb', 'grape', 'grin',\n",
    "           'jackhammer', 'torchlight', 'flugelhorn', 'verkrampte', 'grandchild', 'witchcraft', 'pawnbroker',\n",
    "           'cowpuncher', 'grandchild', 'protectrix', 'python', 'java', 'c++', 'monitor', 'mafia', 'think',\n",
    "           'new', 'york', 'fold', 'abstract', 'box', 'story', 'bomb', 'grape', 'grin', 'jackhammer', 'torchlight',\n",
    "           'flugelhorn', 'verkrampte', 'grandchild', 'witchcraft', 'pawnbroker', 'cowpuncher', 'grandchild',\n",
    "           'protectrix', 'python', 'java', 'c++', 'monitor', 'mafia', 'think', 'new', 'york', 'anaconda', 'apple',\n",
    "           'banana', 'shake', 'ipod', 'mutation', 'process', 'thread', 'water', 'drink', 'tea', 'cola', 'fender',\n",
    "           'steering', 'wheel', 'grape', 'bean', 'eban', 'iphone', 'android', 'keyboard', 'thinking', 'speaker', 'loud',\n",
    "           'permission', 'denied', 'natural', 'language', 'miracle', 'my', 'name', 'is', 'bond', 'dance']\n",
    "\n",
    "def f(given_list):\n",
    "    # .........\n",
    "    \n",
    "    \n",
    "print(f(my_list) == 71)"
   ]
  },
  {
   "cell_type": "markdown",
   "metadata": {},
   "source": [
    "### Rozwiązanie"
   ]
  },
  {
   "cell_type": "code",
   "execution_count": null,
   "metadata": {
    "collapsed": true
   },
   "outputs": [],
   "source": [
    "# zwykłe przeiterowanie przez listę i sprawdzenie czy już wcześniej element nie wystąpił\n",
    "def f1(given_list):\n",
    "    my_list2 = []\n",
    "    for word in given_list:\n",
    "        if word not in my_list2:\n",
    "            my_list2.append(word)\n",
    "    return my_list2"
   ]
  },
  {
   "cell_type": "code",
   "execution_count": null,
   "metadata": {
    "collapsed": true
   },
   "outputs": [],
   "source": [
    "# udoskonalenie poprzedniego pomysłu poprzed dodanie mapy do odczytu\n",
    "def f2(given_list):\n",
    "    seen = {}\n",
    "    my_list3 = []\n",
    "    for item in given_list:\n",
    "        marker = item\n",
    "        if marker in seen: continue\n",
    "        seen[marker] = 1\n",
    "        my_list3.append(item)\n",
    "    return my_list3"
   ]
  },
  {
   "cell_type": "code",
   "execution_count": null,
   "metadata": {
    "collapsed": true
   },
   "outputs": [],
   "source": [
    "# comprehension\n",
    "def f3(given_list):\n",
    "    my_list3 = []\n",
    "    [my_list3.append(word) for word in given_list if not my_list3.count(word)]\n",
    "    return my_list3"
   ]
  },
  {
   "cell_type": "code",
   "execution_count": null,
   "metadata": {
    "collapsed": true
   },
   "outputs": [],
   "source": [
    "# udoskonalone comprehension - użyty set do odczytu\n",
    "def f4(given_list):\n",
    "    seen = set()\n",
    "    my_list4 = [word for word in given_list if word not in seen and not seen.add(word)]\n",
    "    return my_list4"
   ]
  },
  {
   "cell_type": "code",
   "execution_count": null,
   "metadata": {
    "collapsed": true
   },
   "outputs": [],
   "source": [
    "# od Pythona 3.5 użycie OrderedDict (implementacja w c++) - O(N)\n",
    "from collections import OrderedDict\n",
    "\n",
    "def f5(given_list):\n",
    "    return list(OrderedDict.fromkeys(given_list))"
   ]
  },
  {
   "cell_type": "markdown",
   "metadata": {},
   "source": [
    "Proszę we własnym zakresie obliczyć czasy wykonania powyższych rozwiązań."
   ]
  },
  {
   "cell_type": "markdown",
   "metadata": {},
   "source": [
    "## Zadanie 2"
   ]
  },
  {
   "cell_type": "markdown",
   "metadata": {},
   "source": [
    "Popraw poniższy kod na bardziej optymalny (wykorzystaj collections.Counter)"
   ]
  },
  {
   "cell_type": "code",
   "execution_count": null,
   "metadata": {
    "collapsed": true
   },
   "outputs": [],
   "source": [
    "A = [\"Cupcake\", \"ipsum\", \"dolor\", \"sit\", \"amet\", \"marshmallow\", \"Cupcake\", \"ipsum\", \"Cupcake\"]\n",
    "\n",
    "d = dict()\n",
    "for a in A:\n",
    "    if a not in d:\n",
    "        d[a] = 1\n",
    "    else:\n",
    "        d[a] += 1\n",
    "\n",
    "most_common = []\n",
    "for key in sorted(d, key=d.get, reverse=True)[:3]:\n",
    "    most_common.append((key, d[key]))\n",
    "    print(\"%s: %i\" % (key, d[key]))\n",
    "\n",
    "print(most_common)"
   ]
  },
  {
   "cell_type": "markdown",
   "metadata": {},
   "source": [
    "### Rozwiązanie"
   ]
  },
  {
   "cell_type": "code",
   "execution_count": null,
   "metadata": {
    "collapsed": true
   },
   "outputs": [],
   "source": [
    "from collections import Counter\n",
    "\n",
    "print(Counter(A).most_common(3))"
   ]
  },
  {
   "cell_type": "markdown",
   "metadata": {},
   "source": [
    "## Zadanie 3"
   ]
  },
  {
   "cell_type": "markdown",
   "metadata": {},
   "source": [
    "(Treść oryginalna) Korzystając jedynie z numpy zwróć sumę współrzędnych wszystkich elementów równych/mniejszych/większych od czegoś, np:"
   ]
  },
  {
   "cell_type": "code",
   "execution_count": 1,
   "metadata": {
    "collapsed": true
   },
   "outputs": [],
   "source": [
    "import numpy as np\n",
    "\n",
    "x = np.array(\n",
    "[[-2, 2, 3, 4],\n",
    "[5, 3, -1, 8],\n",
    "[9, -4, 11, 12]])"
   ]
  },
  {
   "cell_type": "markdown",
   "metadata": {},
   "source": [
    "Rozwiązanie"
   ]
  },
  {
   "cell_type": "code",
   "execution_count": 2,
   "metadata": {},
   "outputs": [
    {
     "data": {
      "text/plain": [
       "7"
      ]
     },
     "execution_count": 2,
     "metadata": {},
     "output_type": "execute_result"
    }
   ],
   "source": [
    "np.argwhere(x < 3).sum()\n",
    "np.array(np.where(x < 3)).sum()"
   ]
  },
  {
   "cell_type": "markdown",
   "metadata": {},
   "source": [
    "## Zadanie 4"
   ]
  },
  {
   "cell_type": "markdown",
   "metadata": {},
   "source": [
    "Popraw kod na bardziej optymalny. Poniższa funckja zwracaja true jeśli oba napisy mają taką samą trzecią literę od początku oraz drugą od końca."
   ]
  },
  {
   "cell_type": "code",
   "execution_count": 3,
   "metadata": {},
   "outputs": [
    {
     "name": "stdout",
     "output_type": "stream",
     "text": [
      "True\n"
     ]
    }
   ],
   "source": [
    "def f1(message1, message2):\n",
    "    i1 = len(message1) - 1\n",
    "    i2 = len(message2) - 1\n",
    "    i1_result1 = ''\n",
    "    i1_result2 = ''\n",
    "    i2_result1 = ''\n",
    "    i2_result2 = ''\n",
    "    j = 1\n",
    "    for x in message1:\n",
    "        if(j == 3):\n",
    "            i1_result1 = x\n",
    "        if(j == i1):\n",
    "            i1_result2 = x\n",
    "        j = j+1\n",
    "\n",
    "    j = 1\n",
    "    for x in message2:\n",
    "        if(j == 3):\n",
    "            i2_result1 = x\n",
    "        if(j == i2):\n",
    "            i2_result2 = x\n",
    "        j = j+1\n",
    "    return i1_result1 == i2_result1 and i1_result2 == i2_result2\n",
    "\n",
    "print(f1(\"abarypxtw\", \"orakkkasdto\"))"
   ]
  },
  {
   "cell_type": "markdown",
   "metadata": {},
   "source": [
    "Rozwiązanie"
   ]
  },
  {
   "cell_type": "code",
   "execution_count": 4,
   "metadata": {},
   "outputs": [
    {
     "name": "stdout",
     "output_type": "stream",
     "text": [
      "True\n"
     ]
    }
   ],
   "source": [
    "def f2(message1, message2):\n",
    "    return message1[2] == message2[2] and message1[-2] == message2[-2]\n",
    "\n",
    "print(f2(\"abarypxtw\", \"orakkkasdto\"))"
   ]
  },
  {
   "cell_type": "markdown",
   "metadata": {},
   "source": [
    "## Zadanie 5"
   ]
  },
  {
   "cell_type": "code",
   "execution_count": null,
   "metadata": {
    "collapsed": true
   },
   "outputs": [],
   "source": [
    "import itertools\n",
    "def bin_num_gen(N):\n",
    "    \"\"\" Funkcja generuje liste stringów, reprezentujących kolejne liczby binarne od 0 do 2^n.\n",
    "    Bonusowe punkty za one-liner\"\"\"\n",
    "    return ...\n",
    "    \n",
    "print (bin_num_gen(4) == ['0000','0001', '0010', '0011', '0100', '0101', '0110', '0111', '1000', '1001', '1010',\n",
    " '1011', '1100', '1101', '1110', '1111'])"
   ]
  },
  {
   "cell_type": "markdown",
   "metadata": {},
   "source": [
    "Rozwiązanie"
   ]
  },
  {
   "cell_type": "code",
   "execution_count": 5,
   "metadata": {},
   "outputs": [
    {
     "name": "stdout",
     "output_type": "stream",
     "text": [
      "True\n"
     ]
    }
   ],
   "source": [
    "import itertools\n",
    "def bin_num_gen(N):\n",
    "    \"\"\" Funkcja generuje liste stringów, reprezentujących kolejne liczby binarne od 0 do 2^n.\n",
    "    Bonusowe punkty za one-liner\"\"\"\n",
    "    return [\"\".join(str(a) for a in x) for x in itertools.product([0, 1], repeat=N)]\n",
    "    \n",
    "print (bin_num_gen(4) == ['0000','0001', '0010', '0011', '0100', '0101', '0110', '0111', '1000', '1001', '1010',\n",
    " '1011', '1100', '1101', '1110', '1111'])"
   ]
  },
  {
   "cell_type": "code",
   "execution_count": 6,
   "metadata": {},
   "outputs": [
    {
     "name": "stdout",
     "output_type": "stream",
     "text": [
      "True\n"
     ]
    }
   ],
   "source": [
    "import itertools\n",
    "def bin_num_gen(N):\n",
    "    \"\"\" Funkcja generuje liste stringów, reprezentujących kolejne liczby binarne od 0 do 2^n.\n",
    "    Bonusowe punkty za one-liner\"\"\"\n",
    "    res = []\n",
    "    for x in itertools.product([0, 1], repeat=N):\n",
    "        x = [str(a) for a in x]\n",
    "        res.append(\"\".join(x))\n",
    "    return res\n",
    "    \n",
    "print (bin_num_gen(4) == ['0000','0001', '0010', '0011', '0100', '0101', '0110', '0111', '1000', '1001', '1010',\n",
    " '1011', '1100', '1101', '1110', '1111'])"
   ]
  },
  {
   "cell_type": "code",
   "execution_count": 7,
   "metadata": {},
   "outputs": [
    {
     "name": "stdout",
     "output_type": "stream",
     "text": [
      "True\n"
     ]
    }
   ],
   "source": [
    "import itertools\n",
    "def bin_num_gen(N):\n",
    "    \"\"\" Funkcja generuje liste stringów, reprezentujących kolejne liczby binarne od 0 do 2^n.\n",
    "    Bonusowe punkty za one-liner\"\"\"\n",
    "    res = []\n",
    "    for n in range(2**N):\n",
    "        b = str(bin(n))[2:]\n",
    "        res.append('0' * (N-len(b)) + b)\n",
    "    return res\n",
    "        \n",
    "    \n",
    "print (bin_num_gen(4) == ['0000','0001', '0010', '0011', '0100', '0101', '0110', '0111', '1000', '1001', '1010',\n",
    " '1011', '1100', '1101', '1110', '1111'])"
   ]
  },
  {
   "cell_type": "markdown",
   "metadata": {},
   "source": [
    "## Zadanie 6"
   ]
  },
  {
   "cell_type": "code",
   "execution_count": null,
   "metadata": {
    "collapsed": true
   },
   "outputs": [],
   "source": [
    "def make_big_and_ordered(words, order):\n",
    "    \"\"\" Funkcja przyjmuje listę słów oraz listę liczb od 1 do N, gdzie N = długość listy słów.\n",
    "        Zwraca string złożony ze słów rzutowanych na duże listery, w kolejności zgodnej z order\n",
    "        Bonus za one-liner\"\"\"\n",
    "    return ...\n",
    "    \n",
    "words = ['kota', 'ala', 'ma']\n",
    "order = [3, 1, 2]\n",
    "\n",
    "print(make_big_and_ordered(words, order) == \"ALA MA KOTA\")"
   ]
  },
  {
   "cell_type": "markdown",
   "metadata": {},
   "source": [
    "Rozwiązanie "
   ]
  },
  {
   "cell_type": "code",
   "execution_count": 8,
   "metadata": {},
   "outputs": [
    {
     "name": "stdout",
     "output_type": "stream",
     "text": [
      "True\n"
     ]
    }
   ],
   "source": [
    "def make_big_and_ordered(words, order):\n",
    "    \"\"\" Funkcja przyjmuje listę słów oraz listę liczb od 1 do N, gdzie N = długość listy słów.\n",
    "        Zwraca string złożony ze słów rzutowanych na duże listery, w kolejności zgodnej z order\n",
    "        Bonus za one-liner\"\"\"\n",
    "    return \" \".join([x.upper() for _,x in sorted(zip(order,words))])\n",
    "    \n",
    "words = ['kota', 'ala', 'ma']\n",
    "order = [3, 1, 2]\n",
    "\n",
    "print(make_big_and_ordered(words, order) == \"ALA MA KOTA\")"
   ]
  },
  {
   "cell_type": "code",
   "execution_count": 9,
   "metadata": {},
   "outputs": [
    {
     "name": "stdout",
     "output_type": "stream",
     "text": [
      "True\n"
     ]
    }
   ],
   "source": [
    "def make_big_and_ordered(words, order):\n",
    "    \"\"\" Funkcja przyjmuje listę słów oraz listę liczb od 1 do N, gdzie N = długość listy słów.\n",
    "        Zwraca string złożony ze słów rzutowanych na duże listery, w kolejności zgodnej z order\n",
    "        Bonus za one-liner\"\"\"\n",
    "    import numpy as np\n",
    "    words = np.array([x.upper() for x in words])\n",
    "    order = np.array(order).argsort()\n",
    "    return \" \".join(words[order])\n",
    "    \n",
    "    return \" \"\n",
    "    \n",
    "words = ['kota', 'ala', 'ma']\n",
    "order = [3, 1, 2]\n",
    "\n",
    "print(make_big_and_ordered(words, order) == \"ALA MA KOTA\")"
   ]
  },
  {
   "cell_type": "code",
   "execution_count": null,
   "metadata": {
    "collapsed": true
   },
   "outputs": [],
   "source": [
    "def make_big_and_ordered(words, order):\n",
    "    \"\"\" Funkcja przyjmuje listę słów oraz listę liczb od 1 do N, gdzie N = długość listy słów.\n",
    "        Zwraca string złożony ze słów rzutowanych na duże listery, w kolejności zgodnej z order\n",
    "        Bonus za one-liner\"\"\"\n",
    "    words.sort(key=dict(zip(words, order)).get)\n",
    "    return \" \".join([x.upper() for x in words])\n",
    "\n",
    "    \n",
    "words = ['kota', 'ala', 'ma']\n",
    "order = [3, 1, 2]\n",
    "\n",
    "print(make_big_and_ordered(words, order) == \"ALA MA KOTA\")"
   ]
  },
  {
   "cell_type": "markdown",
   "metadata": {},
   "source": [
    "## Zadanie 7"
   ]
  },
  {
   "cell_type": "code",
   "execution_count": null,
   "metadata": {
    "collapsed": true
   },
   "outputs": [],
   "source": [
    "import copy\n",
    "\n",
    "a = [1, 2, 3]\n",
    "b = [4, 5, 6]\n",
    "c = [a, b]\n",
    "\n",
    "d = copy.copy(c)\n",
    "c[0][0] = \"A\"\n",
    "assert(d[0][0] == 1)"
   ]
  },
  {
   "cell_type": "markdown",
   "metadata": {},
   "source": [
    "Dlaczego powyższy kod nie działa? Poprawić go."
   ]
  },
  {
   "cell_type": "markdown",
   "metadata": {},
   "source": [
    "Rozwiąznie"
   ]
  },
  {
   "cell_type": "code",
   "execution_count": null,
   "metadata": {
    "collapsed": true
   },
   "outputs": [],
   "source": [
    "d = copy.deepcopy(c)"
   ]
  },
  {
   "cell_type": "markdown",
   "metadata": {},
   "source": [
    "## Zadanie 8"
   ]
  },
  {
   "cell_type": "markdown",
   "metadata": {},
   "source": [
    "Popraw poniższy kod na bardziej optymalny (wykorzystaj collections.defaultdict)"
   ]
  },
  {
   "cell_type": "code",
   "execution_count": 11,
   "metadata": {},
   "outputs": [
    {
     "name": "stdout",
     "output_type": "stream",
     "text": [
      "[('Smith', [('C++', 'Advanced'), ('Java', 'Intermediate')]), ('Mary', [('Java', 'Beginner'), ('C#', 'Advanced')]), ('John', [('Python', 'Intermediate')]), ('Agnes', [('Python', 'Beginner')])]\n"
     ]
    }
   ],
   "source": [
    "people = [('Smith',  ('C++', 'Advanced')),\n",
    "          ('Mary', ('Java', 'Beginner')),\n",
    "          ('John', ('Python', 'Intermediate')),\n",
    "          ('Smith',('Java', 'Intermediate')),\n",
    "          ('Agnes', ('Python', 'Beginner')),\n",
    "          ('Mary', ('C#', 'Advanced'))]\n",
    "\n",
    "d = dict()\n",
    "\n",
    "for person, skill in people:\n",
    "    if person not in d:\n",
    "        d[person] = []\n",
    "    d[person].append(skill)\n",
    "\n",
    "print(list(d.items()))"
   ]
  },
  {
   "cell_type": "markdown",
   "metadata": {},
   "source": [
    "Rozwiązanie"
   ]
  },
  {
   "cell_type": "code",
   "execution_count": 12,
   "metadata": {},
   "outputs": [
    {
     "name": "stdout",
     "output_type": "stream",
     "text": [
      "[('Smith', [('C++', 'Advanced'), ('Java', 'Intermediate')]), ('Mary', [('Java', 'Beginner'), ('C#', 'Advanced')]), ('John', [('Python', 'Intermediate')]), ('Agnes', [('Python', 'Beginner')])]\n"
     ]
    }
   ],
   "source": [
    "from collections import defaultdict\n",
    "\n",
    "dd = defaultdict(list)\n",
    "\n",
    "for person, skill in people:\n",
    "    dd[person].append(skill)\n",
    "\n",
    "print(list(dd.items()))"
   ]
  },
  {
   "cell_type": "markdown",
   "metadata": {},
   "source": [
    "## Zadanie 9"
   ]
  },
  {
   "cell_type": "markdown",
   "metadata": {},
   "source": [
    "Zasymuluj 100000 rzutów 2 standardowymi 6-ściennymi kostkami do gry. Policz z danych średnią sumę oczek i prawdopodobieństwo, że suma oczek będzie silnie mniejsza od 7."
   ]
  },
  {
   "cell_type": "markdown",
   "metadata": {},
   "source": [
    "Rozwiązanie"
   ]
  },
  {
   "cell_type": "code",
   "execution_count": null,
   "metadata": {
    "collapsed": true
   },
   "outputs": [],
   "source": [
    "X = np.random.randint(1, 7, size=(100000, 2)).sum(axis=1)\n",
    "print(X.mean(), (X < 7).sum() / len(X))"
   ]
  },
  {
   "cell_type": "markdown",
   "metadata": {},
   "source": [
    "## Zadanie 10"
   ]
  },
  {
   "cell_type": "code",
   "execution_count": 13,
   "metadata": {},
   "outputs": [
    {
     "name": "stdout",
     "output_type": "stream",
     "text": [
      "True\n"
     ]
    }
   ],
   "source": [
    "list =[ ['Aaaaa','ooo'], ['weeeaa','pawe'], ['Legol','kaka'], ['Semigard', 'kaczka'] ]\n",
    "search = 'kaczka'\n",
    "\n",
    "found = False\n",
    "for i in range (0, len(list)):\n",
    "    if list[i][1]==search:\n",
    "        found = True\n",
    "print(found)"
   ]
  },
  {
   "cell_type": "markdown",
   "metadata": {},
   "source": [
    "Dla podanego słownika powyższy kod sprawdza czy istnieje w nim chociaż jedna para,  w której zadana wartość znajduję się na drugiej pozycji. Znajdź szybsze rozwiązanie (najlepiej na jedną linijkę)."
   ]
  },
  {
   "cell_type": "markdown",
   "metadata": {},
   "source": [
    "Rozwiązanie"
   ]
  },
  {
   "cell_type": "code",
   "execution_count": 14,
   "metadata": {},
   "outputs": [
    {
     "name": "stdout",
     "output_type": "stream",
     "text": [
      "True\n"
     ]
    }
   ],
   "source": [
    "print(any(e[1] == search for e in list))"
   ]
  },
  {
   "cell_type": "markdown",
   "metadata": {},
   "source": [
    "## Zadanie 11"
   ]
  },
  {
   "cell_type": "code",
   "execution_count": 16,
   "metadata": {},
   "outputs": [
    {
     "name": "stdout",
     "output_type": "stream",
     "text": [
      "True\n",
      "3.9595729958628736\n",
      "0.028525388545197483\n"
     ]
    }
   ],
   "source": [
    "#!/usr/bin/env python\n",
    "# -*- coding: utf-8 -*-\n",
    "\n",
    "import random\n",
    "import numpy as np\n",
    "import timeit\n",
    "\n",
    "# Problem: należy przyspieszyć funkcję mnożącą dwie macierze. Podany jest\n",
    "# \"standardowy\" sposób - tak pomnożylibyśmy macierze w C albo C++.\n",
    "# Najprostszym Pythonowym rozwiązaniem będzie wykorzystanie numpy'a - pokazuje\n",
    "# to, że nie powinniśmy sami implementować prostych operacji (zwłaszcza\n",
    "# macierzowych), ponieważ ktoś to już prawdopodobnie zrobił - lepiej,\n",
    "# szybciej i z wykorzystaniem C \"pod spodem\".\n",
    "\n",
    "N = 50\n",
    "M = 100\n",
    "K = 50\n",
    "\n",
    "A = [[random.random() for _ in range(M)] for _ in range(N)]\n",
    "B = [[random.random() for _ in range(K)] for _ in range(M)]\n",
    "# A * B = ?\n",
    "\n",
    "\n",
    "# Proponowany \"zły\" sposób\n",
    "def simple_way():\n",
    "    C = [[0 for _ in range(K)] for _ in range(N)]\n",
    "    for i in range(N):\n",
    "        for j in range(K):\n",
    "            C[i][j] = sum(A[i][k] * B[k][j] for k in range(M))\n",
    "    return C\n",
    "\n",
    "\n",
    "# Możliwe rozwiązanie\n",
    "def numpy_way():\n",
    "    return np.matmul(A, B)\n",
    "\n",
    "\n",
    "C = simple_way()\n",
    "D = numpy_way()\n",
    "\n",
    "# Porównujmemy za pomocą isclose zamiast zwykłej równości ze względu na\n",
    "# niedokładność numeryczną (mogą być pomijalne różnice daleko po przecinku).\n",
    "print(np.all(np.isclose(C, D)))\n",
    "\n",
    "print(timeit.timeit(simple_way, number=100))\n",
    "print(timeit.timeit(numpy_way, number=100))"
   ]
  },
  {
   "cell_type": "markdown",
   "metadata": {},
   "source": [
    "## Zadanie 12"
   ]
  },
  {
   "cell_type": "markdown",
   "metadata": {},
   "source": [
    "Napisac dekorator decor ktory po zadzialaniu funkcji wypisze liste argumentow ktore byly podane w tej funkcji"
   ]
  },
  {
   "cell_type": "code",
   "execution_count": null,
   "metadata": {
    "collapsed": true
   },
   "outputs": [],
   "source": [
    "#test\n",
    "@decor\n",
    "def F(a,b,c=1,d=0):\n",
    "    print('Co zwracam',a*b+c-d);\n",
    "    return a*b+c-d;\n",
    "\n",
    "print(F(1,2,3,4))\n",
    "print(F(3,4,d=5))\n",
    "\"\"\"\n",
    "Odpowiedz:\n",
    "\n",
    "Co zwracam 1\n",
    "[1, 2, 3, 4]\n",
    "1\n",
    "Co zwracam 8\n",
    "[3, 4, 5]\n",
    "8\n",
    "\"\"\"\n",
    "#przykladowe rozwiazanie:\n",
    "\"\"\"\n",
    "def decor(func):\n",
    "    def t(*args,**kwarks):\n",
    "        try:\n",
    "            return func(*args,**kwarks)\n",
    "        finally:\n",
    "            print([v for v in args]+[v for v in kwarks.values()])\n",
    "    return t\n",
    "\n",
    "\"\"\""
   ]
  }
 ],
 "metadata": {
  "kernelspec": {
   "display_name": "Python 3",
   "language": "python",
   "name": "python3"
  },
  "language_info": {
   "codemirror_mode": {
    "name": "ipython",
    "version": 3
   },
   "file_extension": ".py",
   "mimetype": "text/x-python",
   "name": "python",
   "nbconvert_exporter": "python",
   "pygments_lexer": "ipython3",
   "version": "3.6.2"
  }
 },
 "nbformat": 4,
 "nbformat_minor": 2
}
